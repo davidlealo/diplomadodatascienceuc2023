{
  "cells": [
    {
      "cell_type": "markdown",
      "metadata": {
        "id": "8FNzN0Iz9q22",
        "tags": []
      },
      "source": [
        "# Introducción a Python II\n",
        "\n",
        "**Diplomado en Data Science Versión 2023** <br>\n",
        "**Facultad de Matemáticas**<br>\n",
        "**Pontificia Universidad Católica de Chile**\n",
        "\n",
        "---"
      ]
    },
    {
      "cell_type": "markdown",
      "metadata": {
        "id": "oRhwwQwnhfyz"
      },
      "source": [
        "## Ciclos (loops)\n",
        "\n",
        "* Son usados para evaluar una porción de códido reiteradamente. Una sola ejecución de un bloque de código es llamada `iteración` y las estructuras iterativas van a través de múltiples rondas de iteraciones. En Python, las estructuras iterativas son `while` y `for`.\n",
        "* También requieren de una **indentación**.\n",
        "* Para más detalles del funcionamiento interno, puede jugar con un ejemplo usando la herramienta [Python Tutor](https://pythontutor.com/python-debugger.html#mode=edit)."
      ]
    },
    {
      "cell_type": "markdown",
      "metadata": {
        "id": "I6pke5mChfyz"
      },
      "source": [
        "### Ciclo `for`"
      ]
    },
    {
      "cell_type": "markdown",
      "metadata": {
        "id": "LhBncJYPhfyz"
      },
      "source": [
        "* `for`: Es usado para ejecutar un bloque de código una cantidad **predefinida** de veces.\n",
        "* Puede ser usadado con cualquier tipo de objeto iterable (como `listas` o `tuplas`).\n",
        "* También es usado comúnmente con la función `range`.\n",
        "* Su sintaxis es la siguiente:\n",
        "\n",
        "```python\n",
        "for valor in iterable:\n",
        "    accion_1(valor)\n",
        "    accion_2(valor)\n",
        "    ...\n",
        "    accion_n(valor)\n",
        "```\n"
      ]
    },
    {
      "cell_type": "markdown",
      "metadata": {
        "id": "tcc2dLtKhfy0"
      },
      "source": [
        "* Comienza con la palabra clave (o `keyword`) `for`.\n",
        "* Luego se indica una \"variable muda\", tenemos total libertad para elegir su nombre. En este caso usamos la palabra `valor`. Es importante que esta elección sea consistente.\n",
        "* `valor` tomará cada uno de los valores de `iterable`.\n",
        "  \n",
        "Veamos algunos ejemplos:"
      ]
    },
    {
      "cell_type": "code",
      "execution_count": null,
      "metadata": {
        "colab": {
          "base_uri": "https://localhost:8080/"
        },
        "id": "KOq8khcXhfy0",
        "outputId": "d1d5f3fe-0d6e-44be-e8b1-8c99bb8ac710"
      },
      "outputs": [
        {
          "name": "stdout",
          "output_type": "stream",
          "text": [
            "Valor actual: 1\n",
            "El resultado de 1+1 = 2\n",
            "Valor actual: 2\n",
            "El resultado de 2+1 = 3\n",
            "Valor actual: 3\n",
            "El resultado de 3+1 = 4\n",
            "Valor actual: 4\n",
            "El resultado de 4+1 = 5\n",
            "Valor actual: 5\n",
            "El resultado de 5+1 = 6\n"
          ]
        }
      ],
      "source": [
        "iterable = [1, 2, 3, 4, 5]\n",
        "\n",
        "for valor in iterable:\n",
        "    print(f\"Valor actual: {valor}\")\n",
        "    print(f\"El resultado de {valor}+1 = {valor + 1}\")"
      ]
    },
    {
      "cell_type": "markdown",
      "metadata": {
        "id": "L-BffFBIhfy1"
      },
      "source": [
        "* *Suma de números desde el 1 al 20*"
      ]
    },
    {
      "cell_type": "code",
      "execution_count": null,
      "metadata": {
        "colab": {
          "base_uri": "https://localhost:8080/"
        },
        "id": "Ny914UmShfy2",
        "outputId": "cffcf96a-969b-4a6a-ff31-6d44a7bc8853"
      },
      "outputs": [
        {
          "name": "stdout",
          "output_type": "stream",
          "text": [
            "tipo de valores: <class 'range'>\n",
            "lista de valores: [0, 1, 2, 3, 4, 5, 6, 7, 8, 9, 10, 11, 12, 13, 14, 15, 16, 17, 18, 19]\n",
            "2\n",
            "5\n",
            "9\n",
            "14\n",
            "20\n",
            "27\n",
            "35\n",
            "44\n",
            "54\n",
            "65\n",
            "77\n",
            "90\n",
            "104\n",
            "119\n",
            "135\n",
            "152\n",
            "170\n",
            "189\n",
            "209\n",
            "230\n",
            "suma = 210\n"
          ]
        }
      ],
      "source": [
        "valores = range(20) # Crear secuencia de números del 0 al 19\n",
        "print(\"tipo de valores:\", type(valores))\n",
        "print(\"lista de valores:\", list(valores))\n",
        "\n",
        "acumulador = 0 # iremos sumándole valores\n",
        "\n",
        "for i in valores:\n",
        "    valor = i + 1\n",
        "    acumulador += valor\n",
        "    # alternativa:\n",
        "    # acumulador = acumulador + valor\n",
        "    print(acumulador + valor)\n",
        "\n",
        "\n",
        "print(f\"suma = {acumulador}\")"
      ]
    },
    {
      "cell_type": "markdown",
      "metadata": {
        "id": "1Z7sDru7hfy2"
      },
      "source": [
        "* En el siguiente ejemplo, se utilizará un concepto denominado **destructuración**, esto permite descomponer una lista o una tupla y asignar nombres a cada elemento. Esto es especialmente útil en el contexto de los iteradores `enumerate` y `zip` dentro del ciclo `for`."
      ]
    },
    {
      "cell_type": "code",
      "execution_count": null,
      "metadata": {
        "colab": {
          "base_uri": "https://localhost:8080/"
        },
        "id": "KhGzxQIthfy2",
        "outputId": "adcb1990-4513-4774-c246-382255f35478"
      },
      "outputs": [
        {
          "name": "stdout",
          "output_type": "stream",
          "text": [
            "precios y nombres: [('Esteban', 1000), ('Sebastián', 2000), ('Ana', 1500), ('María', 300), ('Victoria', 600), ('Francisco', 500), ('Carlos', 5000), ('Carolina', 3000)]\n",
            "Nombre: Esteban | Precio: 1000\n",
            "Nombre: Sebastián | Precio: 2000\n",
            "Nombre: Ana | Precio: 1500\n",
            "Nombre: María | Precio: 300\n",
            "Nombre: Victoria | Precio: 600\n",
            "Nombre: Francisco | Precio: 500\n",
            "Nombre: Carlos | Precio: 5000\n",
            "Nombre: Carolina | Precio: 3000\n"
          ]
        }
      ],
      "source": [
        "nombres = [\"Esteban\", \"Sebastián\", \"Ana\", \"María\", \"Victoria\", \"Francisco\", \"Carlos\", \"Carolina\"]\n",
        "precios = [1000, 2000, 1500, 300, 600, 500, 5000, 3000]\n",
        "\n",
        "nombres_y_precios = zip(nombres, precios)\n",
        "print(\"precios y nombres:\", list(nombres_y_precios))\n",
        "\n",
        "for nombre, precio in zip(nombres, precios):\n",
        "    print(f\"Nombre: {nombre} | Precio: {precio}\")"
      ]
    },
    {
      "cell_type": "markdown",
      "metadata": {
        "id": "4Dls1kEuhfy3"
      },
      "source": [
        "### Ciclo `while`\n",
        "\n",
        "* Es una estructura que repite un bloque de código mientras se cumpla una condición dada.\n",
        "* El ciclo continuará ejecutándose hasta que la condición deje de ser verdadera, permitiendo realizar tareas repetitivas de manera eficiente.\n",
        "* Su sintaxis es la siguiente:\n",
        "\n",
        "```python\n",
        "while condicion:\n",
        "    accion_1()\n",
        "    accion_2()\n",
        "    ...\n",
        "    accion_n()\n",
        "```\n",
        "\n",
        "Retomemos el ejemplo de sumar números hasta el 20, pero con el ciclo `while`:"
      ]
    },
    {
      "cell_type": "code",
      "execution_count": null,
      "metadata": {
        "colab": {
          "base_uri": "https://localhost:8080/"
        },
        "id": "JI5dxpxmhfy3",
        "outputId": "6819fa2a-8d34-4d80-b221-00698897301d"
      },
      "outputs": [
        {
          "name": "stdout",
          "output_type": "stream",
          "text": [
            "condición=True, contador=1\n",
            "condición=True, contador=2\n",
            "condición=True, contador=3\n",
            "condición=True, contador=4\n",
            "condición=True, contador=5\n",
            "condición=True, contador=6\n",
            "condición=True, contador=7\n",
            "condición=True, contador=8\n",
            "condición=True, contador=9\n",
            "condición=True, contador=10\n",
            "condición=True, contador=11\n",
            "condición=True, contador=12\n",
            "condición=True, contador=13\n",
            "condición=True, contador=14\n",
            "condición=True, contador=15\n",
            "condición=True, contador=16\n",
            "condición=True, contador=17\n",
            "condición=True, contador=18\n",
            "condición=True, contador=19\n",
            "condición=True, contador=20\n",
            "condición=False\n",
            "suma = 210\n"
          ]
        }
      ],
      "source": [
        "# Analogía al ciclo for:\n",
        "# Suma de elementos desde el 1 al 20.\n",
        "acumulador = 0\n",
        "contador = 1\n",
        "\n",
        "while contador <= 20:\n",
        "    print(f\"condición={contador <= 20}, contador={contador}\")\n",
        "    acumulador += contador\n",
        "    contador += 1\n",
        "\n",
        "print(f\"condición={contador <= 20}\")\n",
        "print(f\"suma = {acumulador}\")"
      ]
    },
    {
      "cell_type": "markdown",
      "metadata": {
        "id": "hGxdD5qAhfy3"
      },
      "source": [
        "Se pueden responder más complejas como ¿Cuánto el el máximo de números consecutivos que necesito desde el 1, para obtener una suma no mayor que 100?"
      ]
    },
    {
      "cell_type": "code",
      "execution_count": null,
      "metadata": {
        "colab": {
          "base_uri": "https://localhost:8080/"
        },
        "id": "mh6J30K6hfy3",
        "outputId": "2d0269a2-19ff-49ff-a5bb-8779b7304d83"
      },
      "outputs": [
        {
          "name": "stdout",
          "output_type": "stream",
          "text": [
            "números= [1, 2, 3, 4, 5, 6, 7, 8, 9, 10, 11, 12, 13]\n",
            "cant. números= 13\n",
            "suma= 105\n",
            "suma números= 91\n"
          ]
        }
      ],
      "source": [
        "numeros = []\n",
        "suma = 0\n",
        "valor = 1\n",
        "\n",
        "while suma <= 100:\n",
        "    suma += valor\n",
        "    if suma <= 100:\n",
        "        numeros.append(valor)\n",
        "    valor += 1\n",
        "\n",
        "print(\"números=\", numeros)\n",
        "print(\"cant. números=\", len(numeros))\n",
        "print(\"suma=\", suma)\n",
        "print(\"suma números=\", sum(numeros))"
      ]
    },
    {
      "cell_type": "markdown",
      "metadata": {
        "id": "Ffy_4IFghfy3"
      },
      "source": [
        "### Comprensión\n",
        "\n",
        "* La comprensión en Python es una forma concisa de crear listas y diccionarios utilizando una expresión única en lugar de recurrir a ciclos for.\n",
        "* A continuación, se presentan las explicaciones y ejemplos para cada tipo de comprensión:\n",
        "\n",
        "**Comprensión de listas**\n",
        "\n",
        "* La comprensión de listas es una manera de construir una lista utilizando una expresión concisa y legible, que implica un ciclo `for` y una condición opcional.\n",
        "* Su estructura es la siguiente:\n",
        "\n",
        "```python\n",
        "lista_compr = [accion(x) for x in iterable]\n",
        "```\n",
        "\n",
        "* Note como ahora la acción es lo primero, después el llamado al ciclo `for`.\n",
        "\n",
        "Veamos un primer ejemplo:"
      ]
    },
    {
      "cell_type": "code",
      "execution_count": null,
      "metadata": {
        "colab": {
          "base_uri": "https://localhost:8080/"
        },
        "id": "7JToGhfmhfy4",
        "outputId": "c986e322-60fe-4b85-802b-8792388b6f99"
      },
      "outputs": [
        {
          "name": "stdout",
          "output_type": "stream",
          "text": [
            "cuadrados: [1, 4, 9, 16, 25, 36, 49, 64, 81, 100]\n"
          ]
        }
      ],
      "source": [
        "# Ejemplo: Crear una lista con los cuadrados de los números del 1 al 10.\n",
        "cuadrados = [x ** 2 for x in range(1, 11)]\n",
        "print(\"cuadrados:\", cuadrados)"
      ]
    },
    {
      "cell_type": "markdown",
      "metadata": {
        "id": "kTkRn1wfhfy4"
      },
      "source": [
        "Como alternativa \"clásica\" al código anterior podemos hacer lo siguiente:"
      ]
    },
    {
      "cell_type": "code",
      "execution_count": null,
      "metadata": {
        "colab": {
          "base_uri": "https://localhost:8080/"
        },
        "id": "xKKMVsDJhfy4",
        "outputId": "685e6284-43b1-4a17-d851-d898581cecae"
      },
      "outputs": [
        {
          "name": "stdout",
          "output_type": "stream",
          "text": [
            "cuadrados: [1, 4, 9, 16, 25, 36, 49, 64, 81, 100]\n"
          ]
        }
      ],
      "source": [
        "cuadrados = []\n",
        "\n",
        "for x in range(1, 11):\n",
        "    cuadrado = x ** 2\n",
        "    cuadrados.append(cuadrado)\n",
        "\n",
        "print(\"cuadrados:\", cuadrados)"
      ]
    },
    {
      "cell_type": "markdown",
      "metadata": {
        "id": "MOMPZJLdhfy4"
      },
      "source": [
        "* En este segundo ejemplo añadiremos una estructura condicional a la lista por comprensión.\n",
        "* La estructura de la lista por comprensión con una condición es la siguiente:\n",
        "\n",
        "```python\n",
        "lista_compr_cond = [accion(x) for x in iterable if condicion(x)]\n",
        "```"
      ]
    },
    {
      "cell_type": "markdown",
      "metadata": {
        "id": "WzQ9oZUchfy4"
      },
      "source": [
        "* Note que la estructura condicional va a continuación de la alución al ciclo `for`."
      ]
    },
    {
      "cell_type": "code",
      "execution_count": null,
      "metadata": {
        "colab": {
          "base_uri": "https://localhost:8080/"
        },
        "id": "CwoAJdXohfy4",
        "outputId": "84bdf853-61cc-48ef-c8cc-a8b61e8e998e"
      },
      "outputs": [
        {
          "name": "stdout",
          "output_type": "stream",
          "text": [
            "cubos de los n° pares: [8, 64, 216, 512, 1000, 1728, 2744, 4096, 5832, 8000]\n"
          ]
        }
      ],
      "source": [
        "# Mostrar los cubos de los números pares entre 1 y 20.\n",
        "cubos_n_pares = [x ** 3 for x in range(1, 21) if x % 2 == 0]\n",
        "print(\"cubos de los n° pares:\", cubos_n_pares)"
      ]
    },
    {
      "cell_type": "markdown",
      "metadata": {
        "id": "NyR95pYqhfy5"
      },
      "source": [
        "**Comprensión de diccionarios**\n",
        "\n",
        "* Similar a la comprensión de listas, la comprensión de diccionarios es una manera de construir un diccionario utilizando una expresión concisa y legible que involucra pares `llave-valor` (lo que es la diferencia más notoria), un ciclo `for` y una condición opcional.\n",
        "* Su estructura es la siguiente:\n",
        "\n",
        "```python\n",
        "dict_compr = {llave(x): valor(x) for x in iterable if condicion(x)}\n",
        "```"
      ]
    },
    {
      "cell_type": "code",
      "execution_count": null,
      "metadata": {
        "colab": {
          "base_uri": "https://localhost:8080/"
        },
        "id": "VHH0MMmihfy5",
        "outputId": "b463e8b7-6756-49e0-d8b4-0374bdca2d61"
      },
      "outputs": [
        {
          "name": "stdout",
          "output_type": "stream",
          "text": [
            "{2: 8, 4: 64, 6: 216, 8: 512, 10: 1000, 12: 1728, 14: 2744, 16: 4096, 18: 5832, 20: 8000}\n"
          ]
        }
      ],
      "source": [
        "# Ejemplo: Diccionario que relacione números del 1 al 20 con sus cubos si estos son pares-\n",
        "dict_cubos_pares = {x: x ** 3 for x in range(1, 21) if x % 2 == 0}\n",
        "print(dict_cubos_pares)"
      ]
    },
    {
      "cell_type": "markdown",
      "metadata": {
        "id": "HwqovIm_hfy5"
      },
      "source": [
        "## **Equivocarse es normal**\n",
        "\n",
        "* Equivocarse al momento de escribir código es **muy frecuente**, incluso reconocidos desarrolladores de software pueden estar semanas buscando fallas (o *bugs*) en sus códigos.\n",
        "* Lo importante es no frustrarse y aprender de estos a través de la práctica. Conocer nuestros errores más comunes permite agilizar la velocidad con que programamos.\n",
        "* Afortunadamente, `python` al ser un lenguaje antiguo cuenta con una gran comunidad en internet, por lo que consultar foros es parte de nuestro día a día ¡Seguramente muchas personas ya han preguntado por nuestro error!\n",
        "* ¿Qué hacer al momento de un error? Veamos el siguiente bloque de código."
      ]
    },
    {
      "cell_type": "code",
      "execution_count": null,
      "metadata": {
        "colab": {
          "base_uri": "https://localhost:8080/",
          "height": 183
        },
        "id": "y5gKl1unhfy5",
        "outputId": "340a1d04-9e1b-4cf1-d8f5-fde3ebb8068b"
      },
      "outputs": [
        {
          "ename": "IndexError",
          "evalue": "ignored",
          "output_type": "error",
          "traceback": [
            "\u001b[0;31m---------------------------------------------------------------------------\u001b[0m",
            "\u001b[0;31mIndexError\u001b[0m                                Traceback (most recent call last)",
            "\u001b[0;32m<ipython-input-21-a266beff872a>\u001b[0m in \u001b[0;36m<cell line: 2>\u001b[0;34m()\u001b[0m\n\u001b[1;32m      1\u001b[0m \u001b[0mprecios\u001b[0m \u001b[0;34m=\u001b[0m \u001b[0;34m[\u001b[0m\u001b[0;36m200\u001b[0m\u001b[0;34m,\u001b[0m \u001b[0;36m400\u001b[0m\u001b[0;34m,\u001b[0m \u001b[0;36m600\u001b[0m\u001b[0;34m,\u001b[0m \u001b[0;36m500\u001b[0m\u001b[0;34m,\u001b[0m \u001b[0;36m300\u001b[0m\u001b[0;34m,\u001b[0m \u001b[0;36m100\u001b[0m\u001b[0;34m]\u001b[0m\u001b[0;34m\u001b[0m\u001b[0;34m\u001b[0m\u001b[0m\n\u001b[0;32m----> 2\u001b[0;31m \u001b[0mprecios\u001b[0m\u001b[0;34m[\u001b[0m\u001b[0;36m6\u001b[0m\u001b[0;34m]\u001b[0m\u001b[0;34m\u001b[0m\u001b[0;34m\u001b[0m\u001b[0m\n\u001b[0m",
            "\u001b[0;31mIndexError\u001b[0m: list index out of range"
          ]
        }
      ],
      "source": [
        "precios = [200, 400, 600, 500, 300, 100]\n",
        "precios[6]"
      ]
    },
    {
      "cell_type": "markdown",
      "metadata": {
        "id": "653-hrXwhfy5"
      },
      "source": [
        "En este error observamos tres secciones muy importantes:\n",
        "\n",
        "1. **Ubicación del archivo que produce error:** Aparece la ruta de este notebook. Si es un error de sintaxis, esta sección no aparecerá.\n",
        "2. **Código que está produciendo error:** Dependiendo de la cantidad de código, esta sección puede ser muy extensa. Si es necesario, debemos leerla con calma y paciencia. En este caso está indicando la segunda línea del bloque de código anterior.\n",
        "3. **Nombre del error:** Esta suele ser la sección más importante, pues nos indica cual fue el error que cometimos. En este caso, nos indica el error se debe a que el índice que usamos está fuera del rango de valores posibles (0 hasta 5).\n",
        "\n",
        "En caso de que sea un error complejo de entender, podemos copiar la información de la última sección y buscarla en google.\n",
        "\n",
        "Como ejemplo, solucionemos los problemás que tiene el siguiente bloque de código."
      ]
    },
    {
      "cell_type": "code",
      "execution_count": null,
      "metadata": {
        "colab": {
          "base_uri": "https://localhost:8080/"
        },
        "id": "Maz6Dsibhfy5",
        "outputId": "df00cbfb-c645-4952-987c-148f75803d78"
      },
      "outputs": [
        {
          "name": "stdout",
          "output_type": "stream",
          "text": [
            "2hola\n",
            "2hola3\n"
          ]
        }
      ],
      "source": [
        "## Ejemplo: Solución de errores\n",
        "concatenacion = 2 + \"hola\"\n",
        "# Concatenación\n",
        "print(concatenacion)\n",
        "# Nueva concatenación\n",
        "concatenacion2 = concatenacion + \"3\"\n",
        "print(concatenacion2)"
      ]
    },
    {
      "cell_type": "markdown",
      "metadata": {
        "id": "0GfBNdGksn_k"
      },
      "source": [
        "* En el caso de necesitar ayuda con una función, en `jupyter` podemos usar la función `help()`, que provee de información útil acerca de los parámetros de la función y algunos ejemplos."
      ]
    },
    {
      "cell_type": "code",
      "execution_count": null,
      "metadata": {
        "colab": {
          "base_uri": "https://localhost:8080/"
        },
        "id": "VYNioKyHsn_k",
        "outputId": "b0623abd-b204-4893-f815-f4e72cfabf3a"
      },
      "outputs": [
        {
          "name": "stdout",
          "output_type": "stream",
          "text": [
            "Help on class zip in module builtins:\n",
            "\n",
            "class zip(object)\n",
            " |  zip(*iterables, strict=False) --> Yield tuples until an input is exhausted.\n",
            " |  \n",
            " |     >>> list(zip('abcdefg', range(3), range(4)))\n",
            " |     [('a', 0, 0), ('b', 1, 1), ('c', 2, 2)]\n",
            " |  \n",
            " |  The zip object yields n-length tuples, where n is the number of iterables\n",
            " |  passed as positional arguments to zip().  The i-th element in every tuple\n",
            " |  comes from the i-th iterable argument to zip().  This continues until the\n",
            " |  shortest argument is exhausted.\n",
            " |  \n",
            " |  If strict is true and one of the arguments is exhausted before the others,\n",
            " |  raise a ValueError.\n",
            " |  \n",
            " |  Methods defined here:\n",
            " |  \n",
            " |  __getattribute__(self, name, /)\n",
            " |      Return getattr(self, name).\n",
            " |  \n",
            " |  __iter__(self, /)\n",
            " |      Implement iter(self).\n",
            " |  \n",
            " |  __next__(self, /)\n",
            " |      Implement next(self).\n",
            " |  \n",
            " |  __reduce__(...)\n",
            " |      Return state information for pickling.\n",
            " |  \n",
            " |  __setstate__(...)\n",
            " |      Set state information for unpickling.\n",
            " |  \n",
            " |  ----------------------------------------------------------------------\n",
            " |  Static methods defined here:\n",
            " |  \n",
            " |  __new__(*args, **kwargs) from builtins.type\n",
            " |      Create and return a new object.  See help(type) for accurate signature.\n",
            "\n"
          ]
        }
      ],
      "source": [
        "# Ejemplo: Buscar ayuda de la función zip()\n",
        "help(zip)"
      ]
    },
    {
      "cell_type": "markdown",
      "metadata": {
        "id": "60jKyVuXhfy5"
      },
      "source": [
        "Dado que estaremos constantemente leyendo nuestro código y compartiéndolo con otras personas, **es muy importante que el código sea ordenado**. Para esto último, existen **guías de estilo** que podemos seguir, como por ejemplo [PEP 8](https://peps.python.org/pep-0008/), la cuál considera aspectos como:\n",
        "* Escribir espacios a los lados de un operador.\n",
        "* Indentaciones de cuatro espacios.\n",
        "* No superar un máximo de 79 carácteres por línea.\n",
        "* Uso de `snake_case` para definir variables.\n",
        "\n",
        "Otras recomendaciones para tener en cuenta:\n",
        "\n",
        "* No utilizar tildes ni ñ al momento de programar (excepto en strings).\n",
        "* Usar nombres de variables **explicativos**.\n",
        "* Crear código pensando en que más personas lo van a leer.\n",
        "* El editor de código suele destacar posibles errores y/o dar recomendaciones en tiempo real. Estar pendiente de estas alertas."
      ]
    },
    {
      "cell_type": "markdown",
      "metadata": {
        "id": "l8k9bQVKhfy6"
      },
      "source": [
        "## ¿Qué es una función?"
      ]
    },
    {
      "cell_type": "markdown",
      "metadata": {
        "id": "sQF3ql64hfy6"
      },
      "source": [
        "<img src=\"https://i.ibb.co/0YjkdnV/fu.jpg\" alt=\"\">\n",
        "\n",
        "* Una función es un bloque de código con un nombre asociado.\n",
        "* Primero recibe cero o más argumentos como entrada. Luego sigue una secuencia de instrucciones, la cuales ejecuta una acción deseada. Finalmente, devuelve como salida un valor y/o realiza una tarea,\n",
        "* Este bloque de código ya creado puede ser llamado cuando se necesite.\n",
        "* Existen una serie de ventajar que producen que usar funciones sea algo **necesario**, como las de a continuación:\n",
        "\n",
        "<img src=\"https://cdn.ttgtmedia.com/rms/onlineImages/software_quality-dry_vs_wet_code.png\" alt=\"\" width=\"500\">\n"
      ]
    },
    {
      "cell_type": "markdown",
      "metadata": {
        "id": "_HFQ1DiQhfy6"
      },
      "source": [
        "### Funciones `built-in`\n",
        "\n",
        "Se refiere a que ya vienen incorporadas y listas para su uso al momento de abrir python. Algunas son:\n",
        "\n",
        "* `abs(v)`      : entrega valor absoluto de un valor.\n",
        "* `all(x)`      : retorna `True` si todos los valores de un iterable son `True`.\n",
        "* `any(x)`      : retorna `True` si algún valor de un iterable es `True`.\n",
        "* `bool(v)`     : retorna True al menos que el valor ingresado sea vacío, `False`, `None` o 0.\n",
        "* `float(v)`    : transforma valor a número de punto flotante (a decimal).\n",
        "* `int(v)`      : transforma valor a número entero.\n",
        "* `list(x)`     : crea un objeto tipo lista.\n",
        "* `pow(b,e)`    : calcula $b^e$ (alternativa a `b**e`).\n",
        "* `print(o)`    : convierte a `string` y muestra en pantalla un objeto.\n",
        "* `range(i,f,s)`: crea una secuencia de números enteros desde `i` hasta `f-1` con salto `s`.\n",
        "* `round(v, n)` : redondea un valor a `n` decimales.\n",
        "* `str(o)`      : convierte un objecto a `string`.\n",
        "* `type(o)`        : retorna tipo de un objeto."
      ]
    },
    {
      "cell_type": "code",
      "execution_count": null,
      "metadata": {
        "id": "whf3jL9fhfy6",
        "outputId": "e348ebed-9850-4e34-ea1c-5d1ea90149d1"
      },
      "outputs": [
        {
          "name": "stdout",
          "output_type": "stream",
          "text": [
            "False\n",
            "True\n",
            "[1, 2, 3, 4, 5, 6, 7, 8, 9, 10]\n",
            "[10, 20, 30, 40, 50, 60, 70, 80, 90, 100, 110, 120, 130, 140, 150, 160, 170, 180, 190, 200]\n"
          ]
        }
      ],
      "source": [
        "# Ejemplos de funciones built-in:\n",
        "lista_booleanos = [True, False, False, False, True]\n",
        "print(all(lista_booleanos))\n",
        "print(any(lista_booleanos))\n",
        "print(list(range(1, 11)))\n",
        "print(list(range(10, 201, 10)))"
      ]
    },
    {
      "cell_type": "markdown",
      "metadata": {
        "id": "0o_Uaad9hfy6"
      },
      "source": [
        "### Funciones definidas por el usuario"
      ]
    },
    {
      "cell_type": "markdown",
      "metadata": {
        "id": "uSxA1spWhfy6"
      },
      "source": [
        "* Para resolver problemas específicos, cuya solución no se encuentra implementada, necesitaremos crear nuestras propias funciones.\n",
        "* Una función es una bloque de código que es ejecutado solo cuando se llama."
      ]
    },
    {
      "cell_type": "markdown",
      "metadata": {
        "id": "nSh2zskAhfy6"
      },
      "source": [
        "**De forma declarativa**"
      ]
    },
    {
      "cell_type": "markdown",
      "metadata": {
        "id": "eSu-8MQhhfy6"
      },
      "source": [
        "* Podemos crear funciones de forma **declarativa** a través de la sentencia `def`.\n",
        "* Las funciones finalizan una vez terminado el código **indentado** o luego de una sentencia `return`. Esta última indica a `python` cuál es el output de la función.\n",
        "* Su sintaxis más básica en la siguiente:\n",
        "\n",
        "```python\n",
        "def nombre_funcion(param1, param2, ...):\n",
        "    variable = accion(param1, param2, ...)\n",
        "    return variable\n",
        "```"
      ]
    },
    {
      "cell_type": "markdown",
      "metadata": {
        "id": "PmR2JC_yhfy6"
      },
      "source": [
        "Ahora construyamos una función que calcule el IMC:"
      ]
    },
    {
      "cell_type": "code",
      "execution_count": null,
      "metadata": {
        "id": "WqC6saPuhfy6"
      },
      "outputs": [],
      "source": [
        "# Crear función\n",
        "def IMC(kg, m):\n",
        "    imc = kg / m ** 2\n",
        "    return imc"
      ]
    },
    {
      "cell_type": "code",
      "execution_count": null,
      "metadata": {
        "id": "UAzvVL1mhfy7",
        "outputId": "f233d1dc-0ca9-46aa-e7ca-bb940c215e2f"
      },
      "outputs": [
        {
          "name": "stdout",
          "output_type": "stream",
          "text": [
            "61.983471074380155\n"
          ]
        }
      ],
      "source": [
        "# Calcule IMC de persona de 300kg y 2.2m\n",
        "print(IMC(300, 2.2))"
      ]
    },
    {
      "cell_type": "markdown",
      "metadata": {
        "id": "voaeaBOVhfy_"
      },
      "source": [
        "* Utilizando el ejemplo de sumar los numeros hasta el 20, crear función que permita parametrizar hasta que número nos gustaría sumar."
      ]
    },
    {
      "cell_type": "code",
      "execution_count": null,
      "metadata": {
        "id": "V_Hv8Vydhfy_",
        "outputId": "5885f093-44ec-41ca-c2d0-7e5a139e0c7a"
      },
      "outputs": [
        {
          "name": "stdout",
          "output_type": "stream",
          "text": [
            "suma hasta 20  = 210\n",
            "suma hasta 100 = 5050\n"
          ]
        }
      ],
      "source": [
        "def sumar_numeros(n):\n",
        "    valores = range(n)\n",
        "    acumulador = 0\n",
        "\n",
        "    for i in valores:\n",
        "        valor = i + 1\n",
        "        acumulador += valor\n",
        "\n",
        "    return acumulador\n",
        "\n",
        "suma_20 = sumar_numeros(20)\n",
        "suma_100 = sumar_numeros(100)\n",
        "\n",
        "print(f\"suma hasta 20  = {suma_20}\")\n",
        "print(f\"suma hasta 100 = {suma_100}\")"
      ]
    },
    {
      "cell_type": "markdown",
      "metadata": {
        "id": "Czj-LkRJhfy_"
      },
      "source": [
        "**De forma anónima**\n",
        "\n",
        "* A diferencia de las funciones creadas con la sentencia `def`, las funciones anónimas no reciben un nombre de forma obligatoria, lo que queda a elección del usuario de acuerdo a sus necesidades.\n",
        "* Se pueden crear a través de la palabra reservada `lambda`.\n",
        "* Su retorno es lo que indiquemos como acción luego de los dos puntos `:`.\n",
        "* Son útiles para crear funciones que resuelvan problemas sencillos.\n",
        "* Su sintaxis es de la siguiente forma:\n",
        "\n",
        "```python\n",
        "nombre_funcion = lambda params: accion(params)\n",
        "```\n",
        "\n",
        "Para entender su uso, realicemos el ejemplo del IMC usando una función anónima:"
      ]
    },
    {
      "cell_type": "code",
      "execution_count": null,
      "metadata": {
        "id": "BxCeaPN9hfy_"
      },
      "outputs": [],
      "source": [
        "# Repetir ejemplo anterior\n",
        "IMC2 = lambda kg, m: kg / m ** 2"
      ]
    },
    {
      "cell_type": "code",
      "execution_count": null,
      "metadata": {
        "colab": {
          "base_uri": "https://localhost:8080/"
        },
        "id": "3d_5S7ishfy_",
        "outputId": "b3c8048a-e259-45c7-c0f1-408dec500e0b"
      },
      "outputs": [
        {
          "name": "stdout",
          "output_type": "stream",
          "text": [
            "61.983471074380155\n"
          ]
        }
      ],
      "source": [
        "# Calcule IMC de persona de 300kg y 2.2m\n",
        "print(IMC2(300, 2.2))"
      ]
    },
    {
      "cell_type": "markdown",
      "metadata": {
        "id": "qp4uMz2qhfy_"
      },
      "source": [
        "## Programación Orientada a Objetos\n",
        "\n",
        "* La `Programación Orientada a Objetos` (OOP, por sus siglas en inglés) es un enfoque de programación que utiliza \"objetos\" y clases para organizar el código de manera más estructurada y modular.\n",
        "* `python` ofrece una sólida implementación de OOP.\n",
        "* En distintos contextos se prefiere utilizar OOP, ya que mejora considerablemente la estructura y legibilidad del código en proyectos (como por ejemplo, en ciencias de datos), lo que facilita el desarrollo, la depuración y el mantenimiento de aplicaciones complejas."
      ]
    },
    {
      "cell_type": "markdown",
      "metadata": {
        "id": "LPrFZGRchfzA"
      },
      "source": [
        "### Clases"
      ]
    },
    {
      "cell_type": "markdown",
      "metadata": {
        "id": "JsHFpjochfzA"
      },
      "source": [
        "* En `python`, las clases son plantillas que definen la estructura y el comportamiento de los objetos.\n",
        "* Una clase puede contener atributos (variables) y métodos (funciones) que describen las propiedades y acciones que pueden realizar los objetos de esa clase.\n",
        "* Para definir una clase, utilizamos la palabra clave `class`, seguida del nombre de la clase (por convención, el nombre de la clase comienza con una letra mayúscula) y dos puntos `:`."
      ]
    },
    {
      "cell_type": "code",
      "execution_count": null,
      "metadata": {
        "id": "5R-uoZNahfzA"
      },
      "outputs": [],
      "source": [
        "# Ejemplo: crear clase llamada Persona.\n",
        "class Persona:\n",
        "    pass # significa que no añadiremos contenido (aún) a la clase"
      ]
    },
    {
      "cell_type": "markdown",
      "metadata": {
        "id": "k5CjdVGPhfzA"
      },
      "source": [
        "### Objetos\n",
        "\n",
        "* Un objeto es una instancia de una clase, que representa una entidad específica en el programa. Los objetos tienen atributos (variables) y métodos (funciones) definidos por la clase.\n",
        "\n",
        "<img src=\"https://www.campusmvp.es/recursos/image.axd?picture=/2019/4T/poo-clase-objetos.png\">\n",
        "\n",
        "Podemos crear objetos instanciando una clase, utilizando el nombre de la clase seguido de paréntesis."
      ]
    },
    {
      "cell_type": "code",
      "execution_count": null,
      "metadata": {
        "id": "RkQm-UR0hfzA"
      },
      "outputs": [],
      "source": [
        "persona1 = Persona() # instanciar\n",
        "persona2 = Persona()"
      ]
    },
    {
      "cell_type": "markdown",
      "metadata": {
        "id": "v7ROPhaAhfzA"
      },
      "source": [
        "En este ejemplo, `persona1` y `persona2` son objetos de la clase `Persona`."
      ]
    },
    {
      "cell_type": "markdown",
      "metadata": {
        "id": "o_ZIAC-ThfzA"
      },
      "source": [
        "### Método `__init__`\n",
        "\n",
        "* El método `__init__` es un método especial que se llama automáticamente cuando se crea un objeto de una clase. Se utiliza para inicializar los atributos del objeto. También es conocido como el constructor de la clase.\n",
        "* En el siguiente ejemplo, `nombre` y `edad` están siendo definidos como atributos que formarán parte de futuros objetos.\n",
        "\n"
      ]
    },
    {
      "cell_type": "code",
      "execution_count": null,
      "metadata": {
        "id": "tOYW5MhkhfzA",
        "outputId": "ac855c11-4394-4780-c95f-3c9d4dc4a741"
      },
      "outputs": [
        {
          "name": "stdout",
          "output_type": "stream",
          "text": [
            "Nombre: Esteban\n",
            "Edad: 24\n"
          ]
        }
      ],
      "source": [
        "class Persona:\n",
        "    def __init__(self, nombre, edad):# (self,argumento1,argumento2,...)\n",
        "        self.nombre = nombre\n",
        "        self.edad = edad\n",
        "\n",
        "persona1 = Persona(\"Esteban\", 24)\n",
        "print(f\"Nombre: {persona1.nombre}\")\n",
        "print(f\"Edad: {persona1.edad}\")"
      ]
    },
    {
      "cell_type": "markdown",
      "metadata": {
        "id": "yG-3hIXthfzA"
      },
      "source": [
        "* Aquí, el método `__init__` toma dos argumentos (además de `self`), que son `nombre` y `edad`. Cuando creamos el objeto `persona1`, estos argumentos se asignan a los atributos del objeto.\n",
        "* `self` es una referencia al objeto que se está ejecutando en un método de instancia. Se utiliza para acceder a atributos y métodos del objeto."
      ]
    },
    {
      "cell_type": "markdown",
      "metadata": {
        "id": "KdpKl5-jhfzB"
      },
      "source": [
        "### Métodos de instancia\n",
        "\n",
        "* Los métodos de instancia son funciones que pertenecen a una clase y trabajan con los atributos del objeto.\n",
        "* Se definen dentro de la clase y, por lo general, toman `self` como primer argumento."
      ]
    },
    {
      "cell_type": "code",
      "execution_count": null,
      "metadata": {
        "colab": {
          "base_uri": "https://localhost:8080/"
        },
        "id": "gmizIGV0hfzB",
        "outputId": "03478b5d-91d7-4588-8f2e-30bdb90722e1"
      },
      "outputs": [
        {
          "name": "stdout",
          "output_type": "stream",
          "text": [
            "Hola, mi nombre es Esteban y tengo 15 años.\n"
          ]
        }
      ],
      "source": [
        "class Persona:\n",
        "    def __init__(self, nombre, edad):\n",
        "        self.nombre = nombre\n",
        "        self.edad = edad\n",
        "\n",
        "    def presentarse(self):\n",
        "        print(f\"Hola, mi nombre es {self.nombre} y tengo {self.edad} años.\")\n",
        "\n",
        "persona1 = Persona(\"Esteban\", 15)#Crea una instancia\n",
        "persona1.presentarse()#LLama a las funciones dentro de la clase"
      ]
    },
    {
      "cell_type": "markdown",
      "metadata": {
        "id": "Zfe_Zx_ihfzB"
      },
      "source": [
        "* Podemos añadir tantos atributos y métodos como queramos:"
      ]
    },
    {
      "cell_type": "code",
      "execution_count": null,
      "metadata": {
        "id": "7RQKHizuhfzB",
        "outputId": "97578e24-3151-4c2a-e710-852355bf33e6"
      },
      "outputs": [
        {
          "name": "stdout",
          "output_type": "stream",
          "text": [
            "Hola, mi nombre es Esteban y tengo 85 años.\n",
            "No puedes comprar PS5. No tienes los fondos suficientes!\n",
            "Haz ganado $1000000 trabajando. Tu billetera es de $1030000.\n",
            "Haz comprado PS5 por $700000!\n",
            "Haz comprado Jack Daniel's por $30000!\n",
            "Tus productos son: ['PS5', \"Jack Daniel's\"]\n",
            "Feliz cumpleaños Esteban! Ahora tienes 86 años.\n"
          ]
        }
      ],
      "source": [
        "class Persona:\n",
        "    def __init__(self, nombre, edad, billetera):\n",
        "        self.nombre = nombre\n",
        "        self.edad = edad\n",
        "        self.billetera = billetera\n",
        "        self.productos = []\n",
        "\n",
        "    def presentarse(self):\n",
        "        print(f\"Hola, mi nombre es {self.nombre} y tengo {self.edad} años.\")\n",
        "\n",
        "    def celebrar_cumpleaños(self):\n",
        "        self.edad += 1 #edad=edad+1\n",
        "        print(f\"Feliz cumpleaños {self.nombre}! Ahora tienes {self.edad} años.\")\n",
        "\n",
        "    def comprar_producto(self, producto, precio):\n",
        "        if self.billetera < precio: # chequear si hay fondos suficientes\n",
        "            print(f\"No puedes comprar {producto}. No tienes los fondos suficientes!\")\n",
        "        else:\n",
        "            self.billetera -= precio # descuento precio de billetera\n",
        "            self.productos.append(producto)  # añadir producto a lista de productos\n",
        "            print(f\"Haz comprado {producto} por ${precio}!\")\n",
        "\n",
        "    def trabajar(self, pago):\n",
        "        self.billetera += pago\n",
        "        print(f\"Haz ganado ${pago} trabajando. Tu billetera es de ${self.billetera}.\")\n",
        "\n",
        "    def consultar_productos(self):\n",
        "        print(\"Tus productos son:\", self.productos)\n",
        "\n",
        "persona1 = Persona(\"Esteban\", 85, 30000)\n",
        "persona1.presentarse()\n",
        "persona1.comprar_producto(\"PS5\", 700000)\n",
        "persona1.trabajar(1000000)\n",
        "persona1.comprar_producto(\"PS5\", 700000)\n",
        "persona1.comprar_producto(\"Jack Daniel's\", 30000)\n",
        "persona1.consultar_productos()\n",
        "persona1.celebrar_cumpleaños()"
      ]
    },
    {
      "cell_type": "markdown",
      "metadata": {
        "id": "5D0PHcRdhfzB"
      },
      "source": [
        "## Ejercicios de práctica\n",
        "\n",
        "**1.** Escriba una función que reciba una lista y devuelva la suma de todos los números pares en la lista. Utilice un ciclo `for` para recorrer la lista. Pruebe su función con una lista de los números entre el 50 y 100."
      ]
    },
    {
      "cell_type": "code",
      "execution_count": null,
      "metadata": {
        "id": "TtQAsc5vhfzB"
      },
      "outputs": [],
      "source": [
        "# Responda aquí:\n"
      ]
    },
    {
      "cell_type": "markdown",
      "metadata": {
        "id": "Gs5p5n6NhfzB"
      },
      "source": [
        "**2.** Escriba una función que tome dos números enteros `A` y `B` y devuelva la cantidad de números impares en el rango `[A, B]` (incluidos ambos extremos). Utilice un ciclo `while` para recorrer el rango ¿Cuántos números impares hay entre el 50 y el 100?"
      ]
    },
    {
      "cell_type": "code",
      "execution_count": null,
      "metadata": {
        "id": "3w79AKIbhfzB"
      },
      "outputs": [],
      "source": [
        "# Responda aquí\n"
      ]
    },
    {
      "cell_type": "markdown",
      "metadata": {
        "id": "67Jb0tj3hfzC"
      },
      "source": [
        "**3.** Escriba una función que tome una lista de números y devuelva la media de los números en la lista. Pruebe su función usando una lista creada por usted."
      ]
    },
    {
      "cell_type": "code",
      "execution_count": null,
      "metadata": {
        "id": "tCxINyPlhfzC"
      },
      "outputs": [],
      "source": [
        "# Responda aquí:\n"
      ]
    },
    {
      "cell_type": "markdown",
      "metadata": {
        "id": "8LITWgnahfzC"
      },
      "source": [
        "**4.** Escribe una clase llamada `Estadisticas` que reciba una lista de números y tenga métodos para calcular la cantidad de elementos, media, mediana, varianza y desviación estándar de los números en la lista. Luego, pruebe cada método de la clase con una lista creada por usted."
      ]
    },
    {
      "cell_type": "code",
      "execution_count": null,
      "metadata": {
        "id": "Z7wRpg6BhfzC"
      },
      "outputs": [],
      "source": [
        "# Responda aquí:\n"
      ]
    }
  ],
  "metadata": {
    "colab": {
      "provenance": []
    },
    "kernelspec": {
      "display_name": "default",
      "language": "python",
      "name": "python3"
    },
    "language_info": {
      "codemirror_mode": {
        "name": "ipython",
        "version": 3
      },
      "file_extension": ".py",
      "mimetype": "text/x-python",
      "name": "python",
      "nbconvert_exporter": "python",
      "pygments_lexer": "ipython3",
      "version": "3.9.12"
    },
    "orig_nbformat": 4
  },
  "nbformat": 4,
  "nbformat_minor": 0
}