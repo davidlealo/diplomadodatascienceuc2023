{
  "cells": [
    {
      "attachments": {},
      "cell_type": "markdown",
      "metadata": {
        "colab_type": "text",
        "id": "view-in-github"
      },
      "source": [
        "<a href=\"https://colab.research.google.com/github/davidlealo/diplomadodatascienceuc2023/blob/main/dds_intro_py_01.ipynb\" target=\"_parent\"><img src=\"https://colab.research.google.com/assets/colab-badge.svg\" alt=\"Open In Colab\"/></a>"
      ]
    },
    {
      "attachments": {},
      "cell_type": "markdown",
      "metadata": {
        "id": "8FNzN0Iz9q22",
        "tags": []
      },
      "source": [
        "# Introducción a Python I\n",
        "\n",
        "**Diplomado en Data Science Versión 2023** <br>\n",
        "**Facultad de Matemáticas**<br>\n",
        "**Pontificia Universidad Católica de Chile**\n",
        "\n",
        "---"
      ]
    },
    {
      "attachments": {},
      "cell_type": "markdown",
      "metadata": {
        "id": "7CL96Uajfjlh"
      },
      "source": [
        "¡Bienvenidos a una nueva versión del *Diplomado en Data Science* impartido por la *Facultad de Matemáticas* de la UC! En estos módulos de *Herramientas Computacionales* aprenderemos como aplicar los conceptos vistos en las clases de *Herramientas Estadísticas*. Durante las primeras clases recorreremos los tópicos principales de `python`, el lenguaje de programación que usaremos gran parte del año."
      ]
    },
    {
      "attachments": {},
      "cell_type": "markdown",
      "metadata": {
        "id": "YJjP0mXNfjli"
      },
      "source": [
        "## ¿Qué es Python?\n",
        "<img src=\"https://i.ibb.co/6P4JmFw/pngaaa-com-619138-2.png\">\n",
        "    \n",
        "**Historia**\n",
        "\n",
        "\n",
        "* Lanzado en 1989. Última versión estable: 3.11.3 (04/04/2023)\n",
        "* *Guido van Rossum* es un informático holandés que buscaba un hobby para mantenerse ocupado en las vísperas de navidad. Se le ocurrio crear este lenguaje de programación. Actualmente trabaja para *Microsoft*.\n",
        "* El lenguaje es un sucesor del lenguaje ABC, por lo que el núcleo de su sintaxis y filosofía provienen de este.\n",
        "* Su nombre viene por el gusto del autor hacia los humorístas británicos *Monty Python*.\n",
        "* Actualmente, aplicaciones como *Spotify*, *Netflix* e *Instagram* utilizan este lenguaje en algunas de sus funcionalidades.\n",
        "\n",
        "**Características**\n",
        "\n",
        "* Existen distintas formas de programar en este lenguaje, programación funcional, programación orientada a objetos (POO) y programación imperativa. Esto lo convierte en un lenguaje de programación **multiparadigma**.\n",
        "* Lenguaje de **alto nivel**: Sencillo de aprender por su alta similitud con el lenguaje humano. Realiza acciones más complejas respecto a las que vemos en pantalla.\n",
        "* Lenguaje **interpretado**: Hay un intermediario entre nosotros y el procesador, conocido como intérprete. Lenguajes interpretados son en general más lentos que lenguajes compilados como `C`.\n",
        "* Utiliza **indentación** en algunos casos: Al igual que las sangrías que observamos comienzo del primer párrafo de un capítulo de un libro. En este lenguaje las indentaciones son fundamentales.\n",
        "* De **tipado fuerte y dinámico**: Al crear una variable (lo veremos a continuación) no es necesario declarar su tipo como en otros lenguajes. Además, el tipo de variable puede ser modificado posterior a su creación.\n",
        "* Facilita el trabajo en áreas como *Inteligencia Artificial*, *Big Data*, *Machine Learning*, *Data Science* y *Desarrollo Backend*.\n",
        "* **Gran comunidad** debido a sus amplias posibilidades: [Stack Overflow](https://stackoverflow.com/), [ChatGPT](https://chat.openai.com/chat), [Reddit](https://www.reddit.com/), etc.\n",
        "\n",
        "Para utilizar `python`, necesitaremos un **entorno de desarrollo**."
      ]
    },
    {
      "attachments": {},
      "cell_type": "markdown",
      "metadata": {
        "id": "t4_8Dpz3fjlj"
      },
      "source": [
        "## Algunos Entornos de Desarrollo para Ciencias de Datos\n",
        "\n",
        "### Jupyter Notebook\n",
        "\n",
        "Link: <https://jupyter.org/>\n",
        "\n",
        "Jupyter (abreviación de Julia, Python et R) es una herramienta que incorpora código y texto simultaneamente, similar a R Markdown. Cada celda puede ser de tipo **texto** (markdown) o **código** (ejemplo: julia, python o R). La capacidad de incorporar estas dos facetas convierte a los notebooks en una herramienta predilecta del Data Scientist. Para ser usado se debe tener una versión de python y jupyter instaladas. Además, se puede usar Jupyter de forma online mediante [Anaconda Nucleus](https://anaconda.cloud/).\n",
        "\n",
        "### Visual Studio Code\n",
        "\n",
        "Link: <https://code.visualstudio.com/>\n",
        "\n",
        "Al igual que RStudio, VS Code es un entorno de trabajo pensado para ser utilizado en muchos idiomas. Uno de los aspectos que lo hace muy popular son sus extensiones, que permiten añadir funcionalidades extras que faciliten nuestro trabajo. La extensión `Jupyter` permite trabajar con **Jupyter Notebooks** previa instalación de `python` y `jupyter` como se menciona arriba. Actualmente, también se puede usar VS Code de forma online mediante [Github Codespaces](https://github.com/features/codespaces).\n",
        "\n",
        "### Google Colab\n",
        "\n",
        "Link: <https://colab.research.google.com/>\n",
        "\n",
        "\n",
        "Consiste en un servicio gestionado en la nube por Google de **Jupyter Notebooks**, al ser ejecutado mediante un servidor, no utiliza recursos de nuestro computador (ideal cuando usamos equipos con pocas capacidades o limitaciones para instalar software, como el computador del trabajo). A diferencia de los servicios online mencionados anteriormente (Anaconda Nucleus y Github Codespaces), Google Colab se puede usar de forma gratuita *ilimitadamente*. Una alternativa muy parecida son los notebooks de [kaggle](https://www.kaggle.com/mpwolke/kaggle-notebook)."
      ]
    },
    {
      "attachments": {},
      "cell_type": "markdown",
      "metadata": {
        "id": "dim_HNPLfjlk"
      },
      "source": [
        "**Familiarización con el Entorno de Desarrollo**\n",
        "\n",
        "\n",
        "* En este cuadernillo contamos con una estructura que es fundamental, llamada **celda**.\n",
        "* Esta celda puede contener **texto** (lo que contiene este cuadernillo hasta el momento) o **código** (como veremos ahora).\n",
        "* Puede crear una celda de código con el botón `+ Código` o con las teclas `b` (before) y `a` (after).\n",
        "* Puede ejecutar el contenido de una celda de código con la combinación de teclas `ctrl+enter` (o `cmd` si está usando un Mac).\n",
        "\n",
        "A continuación cree una nueva celda de código que tenga como contenido `print(\"Hola mundo!\")` y ejecútela ¡Este es el código comunmente usado para probar un nuevo lenguaje de programación! ¡Sean bienvenid@s oficialmente a `python`!"
      ]
    },
    {
      "attachments": {},
      "cell_type": "markdown",
      "metadata": {
        "id": "BUjd4pUjAsBG"
      },
      "source": []
    },
    {
      "cell_type": "code",
      "execution_count": null,
      "metadata": {
        "id": "GZ33jp1BAoN7"
      },
      "outputs": [],
      "source": []
    },
    {
      "cell_type": "code",
      "execution_count": 4,
      "metadata": {
        "colab": {
          "base_uri": "https://localhost:8080/"
        },
        "id": "q04EnB-mfjlk",
        "outputId": "11c45781-47ee-41b0-ed7b-b880123515f0"
      },
      "outputs": [
        {
          "name": "stdout",
          "output_type": "stream",
          "text": [
            "Hola mundo!\n"
          ]
        }
      ],
      "source": [
        "print(\"Hola mundo!\")"
      ]
    },
    {
      "attachments": {},
      "cell_type": "markdown",
      "metadata": {
        "id": "8vBC2MYPfjlm"
      },
      "source": [
        "* El Zen de `pyhton` es una colección de 20 principios bajo los cuales fue desarrollado este lenguaje.\n",
        "* Una versión en español: <https://es.wikipedia.org/wiki/Zen_de_Python>."
      ]
    },
    {
      "cell_type": "code",
      "execution_count": 5,
      "metadata": {
        "colab": {
          "base_uri": "https://localhost:8080/"
        },
        "id": "fCNWYneifjlm",
        "outputId": "b535a10d-2222-4329-80ad-e00d3de0ea89"
      },
      "outputs": [
        {
          "name": "stdout",
          "output_type": "stream",
          "text": [
            "The Zen of Python, by Tim Peters\n",
            "\n",
            "Beautiful is better than ugly.\n",
            "Explicit is better than implicit.\n",
            "Simple is better than complex.\n",
            "Complex is better than complicated.\n",
            "Flat is better than nested.\n",
            "Sparse is better than dense.\n",
            "Readability counts.\n",
            "Special cases aren't special enough to break the rules.\n",
            "Although practicality beats purity.\n",
            "Errors should never pass silently.\n",
            "Unless explicitly silenced.\n",
            "In the face of ambiguity, refuse the temptation to guess.\n",
            "There should be one-- and preferably only one --obvious way to do it.\n",
            "Although that way may not be obvious at first unless you're Dutch.\n",
            "Now is better than never.\n",
            "Although never is often better than *right* now.\n",
            "If the implementation is hard to explain, it's a bad idea.\n",
            "If the implementation is easy to explain, it may be a good idea.\n",
            "Namespaces are one honking great idea -- let's do more of those!\n"
          ]
        }
      ],
      "source": [
        "import this"
      ]
    },
    {
      "attachments": {},
      "cell_type": "markdown",
      "metadata": {
        "id": "G_j7WXwRfjln"
      },
      "source": [
        "## Operaciones\n",
        "\n",
        "* También, podemos usar `python` como una calculadora.\n",
        "* El orden de las operaciones se realizan acorde a las propiedades matemáticas.\n",
        "* Algunas de las operaciones disponibles en el lenguaje son:\n",
        "\n",
        "|          | Operación        | Ejemplo    |\n",
        "|----------|------------------|------------|\n",
        "| `+`      | suma             | `2 + 2`    |\n",
        "| `-`      | resta            | `10 - 9`   |\n",
        "| `*`      | multiplicación   | `5 * 2`    |\n",
        "| `/`      | división         | `12 / 7`   |\n",
        "| `%`      | resto            | `12 % 7`   |\n",
        "| `**`     | potencia         | `3 ** 2`   |\n",
        "\n",
        "Como ejemplo, calcular:\n",
        "* $12+5\\cdot 2 - {4\\over 2} + 3^2$.\n",
        "* $2^{50 - 4 \\cdot 9 \\over 7} - {1 \\over 3}$."
      ]
    },
    {
      "cell_type": "code",
      "execution_count": 6,
      "metadata": {
        "colab": {
          "base_uri": "https://localhost:8080/"
        },
        "id": "zzSGNsyzfjln",
        "outputId": "057d6e09-ce4f-4f20-c64a-bafce3c27cd3"
      },
      "outputs": [
        {
          "name": "stdout",
          "output_type": "stream",
          "text": [
            "29.0\n",
            "3.6666666666666665\n",
            "2 ** ((50 - 4 * 9) / 7) - 1 / 3\n"
          ]
        }
      ],
      "source": [
        "# Esto es un comentario y no tiene incidencia en la ejecución del código.\n",
        "# Los comentarios comienzan con #\n",
        "\n",
        "# Cálculo A\n",
        "print(12 + 5 * 2 - 4 / 2 + 3 ** 2)\n",
        "# Cálculo B\n",
        "print(2 ** ((50 - 4 * 9) / 7) - 1 / 3)\n",
        "print(\"2 ** ((50 - 4 * 9) / 7) - 1 / 3\")"
      ]
    },
    {
      "attachments": {},
      "cell_type": "markdown",
      "metadata": {
        "id": "gFZNT_Z4fjlo"
      },
      "source": [
        "## Objetos y variables\n",
        "\n",
        "* Un objeto es una colección de información. Ejemplos: `23`, `12.5`, `\"Esteban\"`, `True`, etc.\n",
        "* Podemos verificar el tipo de un objeto con la función `type`.\n",
        "* Algunos tipos comunes de objetos son `int` (números enteros), `float` (repr. de punto flotante o número decimal), `str` (cadena de texto) y `bool` (booleanos)."
      ]
    },
    {
      "cell_type": "code",
      "execution_count": 7,
      "metadata": {
        "id": "TkwS2u2Hfjlo",
        "outputId": "80f96082-5b28-44fc-f1f8-c350dcd0a821"
      },
      "outputs": [
        {
          "name": "stdout",
          "output_type": "stream",
          "text": [
            "<class 'int'>\n",
            "<class 'float'>\n",
            "<class 'str'>\n",
            "<class 'str'>\n",
            "<class 'bool'>\n"
          ]
        }
      ],
      "source": [
        "print(type(23)) # int\n",
        "print(type(12.5)) # float\n",
        "print(type(\"Esteban\")) # str: string\n",
        "print(type(\"59\")) # str: string\n",
        "print(type(True)) # boleano"
      ]
    },
    {
      "attachments": {},
      "cell_type": "markdown",
      "metadata": {
        "id": "KuCILFvefjlo"
      },
      "source": [
        "* Una variable es una colección de información indexada, bajo un nombre **previamente definido**.\n",
        "* La principal ventaja de las variables es poder reutilizar información.\n",
        "* Para asignar o crear una variable, usamos el operador de asignación `=`.\n",
        "* `python` es sensible a mayúsculas y minúsculas. O sea, `nombre` y `Nombre` serán objetos distintos."
      ]
    },
    {
      "attachments": {},
      "cell_type": "markdown",
      "metadata": {
        "id": "AKueRLOhfjlp"
      },
      "source": [
        "Veamos como los ejemplos de cálculo anteriores serán mucho más fáciles de leer con el uso de variables:"
      ]
    },
    {
      "cell_type": "code",
      "execution_count": 8,
      "metadata": {
        "id": "ncU7aWQNfjlp",
        "outputId": "2c129dda-dd4f-4deb-e33a-3a053753de38"
      },
      "outputs": [
        {
          "name": "stdout",
          "output_type": "stream",
          "text": [
            "7\n",
            "3.6666666666666665\n",
            "<class 'int'>\n",
            "<class 'int'>\n",
            "<class 'float'>\n",
            "<class 'float'>\n",
            "<class 'float'>\n"
          ]
        }
      ],
      "source": [
        "# Ejemplo 1: Replicar segundo cálculo anterior. Verifique el tipo de cada variable creada.\n",
        "\n",
        "# 2 ** ((50 - 4 * 9) / 7) - 1 / 3\n",
        "\n",
        "a = 50 - 4 * 9\n",
        "b = 7\n",
        "c = 1 / 3\n",
        "division = a / b\n",
        "\n",
        "B = 2 ** division - c\n",
        "print(b)\n",
        "print(B)\n",
        "print(type(a)) # int\n",
        "print(type(b)) # int\n",
        "print(type(c)) # float\n",
        "print(type(division)) # float\n",
        "print(type(B)) # float\n"
      ]
    },
    {
      "cell_type": "code",
      "execution_count": 9,
      "metadata": {
        "id": "kOWvvdnWfjlp",
        "outputId": "13cd97b0-6add-4c17-e439-19c21abf921d"
      },
      "outputs": [
        {
          "name": "stdout",
          "output_type": "stream",
          "text": [
            "esru2023@datascience.cl\n",
            "<class 'str'>\n"
          ]
        }
      ],
      "source": [
        "# Ejemplo 2: Crear correo con su nombre,\n",
        "# debe estar compuesto por las dos primeras letras de su nombre y apellido más el número 2023\n",
        "# y ser de dominio @datascience.cl\n",
        "# Verifique el tipo de variable\n",
        "nombre = \"esru\"\n",
        "numero = \"2023\"\n",
        "dominio = \"@datascience.cl\"\n",
        "correo = nombre + numero + dominio # concatena string o palabras\n",
        "print(correo)\n",
        "print(type(correo)) # str: string (cadena de texto u objeto tipo texto)"
      ]
    },
    {
      "attachments": {},
      "cell_type": "markdown",
      "metadata": {
        "id": "3WvmpOWLfjlp"
      },
      "source": [
        "## Conversiones de datos\n",
        "\n",
        "* En python, podemos cambiar el tipo actual de un objeto a otro, lo que coloquialmente se refiere a casteo de datos.\n",
        "* Por ejemplo, cambiar el string `\"2023\"` a valor entero `2023` y viceversa.\n",
        "* Esto se lleva a cabo con las funciones `int()`, `float()`, `str()` y `bool()`.\n",
        "  * `int()`: Cambia el tipo de objeto a número entero.\n",
        "  * `float()`: Cambia el tipo de objeto a representación de punto flotante (o número decimal).\n",
        "  * `str()`: Cambia el tipo de objeto a `str`. Objetos del tipo `str` se pueden concatenar mediante `+`.\n",
        "  * `bool()`: Cambia el tipo de objeto a booleano (`True` o `False`).\n"
      ]
    },
    {
      "cell_type": "code",
      "execution_count": 10,
      "metadata": {
        "colab": {
          "base_uri": "https://localhost:8080/",
          "height": 200
        },
        "id": "PnTeJdUjfjlq",
        "outputId": "ba7a7bf4-f550-4d30-f0ca-bddd28fb4e86"
      },
      "outputs": [
        {
          "ename": "TypeError",
          "evalue": "can only concatenate str (not \"int\") to str",
          "output_type": "error",
          "traceback": [
            "\u001b[0;31m---------------------------------------------------------------------------\u001b[0m",
            "\u001b[0;31mTypeError\u001b[0m                                 Traceback (most recent call last)",
            "Cell \u001b[0;32mIn[10], line 8\u001b[0m\n\u001b[1;32m      4\u001b[0m anio \u001b[39m=\u001b[39m \u001b[39m2023\u001b[39m \u001b[39m# int\u001b[39;00m\n\u001b[1;32m      6\u001b[0m \u001b[39m# str + str + int -> error: TypeError\u001b[39;00m\n\u001b[0;32m----> 8\u001b[0m \u001b[39mprint\u001b[39m(dia \u001b[39m+\u001b[39;49m mes \u001b[39m+\u001b[39;49m anio)\n",
            "\u001b[0;31mTypeError\u001b[0m: can only concatenate str (not \"int\") to str"
          ]
        }
      ],
      "source": [
        "# Ejemplos de conversiones de datos\n",
        "dia = \"25-\" # str\n",
        "mes = \"12-\" # str\n",
        "anio = 2023 # int\n",
        "\n",
        "# str + str + int -> error: TypeError\n",
        "\n",
        "print(dia + mes + anio)"
      ]
    },
    {
      "attachments": {},
      "cell_type": "markdown",
      "metadata": {
        "id": "yAbV2i_Nfjlq"
      },
      "source": [
        "Si bien profundizaremos en los errores en la próxima clase, ahora notar que `python` nos informa que no pudo concatenar lo pedido, debido a que no puede mezclar un número entero (`int`) con un `string` (`str`)."
      ]
    },
    {
      "cell_type": "code",
      "execution_count": 11,
      "metadata": {
        "colab": {
          "base_uri": "https://localhost:8080/"
        },
        "id": "C1FMetPKfjlq",
        "outputId": "8e1489b0-971c-4d70-a7ee-a350c7e3cc3f"
      },
      "outputs": [
        {
          "name": "stdout",
          "output_type": "stream",
          "text": [
            "25-12-2023\n"
          ]
        }
      ],
      "source": [
        "# Ahora anio es un string\n",
        "# str + str + str\n",
        "print(dia + mes + str(anio))"
      ]
    },
    {
      "attachments": {},
      "cell_type": "markdown",
      "metadata": {
        "id": "d15rjfFTfjlr"
      },
      "source": [
        "* Una forma de concatenar objetos sin castearlos a `str` es mediante los denominados `f-strings`.\n",
        "* Su nombre proviene de que su sintaxis comienza con una `f`, seguido de un `string`.\n",
        "* Para incorporar objetos dentro de un `string`, debe ser entre llaves `{}`.  "
      ]
    },
    {
      "cell_type": "code",
      "execution_count": null,
      "metadata": {
        "colab": {
          "base_uri": "https://localhost:8080/"
        },
        "id": "EtUk0H8dfjlr",
        "outputId": "269f100f-5329-4d8b-b288-214299c7c7c7"
      },
      "outputs": [
        {
          "name": "stdout",
          "output_type": "stream",
          "text": [
            "Fecha: 25-12-2023\n"
          ]
        }
      ],
      "source": [
        "# Repetir ejemplo de concatenación pero con un `f-string`\n",
        "dia = 25\n",
        "mes = 12\n",
        "anio = 2023\n",
        "\n",
        "resultado = f\"Fecha: {dia}-{mes}-{anio}\"\n",
        "# ojo: dia, mes y anio son de tipo int\n",
        "# sin embargo resultado es de tipo str\n",
        "print(resultado)"
      ]
    },
    {
      "attachments": {},
      "cell_type": "markdown",
      "metadata": {
        "id": "ls71JJy8fjlr"
      },
      "source": [
        "**Solicitud de información al usuario**\n",
        "\n",
        "* Podemos crear programas que soliciten información al usuario mediante la función `input()`\n",
        "* El tipo de objeto que entrega la función `input()` es un `string`. Por lo que debemos castear el objeto a uno que se ajuste a nuestra necesidad."
      ]
    },
    {
      "cell_type": "code",
      "execution_count": null,
      "metadata": {
        "colab": {
          "base_uri": "https://localhost:8080/"
        },
        "id": "OkyhhFRbfjlr",
        "outputId": "7236b93c-a9ab-4332-944e-938c1fdecc5f"
      },
      "outputs": [
        {
          "name": "stdout",
          "output_type": "stream",
          "text": [
            "Ingrese un nombre:Josefa\n",
            "Recibe una cordial bienvenida al diplomado, Josefa!\n"
          ]
        }
      ],
      "source": [
        "# Ejemplo 1: Dar la bienvenida al diplomado\n",
        "\n",
        "# input: el usuario debe ingresar un valor\n",
        "\n",
        "nombre = input(\"Ingrese un nombre:\")\n",
        "print(f\"Recibe una cordial bienvenida al diplomado, {nombre}!\")"
      ]
    },
    {
      "cell_type": "code",
      "execution_count": null,
      "metadata": {
        "colab": {
          "base_uri": "https://localhost:8080/",
          "height": 252
        },
        "id": "QW1q64jZfjls",
        "outputId": "79cb322c-ed2a-4b5b-ade7-deb28b862c63"
      },
      "outputs": [
        {
          "name": "stdout",
          "output_type": "stream",
          "text": [
            "Ingrese peso (kg):30,0\n",
            "Ingrese altura (m):20\n"
          ]
        },
        {
          "ename": "ValueError",
          "evalue": "ignored",
          "output_type": "error",
          "traceback": [
            "\u001b[0;31m---------------------------------------------------------------------------\u001b[0m",
            "\u001b[0;31mValueError\u001b[0m                                Traceback (most recent call last)",
            "\u001b[0;32m<ipython-input-6-6f77f43754a3>\u001b[0m in \u001b[0;36m<cell line: 5>\u001b[0;34m()\u001b[0m\n\u001b[1;32m      3\u001b[0m \u001b[0maltura\u001b[0m \u001b[0;34m=\u001b[0m \u001b[0minput\u001b[0m\u001b[0;34m(\u001b[0m\u001b[0;34m\"Ingrese altura (m):\"\u001b[0m\u001b[0;34m)\u001b[0m\u001b[0;34m\u001b[0m\u001b[0;34m\u001b[0m\u001b[0m\n\u001b[1;32m      4\u001b[0m \u001b[0;34m\u001b[0m\u001b[0m\n\u001b[0;32m----> 5\u001b[0;31m \u001b[0mimc\u001b[0m \u001b[0;34m=\u001b[0m \u001b[0mfloat\u001b[0m\u001b[0;34m(\u001b[0m\u001b[0mpeso\u001b[0m\u001b[0;34m)\u001b[0m \u001b[0;34m/\u001b[0m \u001b[0mfloat\u001b[0m\u001b[0;34m(\u001b[0m\u001b[0maltura\u001b[0m\u001b[0;34m)\u001b[0m \u001b[0;34m**\u001b[0m \u001b[0;36m2\u001b[0m\u001b[0;34m\u001b[0m\u001b[0;34m\u001b[0m\u001b[0m\n\u001b[0m\u001b[1;32m      6\u001b[0m \u001b[0mprint\u001b[0m\u001b[0;34m(\u001b[0m\u001b[0;34mf\"Su IMC es {imc}\"\u001b[0m\u001b[0;34m)\u001b[0m\u001b[0;34m\u001b[0m\u001b[0;34m\u001b[0m\u001b[0m\n",
            "\u001b[0;31mValueError\u001b[0m: could not convert string to float: '30,0'"
          ]
        }
      ],
      "source": [
        "# Ejemplo 2: Programa que calcula el IMC\n",
        "peso = input(\"Ingrese peso (kg):\")\n",
        "altura = input(\"Ingrese altura (m):\")\n",
        "\n",
        "imc = float(peso) / float(altura) ** 2\n",
        "print(f\"Su IMC es {imc}\")"
      ]
    },
    {
      "attachments": {},
      "cell_type": "markdown",
      "metadata": {
        "id": "6uxa-zpJfjls"
      },
      "source": [
        "## Colecciones de datos\n",
        "\n",
        "* Se pueden definir como un conjunto de objetos (o estructura de datos) dentro de una variable.\n",
        "* Entre los que más conocidos: `listas`, `tuplas` y `diccionarios`.\n",
        "* `Listas []`: Contienen un set de valores que son guardados de forma secuencial. Es **mutable**, es decir, se pueden agregar, quitar o modificar elementos dentro de este.\n",
        "* `Tuplas ()`: Estas no son **mutables**, pero tienen la ventaja de usar **menos memoria** y ser **más rápidas**.\n",
        "* `Diccionarios {}`: Estos tienen la ventaja de poder **identificar** cada elementos a través de una `llave o key`."
      ]
    },
    {
      "cell_type": "code",
      "execution_count": null,
      "metadata": {
        "colab": {
          "base_uri": "https://localhost:8080/"
        },
        "id": "cBpTMG44fjls",
        "outputId": "3e83071c-a3d1-48cd-8eff-aecbeecd980d"
      },
      "outputs": [
        {
          "name": "stdout",
          "output_type": "stream",
          "text": [
            "[1000, 500, 3000, 5000, 100]\n",
            "(1000, 500, 3000, 5000, 100)\n",
            "{'esteban': 30, 'alexis': 50, 'claudia': 30}\n"
          ]
        }
      ],
      "source": [
        "# Ejemplo de lista\n",
        "precios = [1000, 500, 3000, 5000, 100] # Si se puede editar\n",
        "\n",
        "# Ejemplo de tupla\n",
        "precios_tupla = (1000, 500, 3000, 5000, 100) # No se puede editar\n",
        "\n",
        "# Ejemplo de diccionario\n",
        "diccionario_edades = {\"esteban\": 30, \"alexis\": 50, \"claudia\": 30} # Si se pueden agregar nuevos valores (mutable)\n",
        "\n",
        "print(precios)\n",
        "print(precios_tupla)\n",
        "print(diccionario_edades)"
      ]
    },
    {
      "attachments": {},
      "cell_type": "markdown",
      "metadata": {
        "id": "R-HrJU_8fjlt"
      },
      "source": [
        "También podemos almacenar objetos de distinto tipo:"
      ]
    },
    {
      "cell_type": "code",
      "execution_count": null,
      "metadata": {
        "id": "yUo1LNk4fjlt",
        "outputId": "22d6a467-54e2-4a06-a80b-878eb5a7b470"
      },
      "outputs": [
        {
          "name": "stdout",
          "output_type": "stream",
          "text": [
            "[30, 'esteban', [30, 40, 50, 60], 'Cristian']\n",
            "{'Almacenamiento 1': [2, 3, 4], 'Almacenamiento 2': 'Bienvenid@s'}\n"
          ]
        }
      ],
      "source": [
        "# Lista con objetos de distinto tipo\n",
        "lista_cosas = [30, \"esteban\", [30, 40, 50, 60], \"Cristian\"]\n",
        "diccionario_cosas = {\"Almacenamiento 1\": [2, 3, 4], \"Almacenamiento 2\": \"Bienvenid@s\"}\n",
        "print(lista_cosas)\n",
        "print(diccionario_cosas)"
      ]
    },
    {
      "attachments": {},
      "cell_type": "markdown",
      "metadata": {
        "id": "hJmjC6oWfjlt"
      },
      "source": [
        "## Subconjuntos de datos\n",
        "<img src=\"https://cdn.programiz.com/sites/tutorial2program/files/python-list-index.png\" width=\"500px\">\n",
        "\n",
        "* Frecuentemente necesitamos trabajar con subconjuntos de datos.\n",
        "* Se realiza de distintas formas, dependiendo del tipo de objeto.\n",
        "* Para listas y tuplas, lo hacemos de forma numérica (*0-based indexing*). Además, podemos seleccionar más de un objeto.\n",
        "* Para `strings`, es de forma idéntica que las listas.\n",
        "* Para diccionarios, usamos el nombre de la `llave`."
      ]
    },
    {
      "cell_type": "code",
      "execution_count": null,
      "metadata": {
        "id": "exitQ6M1fjlt"
      },
      "outputs": [],
      "source": [
        "lista1 = [\"Dulce\", \"Salado\", \"Amargo\", \"Ácido\", \"Neutro\"]\n",
        "#            0         1         2        3        4\n",
        "#           -5        -4        -3       -2       -1\n",
        "diccionario1 = {\"nombre\": \"Alexis Sánchez\", \"edad\": 34, \"club\": \"Olympique de Marsella\"}"
      ]
    },
    {
      "cell_type": "code",
      "execution_count": null,
      "metadata": {
        "id": "zN4wVfxzfjlu",
        "outputId": "fad1766b-2b28-4328-9885-53c8c3b35b88"
      },
      "outputs": [
        {
          "name": "stdout",
          "output_type": "stream",
          "text": [
            "Primer objeto     : Dulce\n",
            "Penúltimo elemento: Ácido\n",
            "Club de Alexis    : Olympique de Marsella\n"
          ]
        }
      ],
      "source": [
        "# Ejemplo 1: Seleccionar solo un objeto (indexing). Con corchetes\n",
        "print(f\"Primer objeto     : {lista1[0]}\") # 0 indica la posicion 1 de la lista\n",
        "print(f\"Penúltimo elemento: {lista1[-2]}\")\n",
        "print(f\"Club de Alexis    : {diccionario1['club']}\") # club es la llave del diccionario"
      ]
    },
    {
      "attachments": {},
      "cell_type": "markdown",
      "metadata": {
        "id": "zmtdiAPBfjlu"
      },
      "source": [
        "* Tambien podemos seleccionar mutilples objetos lo que se conoce como *slicing*.\n",
        "* Para ello usamos la nomenclatura `inicio:fin`. Sin embargo, el ultimo elemento del slicing no es inclusivo.\n",
        "* O sea, si deseamos seleccionar hasta el elemento de la posición `n`, debemos realizar el slicing hasta el valor `n+1`."
      ]
    },
    {
      "cell_type": "code",
      "execution_count": null,
      "metadata": {
        "colab": {
          "base_uri": "https://localhost:8080/"
        },
        "id": "8KcnbDu_fjlu",
        "outputId": "65f5f222-eab9-4d95-d419-736dfbe087bd"
      },
      "outputs": [
        {
          "name": "stdout",
          "output_type": "stream",
          "text": [
            "['Dulce', 'Salado', 'Amargo', 'Ácido']\n",
            "['Dulce', 'Salado', 'Amargo', 'Ácido']\n",
            "['Salado', 'Amargo', 'Ácido']\n",
            "['Ácido', 'Neutro']\n"
          ]
        }
      ],
      "source": [
        "# Ejemplo: Slicing de objetos de una lista.\n",
        "# Seleccionar los 4 primeros elementos\n",
        "\n",
        "lista1 = [\"Dulce\", \"Salado\", \"Amargo\", \"Ácido\", \"Neutro\"]\n",
        "#            0         1         2        3        4\n",
        "#           -5        -4        -3       -2       -1\n",
        "\n",
        "print(lista1[0:4]) # Se seleccionan los elementos de las posiciones 0, 1, 2 y 3\n",
        "print(lista1[:4]) # Otra forma: no se indica el comienzo\n",
        "\n",
        "# Ver los elementos centrales\n",
        "print(lista1[1:4]) # Se seleccionan los elementos de las posiciones 1, 2 y 3\n",
        "print(lista1[-2:]) # No se indica el fin"
      ]
    },
    {
      "attachments": {},
      "cell_type": "markdown",
      "metadata": {
        "id": "IRGwVuiCfjlu"
      },
      "source": [
        "## Métodos importantes para listas\n",
        "\n",
        "Formalizaremos el concepto de métodos en la próxima clase.\n",
        "\n",
        "* `append` : Agregar elemento al final.\n",
        "* `pop`    : Retorna y elimina el objecto ubicado en el índice indicado.\n",
        "* `remove` : Se usa cuando se conoce el nombre del elemento pero no su posición.\n",
        "* `reverse`: Cambia dirección en que se encuetran ubicacos los elementos de una lista.\n",
        "* `sort`   : Por defecto, ordena elementos de menor a mayor.\n",
        "* `index`: Busca un elemento dentro de una lista y entrega la posición.\n",
        "* `join`: Une los elementos de una lista usando un separador.\n",
        "\n",
        "## Funciones importantes para listas\n",
        "\n",
        "* `len`      : Indica tamaño de lista.\n",
        "* `min`      : Mínimo valor dentro de lista.\n",
        "* `max`      : Máximo valor dentro de lista.\n",
        "* `sum`      : Suma elementos dentro de lista.\n",
        "* `zip`      : concatena listas en un objeto iterable, luego podemos usar la función `list` para acceder al resultado.\n",
        "* `enumerate`: Crea un containter donde cada posición esta compuesta por una tupla conteniendo el índice y elementos de una lista. Podemos usar la función `list` para acceder al resultado"
      ]
    },
    {
      "cell_type": "code",
      "execution_count": null,
      "metadata": {
        "id": "aKq_1mF_fjlu"
      },
      "outputs": [],
      "source": [
        "precios = [1000, 2000, 1500, 300, 600, 500, 5000]\n",
        "nombres = [\"Esteban\", \"Sebastián\", \"Ana\", \"María\", \"Victoria\", \"Francisco\", \"Carlos\"]"
      ]
    },
    {
      "cell_type": "code",
      "execution_count": null,
      "metadata": {
        "colab": {
          "base_uri": "https://localhost:8080/"
        },
        "id": "85KtaBm8fjlv",
        "outputId": "dac28275-a573-4636-c57a-357d70f897f9"
      },
      "outputs": [
        {
          "name": "stdout",
          "output_type": "stream",
          "text": [
            "[1000, 2000, 1500, 300, 600, 500, 5000, 3000]\n"
          ]
        }
      ],
      "source": [
        "# Ejemplo de métodos:\n",
        "# a precios agregarle al final el valor 3000\n",
        "precios.append(3000) # Esto no me muestra una lista, solo ejecuta la acción\n",
        "print(precios)"
      ]
    },
    {
      "cell_type": "code",
      "execution_count": null,
      "metadata": {
        "colab": {
          "base_uri": "https://localhost:8080/"
        },
        "id": "JI3GuCRwfjlv",
        "outputId": "abbe1856-cc49-4c25-88e9-a88655a82565"
      },
      "outputs": [
        {
          "name": "stdout",
          "output_type": "stream",
          "text": [
            "Posición: 1\n",
            "2000\n"
          ]
        }
      ],
      "source": [
        "posicion = precios.index(2000)\n",
        "print(\"Posición:\", posicion)\n",
        "print(precios[posicion])\n",
        "# Recuerden, las posiciones parten desde 0, por lo que el segundo elemento\n",
        "# se encuentra en la posicion 1\n",
        "# Si hay elementos repetidos, devuelve la posicion de la primera\n",
        "# aparicion"
      ]
    },
    {
      "cell_type": "code",
      "execution_count": null,
      "metadata": {
        "id": "ib9zLIl3fjlv",
        "outputId": "5098799b-6ffa-4d3b-bc34-471ac4556707"
      },
      "outputs": [
        {
          "name": "stdout",
          "output_type": "stream",
          "text": [
            "Cantidad de objetos: 8\n",
            "Valor mínimo: 300\n"
          ]
        }
      ],
      "source": [
        "# FUNCIONES:\n",
        "# cantidad de objetos en la lista de precios:\n",
        "print(f\"Cantidad de objetos: {len(precios)}\")\n",
        "\n",
        "# mínimo valor en la lista de precios\n",
        "print(f\"Valor mínimo: {min(precios)}\")"
      ]
    },
    {
      "cell_type": "code",
      "execution_count": null,
      "metadata": {
        "id": "VaMmfswRfjlv"
      },
      "outputs": [],
      "source": [
        "# Primero, la lista de nombres debe tener la misma cantidad de elementos que precios\n",
        "# Añadamos el objeto \"Carolina\" a nombres\n",
        "nombres.append(\"Carolina\")"
      ]
    },
    {
      "cell_type": "code",
      "execution_count": null,
      "metadata": {
        "colab": {
          "base_uri": "https://localhost:8080/"
        },
        "id": "zR6vB5Z9fjlv",
        "outputId": "f5f03643-626e-4420-ef66-e4e59c4a102e"
      },
      "outputs": [
        {
          "name": "stdout",
          "output_type": "stream",
          "text": [
            "['Esteban', 'Sebastián', 'Ana', 'María', 'Victoria', 'Francisco', 'Carlos', 'Carolina']\n",
            "[1000, 2000, 1500, 300, 600, 500, 5000]\n",
            "[('Esteban', 1000), ('Sebastián', 2000), ('Ana', 1500), ('María', 300), ('Victoria', 600), ('Francisco', 500), ('Carlos', 5000)]\n"
          ]
        },
        {
          "data": {
            "text/plain": [
              "('Esteban', 1000)"
            ]
          },
          "execution_count": 15,
          "metadata": {},
          "output_type": "execute_result"
        }
      ],
      "source": [
        "# zip: Combinar elementos entre dos listas, uno a uno.\n",
        "valores_y_nombre = list(zip(nombres, precios)) # Crea una lista donde los elementos son tuplas\n",
        "print(nombres)\n",
        "print(precios)\n",
        "print(valores_y_nombre)\n",
        "valores_y_nombre[0]"
      ]
    },
    {
      "cell_type": "code",
      "execution_count": null,
      "metadata": {
        "colab": {
          "base_uri": "https://localhost:8080/"
        },
        "id": "OGYRlgCxOjAL",
        "outputId": "57fd29a7-c9e4-489a-99b7-29028f21e1e8"
      },
      "outputs": [
        {
          "name": "stdout",
          "output_type": "stream",
          "text": [
            "[(0, 'Esteban'), (1, 'Sebastián'), (2, 'Ana'), (3, 'María'), (4, 'Victoria'), (5, 'Francisco'), (6, 'Carlos'), (7, 'Carolina')]\n"
          ]
        }
      ],
      "source": [
        "print(list(enumerate(nombres)))"
      ]
    },
    {
      "attachments": {},
      "cell_type": "markdown",
      "metadata": {
        "id": "5Vz78AvOfjlw"
      },
      "source": [
        "## Otros tipos de operadores\n",
        "\n",
        "Además de los operadores aritméticos vistos anteriormente, existen otros tipos:\n",
        "\n",
        "* **Operadores comparativos**: Estas expresiones comparan dos valores y evaluan si son `True` o `False`. Estos son `<`,   `>`,  `<=`, `>=`, `==` (igual a), `!=` (distinto a), `is` (para comparaciones de almacenamiento en memoria).\n",
        "* **Operadores lógicos**      : Estos operan entre objetos que son del tipo booleano (`True/False`). Encontramos a `or`, `and`, `not`. Su sustento se encuentra dentro de la teoría de [lógica proposicional](https://es.wikipedia.org/wiki/L%C3%B3gica_proposicional#Conectivas_l%C3%B3gicas).\n",
        "* **Operadores de asignación**: Estos asignan un valor a una variable. Están `=`, `+=`, `-=`, `*=`, `/=`, entre otros.\n",
        "* **Operadores de membresía**: Comprueban si un valor en particular se encuentran en una colección (como `listas` o `tuplas`). Son `in` y `not in`."
      ]
    },
    {
      "cell_type": "code",
      "execution_count": null,
      "metadata": {
        "id": "ckXP7Auofjlw",
        "outputId": "dc859763-6d12-4cb4-866b-57c07d3ac0bf"
      },
      "outputs": [
        {
          "name": "stdout",
          "output_type": "stream",
          "text": [
            "True\n",
            "False\n",
            "True\n"
          ]
        }
      ],
      "source": [
        "# Operadores comparativos\n",
        "print(10 >= 3)  # es mayor o igual\n",
        "print(20 == 10) # Es igual?\n",
        "print(5 != 1)   # Es distinto?"
      ]
    },
    {
      "cell_type": "code",
      "execution_count": null,
      "metadata": {
        "id": "CKIksgmWfjlw",
        "outputId": "cbc0bdc0-d29a-4d28-fd9f-5c3b7337528b"
      },
      "outputs": [
        {
          "name": "stdout",
          "output_type": "stream",
          "text": [
            "True\n",
            "False\n"
          ]
        }
      ],
      "source": [
        "# Operadores lógicos\n",
        "print((2 > 3) or (10 == 10)) # Falso o Verdadero = Verdadero\n",
        "print((2 > 3) and (10 == 10)) # Falso y Verdadero = Falso"
      ]
    },
    {
      "cell_type": "code",
      "execution_count": null,
      "metadata": {
        "id": "mtrGBq8Gfjlw",
        "outputId": "db4cd01b-5d7c-466d-b8af-84d53fa7e0fa"
      },
      "outputs": [
        {
          "name": "stdout",
          "output_type": "stream",
          "text": [
            "5\n",
            "5\n"
          ]
        }
      ],
      "source": [
        "# Operadores de asignación\n",
        "valor1 = 3\n",
        "valor2 = 3\n",
        "# Forma intuititva de añadir 2 a valor1 y almacenar el resultado en la misma variable.\n",
        "valor1 = valor1 + 2\n",
        "# Forma más rápida, lleva al mismo resultado\n",
        "valor2 += 2\n",
        "\n",
        "print(valor1)\n",
        "print(valor2)"
      ]
    },
    {
      "cell_type": "code",
      "execution_count": null,
      "metadata": {
        "id": "aYWiVcr8fjlw",
        "outputId": "cd17cda8-b042-4b17-fd49-061cba3aad64"
      },
      "outputs": [
        {
          "name": "stdout",
          "output_type": "stream",
          "text": [
            "[1000, 2000, 1500, 300, 600, 500, 5000, 3000]\n",
            "True\n",
            "True\n"
          ]
        }
      ],
      "source": [
        "# Operadores de Membresía\n",
        "print(precios)\n",
        "print(300 in precios) # 300 se encuentra en la lista precios?\n",
        "print(350 not in precios) # 350 NO se encuentra en la lista precios?"
      ]
    },
    {
      "attachments": {},
      "cell_type": "markdown",
      "metadata": {
        "id": "_vqGlHtHfjlx"
      },
      "source": [
        "## Estructuras condicionales\n",
        "<img src=\"https://tcl.azureedge.net/p/images_ar/art_img/9b97d992-4ea9-4665-8da4-e8af86c502ff.jpg\" width=\"500px\">\n",
        "\n",
        "* Comprueba si una condición es verdadera o falsa, y en base a eso se lleva a cabo una acción.\n",
        "* Se lleva a cabo mediante las sentencias `if, elif y else`.\n",
        "* La sentencia `elif` (else if), comprueba una condición, si la condición de la sentencia `if` no se cumple. Podemos acumular tantas sentencias `elif` como necesitemos.\n",
        "* La sentencia `else` , la usamos cuando necesitamos ejecutar un bloque de código cuando ninguna de las condiciones anteriores se han cumplido.\n",
        "* Un punto importante es el **uso de indentaciones**, estas nos permiten encapsular el código a ejecutar bajo el cumplimiento de cada una de las sentencias mencionadas.\n",
        "* Al final de cada línea de estas sentencias, deben ir `:`.\n",
        "\n",
        "Su sintaxis es la siguiente:\n",
        "\n",
        "```python\n",
        "if condicion_A:\n",
        "    accion_A\n",
        "elif condicion_B:\n",
        "    accion_B\n",
        "else:\n",
        "    accion_else\n",
        "```"
      ]
    },
    {
      "cell_type": "code",
      "execution_count": null,
      "metadata": {
        "colab": {
          "base_uri": "https://localhost:8080/"
        },
        "id": "PKTLBkx_fjlx",
        "outputId": "edd2b63b-f140-4fa7-95e5-254e738975e3"
      },
      "outputs": [
        {
          "name": "stdout",
          "output_type": "stream",
          "text": [
            "Somos pocos pero locos\n"
          ]
        }
      ],
      "source": [
        "# Ejemplo 1: Asistencia a la sala de clases\n",
        "asistencia = 5\n",
        "\n",
        "# Nota: El orden de las sentencias es importante!!!!\n",
        "\n",
        "if asistencia > 50: # el 50 no esta incluido!!\n",
        "  print(\"Somos demasiados!\")\n",
        "elif asistencia > 20: # si no se cumple sentencia if\n",
        "  print(\"Gracias por venir!!!\")\n",
        "elif asistencia > 10:\n",
        "  print(\"Somos entre 10 y 20\")\n",
        "else: # en caso contrario\n",
        "  print(\"Somos pocos pero locos\")"
      ]
    },
    {
      "cell_type": "code",
      "execution_count": null,
      "metadata": {
        "colab": {
          "base_uri": "https://localhost:8080/"
        },
        "id": "CshrDJ02fjlx",
        "outputId": "a1e16eb4-706d-4d5e-c5cc-bea20c996ad8"
      },
      "outputs": [
        {
          "name": "stdout",
          "output_type": "stream",
          "text": [
            "bonificacion: True\n",
            "promedio original: 6.05\n",
            "promedio final: 6.55\n"
          ]
        }
      ],
      "source": [
        "# Ejemplo 2: Dadas las notas de un curso,\n",
        "# el profesor decide añadir una bonificación de dos décimas\n",
        "# si el promedio de las notas es mayor a 5.\n",
        "# La bonificación será de 5 décimas si el promedio es mayor o igual a 6.\n",
        "# Decida si el curso recibirá la bonificación y\n",
        "# calcule el nuevo promedio incluyendo las décimas.\n",
        "notas = [5.5, 6.8, 6.5, 6.5, 6.0, 5.9, 7.0, 6.5, 3.6, 6.0, 6.2]\n",
        "\n",
        "promedio = sum(notas) / len(notas)\n",
        "\n",
        "if promedio >= 6.5:\n",
        "  promedio_final = 7 # el maximo valor del promedio es 7\n",
        "elif promedio > 6:\n",
        "  promedio_final = promedio + 0.5\n",
        "elif promedio > 5:\n",
        "  promedio_final = promedio + 0.2\n",
        "else:\n",
        "  print(\"No hay bonificación :( estudiar más!!\")\n",
        "  promedio_final = promedio\n",
        "\n",
        "bonificacion = promedio > 5 # reciben o no decimas?\n",
        "\n",
        "print(\"bonificacion:\", bonificacion)\n",
        "print(\"promedio original:\", round(promedio, 2)) # round redondea un numero float, en este caso a dos decimales\n",
        "print(\"promedio final:\", round(promedio_final, 2))"
      ]
    },
    {
      "attachments": {},
      "cell_type": "markdown",
      "metadata": {
        "id": "0AjC9Vexfjlx"
      },
      "source": [
        "* En muchas situaciones, puede ser conveniente el uso del **operador ternario** para revisar condiciones.\n",
        "* Esta se puede entender como una estructura condicional de una sola línea. Muchos lenguajes de programación la tienen incorporada, pero en `python` el orden es distinto.\n",
        "* Su sintaxis es la siguiente:\n",
        "  \n",
        "```python\n",
        "variable = valor1 if condicion else valor2\n",
        "```\n",
        "Lo que se puede entender como: \"`variable` toma el valor `valor1` si se cumple `condicion`, en caso contrario toma el valor `valor2`.\""
      ]
    },
    {
      "cell_type": "code",
      "execution_count": null,
      "metadata": {
        "colab": {
          "base_uri": "https://localhost:8080/"
        },
        "id": "3HWsY6t8fjlx",
        "outputId": "136e9cda-f5e2-4966-9c89-d2fd3b5ff043"
      },
      "outputs": [
        {
          "name": "stdout",
          "output_type": "stream",
          "text": [
            "Escriba un número entero: 10\n",
            "El número 10 es Par.\n"
          ]
        }
      ],
      "source": [
        "# Ejemplo: Cree un programa que indique la palabra \"Par\" o \"Impar\" dependiendo del número que reciba.\n",
        "numero = int(input(\"Escriba un número entero: \"))\n",
        "tipo = \"Par\" if numero % 2 == 0 else \"Impar\"\n",
        "print(f\"El número {numero} es {tipo}.\")"
      ]
    },
    {
      "attachments": {},
      "cell_type": "markdown",
      "metadata": {
        "id": "tziCrBLefjly"
      },
      "source": [
        "## Ejercicios de práctica"
      ]
    },
    {
      "attachments": {},
      "cell_type": "markdown",
      "metadata": {
        "id": "mL3MvExrfjly"
      },
      "source": [
        "**1.** Cree un programa que pida al usuario su peso en kilogramos y su altura en metros, y luego calcule el índice de masa corporal (IMC) utilizando la fórmula: **IMC = peso / (altura * altura)**. Finalmente, muestre un mensaje que indique si la persona está en el rango de peso saludable (IMC entre 18.5 y 24.9, inclusivo) o no."
      ]
    },
    {
      "cell_type": "code",
      "execution_count": null,
      "metadata": {
        "id": "uOYhW998fjly"
      },
      "outputs": [],
      "source": [
        "# Responda aquí:\n",
        "\n",
        "# Pedir peso al usuario\n",
        "peso = float(input(\"Ingrese su peso en kg: \"))\n",
        "\n",
        "# Pedir altura al usuario\n",
        "altura = float(input(\"Ingrese su altura en metros: \"))\n",
        "\n",
        "# Calcular IMC\n",
        "imc = peso / altura**2\n",
        "\n",
        "if imc >= 18.5 and imc <= 24.9:\n",
        "    print(\"Su IMC es:\", imc, \"y está en el rango de peso saludable.\")\n",
        "else:\n",
        "    print(\"Su IMC es:\", imc, \"y no está en el rango de peso saludable.\")"
      ]
    },
    {
      "attachments": {},
      "cell_type": "markdown",
      "metadata": {
        "id": "nrOkWmOgfjly"
      },
      "source": [
        "**2.** Cree un programa que pida al usuario que ingrese un nombre de usuario y una contraseña. Si el nombre de usuario es \"admin\" y la contraseña es \"secreta\", muestre un mensaje que dice \"Acceso concedido\". De lo contrario, muestre un mensaje que dice \"Acceso denegado\"."
      ]
    },
    {
      "cell_type": "code",
      "execution_count": null,
      "metadata": {
        "id": "KiOwBYN8fjly"
      },
      "outputs": [],
      "source": [
        "# Responda aquí:\n",
        "\n",
        "# Pedir nombre al usuario\n",
        "nombre = input(\"Ingrese su nombre: \")\n",
        "\n",
        "# Pedir contraseña al usuario\n",
        "contrasena = input(\"Ingrese su contraseña: \")\n",
        "\n",
        "if (nombre == \"admin\" and contrasena == \"secreta\"):\n",
        "    print(\"Acceso concedido\")\n",
        "else:\n",
        "    print(\"Acceso denegado\")"
      ]
    },
    {
      "attachments": {},
      "cell_type": "markdown",
      "metadata": {
        "id": "rGWnXvGFfjly"
      },
      "source": [
        "**3.** Cree un programa que pida al usuario que ingrese dos números y luego muestre la suma, la resta, el producto y la división de esos dos números. Utilice una tupla para almacenar los números ingresados por el usuario."
      ]
    },
    {
      "cell_type": "code",
      "execution_count": null,
      "metadata": {
        "id": "SvzQAKuzfjly"
      },
      "outputs": [],
      "source": [
        "# Responda aquí:\n",
        "\n",
        "# Pedir primer número al usuario\n",
        "numero1 = float(input(\"Ingrese un número: \"))\n",
        "\n",
        "# Pedir segundo número al usuario\n",
        "numero2 = float(input(\"Ingrese otro número: \"))\n",
        "\n",
        "numeros = (numero1, numero2)\n",
        "\n",
        "suma = numeros[0] + numeros[1]\n",
        "resta = numeros[0] - numeros[1]\n",
        "producto = numeros[0] * numeros[1]\n",
        "division = numeros[0] / numeros[1]\n",
        "\n",
        "print(\"La suma es:\", suma)\n",
        "print(\"La resta es:\", resta)\n",
        "print(\"El producto es:\", producto)\n",
        "print(\"La división es:\", division)\n"
      ]
    },
    {
      "attachments": {},
      "cell_type": "markdown",
      "metadata": {
        "id": "5BEmVNzZfjlz"
      },
      "source": [
        "**4.** Cree un programa que muestre el valor mínimo y máximo de la lista dada."
      ]
    },
    {
      "cell_type": "code",
      "execution_count": 12,
      "metadata": {
        "id": "fQlrRBsFfjlz"
      },
      "outputs": [
        {
          "name": "stdout",
          "output_type": "stream",
          "text": [
            "El valor máximo es 20 y el valor mínimo es -20\n"
          ]
        }
      ],
      "source": [
        "numeros = [-20, -15, -5, 0, 5, 15, 20]\n",
        "# Respuesta aquí:\n",
        "\n",
        "max_valor = max(numeros)\n",
        "min_valor = min(numeros)\n",
        "\n",
        "print(f'El valor máximo es {max_valor} y el valor mínimo es {min_valor}')"
      ]
    },
    {
      "attachments": {},
      "cell_type": "markdown",
      "metadata": {
        "id": "8rEJ14G7fjlz"
      },
      "source": [
        "**5.** Cree un programa que pida al usuario que ingrese su edad y luego muestre un mensaje que diga si es mayor de edad o no. En caso de ser menor de edad, indicar cuantos años le falta para ser mayor de edad."
      ]
    },
    {
      "cell_type": "markdown",
      "metadata": {},
      "source": []
    },
    {
      "cell_type": "code",
      "execution_count": 14,
      "metadata": {
        "id": "xkpkdbgvfjlz"
      },
      "outputs": [],
      "source": [
        "# Responda aquí\n",
        "\n",
        "# Pedir edad a usuario\n",
        "edad = int(input(\"Ingrese su edad: \"))\n",
        "\n",
        "if (edad >= 18):\n",
        "    print(\"Usted es mayor de edad\")\n",
        "else:\n",
        "    print(\"Usted es menor de edad, le falta todavía\", 18 - edad, \"años para ser mayor de edad\")"
      ]
    }
  ],
  "metadata": {
    "colab": {
      "include_colab_link": true,
      "provenance": []
    },
    "kernelspec": {
      "display_name": "default",
      "language": "python",
      "name": "python3"
    },
    "language_info": {
      "codemirror_mode": {
        "name": "ipython",
        "version": 3
      },
      "file_extension": ".py",
      "mimetype": "text/x-python",
      "name": "python",
      "nbconvert_exporter": "python",
      "pygments_lexer": "ipython3",
      "version": "3.9.6"
    },
    "orig_nbformat": 4
  },
  "nbformat": 4,
  "nbformat_minor": 0
}
