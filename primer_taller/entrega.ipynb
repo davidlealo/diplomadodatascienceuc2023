{
 "cells": [
  {
   "cell_type": "markdown",
   "metadata": {},
   "source": [
    "# Pregunta 1\n",
    "Cargue la base de datos bike.csv. Realice las siguientes procesos de limpieza\n",
    "\n",
    "Transforme a factor las variables categóricas.\n",
    "Transforme las variables temp y atemp a grados celsius, ya que se encuentran en escala normalizada. Use las siguientes fórmulas respectivamente:\n",
    "(47*temp-8).\n",
    "(66*atemp-16).\n",
    "Transforme la variable humedad a porcentaje (multiplique la variable por 100).\n",
    "Transforme la velocidad del viento a millas por hora (multiplique por 67 el valor de la variable normalizada)."
   ]
  },
  {
   "cell_type": "code",
   "execution_count": 1,
   "metadata": {},
   "outputs": [],
   "source": [
    "# Importar pandas\n",
    "import pandas as pd"
   ]
  },
  {
   "cell_type": "code",
   "execution_count": 4,
   "metadata": {},
   "outputs": [],
   "source": [
    "# Cargar base de datos bike.csv\n",
    "data_bikes = pd.read_csv('data/bikes.csv')"
   ]
  },
  {
   "cell_type": "code",
   "execution_count": 8,
   "metadata": {},
   "outputs": [
    {
     "name": "stdout",
     "output_type": "stream",
     "text": [
      "Shape\n"
     ]
    },
    {
     "data": {
      "text/plain": [
       "(731, 14)"
      ]
     },
     "execution_count": 8,
     "metadata": {},
     "output_type": "execute_result"
    }
   ],
   "source": [
    "print('Shape')\n",
    "data_bikes.shape"
   ]
  },
  {
   "cell_type": "code",
   "execution_count": 9,
   "metadata": {},
   "outputs": [
    {
     "name": "stdout",
     "output_type": "stream",
     "text": [
      "__________\n",
      "Info\n",
      "<class 'pandas.core.frame.DataFrame'>\n",
      "RangeIndex: 731 entries, 0 to 730\n",
      "Data columns (total 14 columns):\n",
      " #   Column      Non-Null Count  Dtype  \n",
      "---  ------      --------------  -----  \n",
      " 0   date        731 non-null    object \n",
      " 1   season      731 non-null    int64  \n",
      " 2   year        731 non-null    int64  \n",
      " 3   month       731 non-null    int64  \n",
      " 4   holiday     731 non-null    int64  \n",
      " 5   weekday     731 non-null    int64  \n",
      " 6   workingday  731 non-null    int64  \n",
      " 7   weather     731 non-null    int64  \n",
      " 8   temp        731 non-null    float64\n",
      " 9   atemp       731 non-null    float64\n",
      " 10  humidity    731 non-null    float64\n",
      " 11  windspeed   731 non-null    float64\n",
      " 12  registered  731 non-null    int64  \n",
      " 13  Target      731 non-null    int64  \n",
      "dtypes: float64(4), int64(9), object(1)\n",
      "memory usage: 80.1+ KB\n"
     ]
    }
   ],
   "source": [
    "\n",
    "print('__________')\n",
    "print('Info')\n",
    "data_bikes.info()"
   ]
  },
  {
   "cell_type": "code",
   "execution_count": 11,
   "metadata": {},
   "outputs": [],
   "source": [
    "# Transforme a factor las variables categóricas.\n",
    "categorical_vars = ['season', 'year', 'month', 'holiday', 'weekday', 'workingday', 'weather']\n",
    "for var in categorical_vars:\n",
    "    data_bikes[var] = data_bikes[var].astype('category')\n"
   ]
  },
  {
   "cell_type": "code",
   "execution_count": 12,
   "metadata": {},
   "outputs": [
    {
     "name": "stdout",
     "output_type": "stream",
     "text": [
      "<class 'pandas.core.frame.DataFrame'>\n",
      "RangeIndex: 731 entries, 0 to 730\n",
      "Data columns (total 14 columns):\n",
      " #   Column      Non-Null Count  Dtype   \n",
      "---  ------      --------------  -----   \n",
      " 0   date        731 non-null    object  \n",
      " 1   season      731 non-null    category\n",
      " 2   year        731 non-null    category\n",
      " 3   month       731 non-null    category\n",
      " 4   holiday     731 non-null    category\n",
      " 5   weekday     731 non-null    category\n",
      " 6   workingday  731 non-null    category\n",
      " 7   weather     731 non-null    category\n",
      " 8   temp        731 non-null    float64 \n",
      " 9   atemp       731 non-null    float64 \n",
      " 10  humidity    731 non-null    float64 \n",
      " 11  windspeed   731 non-null    float64 \n",
      " 12  registered  731 non-null    int64   \n",
      " 13  Target      731 non-null    int64   \n",
      "dtypes: category(7), float64(4), int64(2), object(1)\n",
      "memory usage: 46.5+ KB\n"
     ]
    }
   ],
   "source": [
    "data_bikes.info()"
   ]
  },
  {
   "cell_type": "code",
   "execution_count": 15,
   "metadata": {},
   "outputs": [],
   "source": [
    "# Cambiar a fecha variable 'date' a formato datetime año-mes-día\n",
    "data_bikes['date'] = pd.to_datetime(data_bikes['date'], format='%Y-%m-%d')"
   ]
  },
  {
   "cell_type": "code",
   "execution_count": 16,
   "metadata": {},
   "outputs": [
    {
     "name": "stdout",
     "output_type": "stream",
     "text": [
      "<class 'pandas.core.frame.DataFrame'>\n",
      "RangeIndex: 731 entries, 0 to 730\n",
      "Data columns (total 14 columns):\n",
      " #   Column      Non-Null Count  Dtype         \n",
      "---  ------      --------------  -----         \n",
      " 0   date        731 non-null    datetime64[ns]\n",
      " 1   season      731 non-null    category      \n",
      " 2   year        731 non-null    category      \n",
      " 3   month       731 non-null    category      \n",
      " 4   holiday     731 non-null    category      \n",
      " 5   weekday     731 non-null    category      \n",
      " 6   workingday  731 non-null    category      \n",
      " 7   weather     731 non-null    category      \n",
      " 8   temp        731 non-null    float64       \n",
      " 9   atemp       731 non-null    float64       \n",
      " 10  humidity    731 non-null    float64       \n",
      " 11  windspeed   731 non-null    float64       \n",
      " 12  registered  731 non-null    int64         \n",
      " 13  Target      731 non-null    int64         \n",
      "dtypes: category(7), datetime64[ns](1), float64(4), int64(2)\n",
      "memory usage: 46.5 KB\n"
     ]
    }
   ],
   "source": [
    "# Nuevo info con data como fecha\n",
    "data_bikes.info()"
   ]
  },
  {
   "cell_type": "code",
   "execution_count": 19,
   "metadata": {},
   "outputs": [],
   "source": [
    "# Transforme las variables temp y atemp a grados celsius, ya que se encuentran en escala normalizada\n",
    "data_bikes['temp'] = 47 * data_bikes['temp'] -8 #Transformación temperatura\n",
    "data_bikes['atemp'] = 66 * data_bikes['atemp'] -16 #Transformación sensación térmica"
   ]
  },
  {
   "cell_type": "code",
   "execution_count": 20,
   "metadata": {},
   "outputs": [],
   "source": [
    "# Transforme la variable humedad a porcentaje (multiplique la variable por 100)\n",
    "data_bikes['humidity'] = data_bikes['humidity'] * 100"
   ]
  },
  {
   "cell_type": "code",
   "execution_count": null,
   "metadata": {},
   "outputs": [],
   "source": [
    "# Transforme la velocidad del viento a millas por hora \n",
    "# (multiplique por 67 el valor de la variable normalizada)\n",
    "data_bikes['windspeed'] = data_bikes['windspeed'] * 67"
   ]
  }
 ],
 "metadata": {
  "kernelspec": {
   "display_name": "Python 3",
   "language": "python",
   "name": "python3"
  },
  "language_info": {
   "codemirror_mode": {
    "name": "ipython",
    "version": 3
   },
   "file_extension": ".py",
   "mimetype": "text/x-python",
   "name": "python",
   "nbconvert_exporter": "python",
   "pygments_lexer": "ipython3",
   "version": "3.9.6"
  },
  "orig_nbformat": 4
 },
 "nbformat": 4,
 "nbformat_minor": 2
}
