{
 "cells": [
  {
   "cell_type": "code",
   "execution_count": 19,
   "metadata": {},
   "outputs": [
    {
     "data": {
      "text/plain": [
       "'\\nArchivo en GitHub:\\n\\nhttps://github.com/davidlealo/diplomadodatascienceuc2023/blob/main/primer_taller/entrega.ipynb\\n\\n'"
      ]
     },
     "execution_count": 19,
     "metadata": {},
     "output_type": "execute_result"
    }
   ],
   "source": [
    "'''\n",
    "Archivo en GitHub FALLIDO\n",
    "\n",
    "https://github.com/davidlealo/diplomadodatascienceuc2023/blob/main/primer_taller/entrega.ipynb\n",
    "\n",
    "El archivo se encuentra en la carpeta primer_taller https://github.com/davidlealo/diplomadodatascienceuc2023/blob/main/primer_taller/entrega_taller_uno.ipynb\n",
    "\n",
    "'''"
   ]
  },
  {
   "cell_type": "markdown",
   "metadata": {},
   "source": [
    "# Pregunta 1\n",
    "Cargue la base de datos bike.csv. Realice las siguientes procesos de limpieza\n",
    "\n",
    "Transforme a factor las variables categóricas.\n",
    "Transforme las variables temp y atemp a grados celsius, ya que se encuentran en escala normalizada. Use las siguientes fórmulas respectivamente:\n",
    "(47*temp-8).\n",
    "(66*atemp-16).\n",
    "Transforme la variable humedad a porcentaje (multiplique la variable por 100).\n",
    "Transforme la velocidad del viento a millas por hora (multiplique por 67 el valor de la variable normalizada)."
   ]
  },
  {
   "cell_type": "code",
   "execution_count": 20,
   "metadata": {},
   "outputs": [],
   "source": [
    "# Importar pandas\n",
    "import pandas as pd"
   ]
  },
  {
   "cell_type": "code",
   "execution_count": 21,
   "metadata": {},
   "outputs": [],
   "source": [
    "# Cargar base de datos bike.csv en la variable data_bikes\n",
    "data_bikes = pd.read_csv('data/bikes.csv')"
   ]
  },
  {
   "cell_type": "code",
   "execution_count": 22,
   "metadata": {},
   "outputs": [
    {
     "name": "stdout",
     "output_type": "stream",
     "text": [
      "Shape\n"
     ]
    },
    {
     "data": {
      "text/plain": [
       "(731, 14)"
      ]
     },
     "execution_count": 22,
     "metadata": {},
     "output_type": "execute_result"
    }
   ],
   "source": [
    "print('Shape')\n",
    "data_bikes.shape"
   ]
  },
  {
   "cell_type": "code",
   "execution_count": 23,
   "metadata": {},
   "outputs": [
    {
     "name": "stdout",
     "output_type": "stream",
     "text": [
      "__________\n",
      "Info\n",
      "<class 'pandas.core.frame.DataFrame'>\n",
      "RangeIndex: 731 entries, 0 to 730\n",
      "Data columns (total 14 columns):\n",
      " #   Column      Non-Null Count  Dtype  \n",
      "---  ------      --------------  -----  \n",
      " 0   date        731 non-null    object \n",
      " 1   season      731 non-null    int64  \n",
      " 2   year        731 non-null    int64  \n",
      " 3   month       731 non-null    int64  \n",
      " 4   holiday     731 non-null    int64  \n",
      " 5   weekday     731 non-null    int64  \n",
      " 6   workingday  731 non-null    int64  \n",
      " 7   weather     731 non-null    int64  \n",
      " 8   temp        731 non-null    float64\n",
      " 9   atemp       731 non-null    float64\n",
      " 10  humidity    731 non-null    float64\n",
      " 11  windspeed   731 non-null    float64\n",
      " 12  registered  731 non-null    int64  \n",
      " 13  Target      731 non-null    int64  \n",
      "dtypes: float64(4), int64(9), object(1)\n",
      "memory usage: 80.1+ KB\n"
     ]
    }
   ],
   "source": [
    "# Análisis iniciales del df\n",
    "print('__________')\n",
    "print('Info')\n",
    "data_bikes.info()"
   ]
  },
  {
   "cell_type": "code",
   "execution_count": 24,
   "metadata": {},
   "outputs": [],
   "source": [
    "# Transforme a factor las variables categóricas.\n",
    "categorical_vars = ['season', 'year', 'month', 'holiday', 'weekday', 'workingday', 'weather']\n",
    "for var in categorical_vars:\n",
    "    data_bikes[var] = data_bikes[var].astype('category')\n"
   ]
  },
  {
   "cell_type": "code",
   "execution_count": 25,
   "metadata": {},
   "outputs": [
    {
     "name": "stdout",
     "output_type": "stream",
     "text": [
      "<class 'pandas.core.frame.DataFrame'>\n",
      "RangeIndex: 731 entries, 0 to 730\n",
      "Data columns (total 14 columns):\n",
      " #   Column      Non-Null Count  Dtype   \n",
      "---  ------      --------------  -----   \n",
      " 0   date        731 non-null    object  \n",
      " 1   season      731 non-null    category\n",
      " 2   year        731 non-null    category\n",
      " 3   month       731 non-null    category\n",
      " 4   holiday     731 non-null    category\n",
      " 5   weekday     731 non-null    category\n",
      " 6   workingday  731 non-null    category\n",
      " 7   weather     731 non-null    category\n",
      " 8   temp        731 non-null    float64 \n",
      " 9   atemp       731 non-null    float64 \n",
      " 10  humidity    731 non-null    float64 \n",
      " 11  windspeed   731 non-null    float64 \n",
      " 12  registered  731 non-null    int64   \n",
      " 13  Target      731 non-null    int64   \n",
      "dtypes: category(7), float64(4), int64(2), object(1)\n",
      "memory usage: 46.5+ KB\n"
     ]
    }
   ],
   "source": [
    "data_bikes.info()"
   ]
  },
  {
   "cell_type": "code",
   "execution_count": 26,
   "metadata": {},
   "outputs": [],
   "source": [
    "# Cambiar a fecha variable 'date' a formato datetime año-mes-día\n",
    "data_bikes['date'] = pd.to_datetime(data_bikes['date'], format='%Y-%m-%d')"
   ]
  },
  {
   "cell_type": "code",
   "execution_count": 27,
   "metadata": {},
   "outputs": [
    {
     "name": "stdout",
     "output_type": "stream",
     "text": [
      "<class 'pandas.core.frame.DataFrame'>\n",
      "RangeIndex: 731 entries, 0 to 730\n",
      "Data columns (total 14 columns):\n",
      " #   Column      Non-Null Count  Dtype         \n",
      "---  ------      --------------  -----         \n",
      " 0   date        731 non-null    datetime64[ns]\n",
      " 1   season      731 non-null    category      \n",
      " 2   year        731 non-null    category      \n",
      " 3   month       731 non-null    category      \n",
      " 4   holiday     731 non-null    category      \n",
      " 5   weekday     731 non-null    category      \n",
      " 6   workingday  731 non-null    category      \n",
      " 7   weather     731 non-null    category      \n",
      " 8   temp        731 non-null    float64       \n",
      " 9   atemp       731 non-null    float64       \n",
      " 10  humidity    731 non-null    float64       \n",
      " 11  windspeed   731 non-null    float64       \n",
      " 12  registered  731 non-null    int64         \n",
      " 13  Target      731 non-null    int64         \n",
      "dtypes: category(7), datetime64[ns](1), float64(4), int64(2)\n",
      "memory usage: 46.5 KB\n"
     ]
    }
   ],
   "source": [
    "# Nuevo info con data como fecha\n",
    "data_bikes.info()"
   ]
  },
  {
   "cell_type": "code",
   "execution_count": 28,
   "metadata": {},
   "outputs": [],
   "source": [
    "# Transforme las variables temp y atemp a grados celsius, ya que se encuentran en escala normalizada\n",
    "data_bikes['temp'] = 47 * data_bikes['temp'] -8 #Transformación temperatura\n",
    "data_bikes['atemp'] = 66 * data_bikes['atemp'] -16 #Transformación sensación térmica"
   ]
  },
  {
   "cell_type": "code",
   "execution_count": 29,
   "metadata": {},
   "outputs": [],
   "source": [
    "# Transforme la variable humedad a porcentaje (multiplique la variable por 100)\n",
    "data_bikes['humidity'] = data_bikes['humidity'] * 100"
   ]
  },
  {
   "cell_type": "code",
   "execution_count": 30,
   "metadata": {},
   "outputs": [],
   "source": [
    "# Transforme la velocidad del viento a millas por hora \n",
    "# (multiplique por 67 el valor de la variable normalizada)\n",
    "data_bikes['windspeed'] = data_bikes['windspeed'] * 67"
   ]
  },
  {
   "cell_type": "markdown",
   "metadata": {},
   "source": [
    "# Pregunta 2\n",
    "Realice un gráfico del número de arriendos de bicicletas vs temperatura, además, añada una curva de regresión lineal. ¿Cuál es la relación entre el número de arriendos con la temperatura?\n",
    "\n"
   ]
  },
  {
   "cell_type": "code",
   "execution_count": 31,
   "metadata": {},
   "outputs": [],
   "source": [
    "import seaborn as sns\n",
    "import matplotlib.pyplot as plt"
   ]
  },
  {
   "cell_type": "code",
   "execution_count": 32,
   "metadata": {},
   "outputs": [
    {
     "data": {
      "image/png": "[encoded data removed]",
      "text/plain": [
       "<Figure size 1000x600 with 1 Axes>"
      ]
     },
     "metadata": {},
     "output_type": "display_data"
    }
   ],
   "source": [
    "# Realizar el gráfico según las instrucciones \n",
    "plt.figure(figsize=(10, 6))\n",
    "sns.scatterplot(data=data_bikes, x='temp', y='Target')\n",
    "sns.regplot(data=data_bikes, x='temp', y='Target', scatter=False, color='red')  # Curva de regresión lineal\n",
    "plt.title(\"Número de arriendos de bicicletas vs Temperatura\")\n",
    "plt.show()"
   ]
  },
  {
   "cell_type": "markdown",
   "metadata": {},
   "source": [
    "### ¿Cuál es la relación entre el número de arriendos con la temperatura? ###\n",
    "Al aumentar la temperatura, también aumenta la cantidad de arriendos. La curva de regresión lineal demuestra que existe esa tendencia entre el aumento de temperatura y arriendos de bicicletas. Encontrando una mayor incertidumbre en los extremos de menor o mayor temperatura, lo que parece creíble ante la experiencia que con menos de 5 grados o más de 30 las personas pueden tener menos ganas de salir a andar en bicicleta "
   ]
  },
  {
   "cell_type": "markdown",
   "metadata": {},
   "source": [
    "# Pregunta 3\n",
    "¿Es la relación entre la temperatura y el número de bicicletas arrendas igual en los dos años?, realice en un mismo gráfico la relación entre el número de arriendo vs temperatura para los dos años, añada las curvas de regresión lineal."
   ]
  },
  {
   "cell_type": "code",
   "execution_count": 33,
   "metadata": {},
   "outputs": [
    {
     "data": {
      "image/png": "[encoded data removed]",
      "text/plain": [
       "<Figure size 1000x600 with 1 Axes>"
      ]
     },
     "metadata": {},
     "output_type": "display_data"
    }
   ],
   "source": [
    "plt.figure(figsize=(10, 6))\n",
    "\n",
    "# Gráfica para el año 2020\n",
    "sns.regplot(data=data_bikes[data_bikes['year'] == 0], x='temp', y='Target', label='2020', scatter_kws={'s': 50, 'alpha': 0.5}, line_kws={'color': 'blue'})\n",
    "\n",
    "# Gráfica para el año 2021\n",
    "sns.regplot(data=data_bikes[data_bikes['year'] == 1], x='temp', y='Target', label='2021', scatter_kws={'s': 50, 'alpha': 0.5}, line_kws={'color': 'red'}, scatter=True)\n",
    "\n",
    "plt.title(\"Número de arriendos de bicicletas vs Temperatura para 2020 y 2021\")\n",
    "plt.legend()\n",
    "plt.show()"
   ]
  },
  {
   "cell_type": "code",
   "execution_count": 34,
   "metadata": {},
   "outputs": [
    {
     "name": "stdout",
     "output_type": "stream",
     "text": [
      "Coeficiente (pendiente) para 2020: 119.32616881805956\n",
      "Coeficiente (pendiente) para 2021: 154.246382971884\n"
     ]
    }
   ],
   "source": [
    "import statsmodels.api as sm\n",
    "\n",
    "# Separar los datos por año\n",
    "data_2020 = data_bikes[data_bikes['year'] == 0]\n",
    "data_2021 = data_bikes[data_bikes['year'] == 1]\n",
    "\n",
    "# Ajustar la regresión lineal para 2020\n",
    "X_2020 = sm.add_constant(data_2020['temp'])  # Añadir una constante para el término de intercepción\n",
    "model_2020 = sm.OLS(data_2020['Target'], X_2020).fit()\n",
    "\n",
    "# Ajustar la regresión lineal para 2021\n",
    "X_2021 = sm.add_constant(data_2021['temp'])\n",
    "model_2021 = sm.OLS(data_2021['Target'], X_2021).fit()\n",
    "\n",
    "# Imprimir los coeficientes (pendientes) para cada año\n",
    "print(\"Coeficiente (pendiente) para 2020:\", model_2020.params['temp'])\n",
    "print(\"Coeficiente (pendiente) para 2021:\", model_2021.params['temp'])\n"
   ]
  },
  {
   "cell_type": "markdown",
   "metadata": {},
   "source": [
    "### ¿Es la relación entre la temperatura y el número de bicicletas arrendas igual en los dos años? ###\n",
    "Existe una relación similar en la relación entre el aumento de la temperatura con el de las bicicletas: a mayor temperatura, mayor cantidad de arriendos.\n",
    "Pero el año 2021 por cada grado celsius de aumento, la cantidad de arriendos es mayor que el 2020, esto lo podemos encontrar por sus pendientes: \n",
    "\n",
    "> Coeficiente (pendiente) para 2020: 119.32616881805956\n",
    "\n",
    "> Coeficiente (pendiente) para 2021: 154.246382971884\n",
    "\n",
    "Esto indica que aunque la tendencia es al alza en ambos años, el 2021 es mayor"
   ]
  },
  {
   "cell_type": "markdown",
   "metadata": {},
   "source": [
    "# Pregunta 4\n",
    "Por selección forward, construya un modelo sin considerar las variables\n",
    "\n",
    "date\n",
    "month\n",
    "registered\n",
    "Interpreta el factor asociado a la Temperatura y días feriados."
   ]
  },
  {
   "cell_type": "code",
   "execution_count": 35,
   "metadata": {},
   "outputs": [],
   "source": [
    "# Primero, necesitamos descartar las variables (date, month, registered)\n",
    "data_bikes = data_bikes.drop(columns=['date', 'month', 'registered'])"
   ]
  },
  {
   "cell_type": "code",
   "execution_count": 36,
   "metadata": {},
   "outputs": [],
   "source": [
    "# Variables disponibles para el modelo\n",
    "variables = data_bikes.columns.tolist()\n",
    "target = 'Target'\n",
    "variables.remove(target)\n",
    "\n",
    "selected_variables = []  # Aquí almacenamos las variables seleccionadas\n",
    "best_score = 1e20  # Inicializamos el score con un valor alto\n",
    "\n",
    "for i in range(len(variables)):\n",
    "    scores_with_candidates = []\n",
    "    for candidate in variables:\n",
    "        if candidate not in selected_variables:\n",
    "            # Ajustamos el modelo con la variable candidata\n",
    "            X = sm.add_constant(data_bikes[selected_variables + [candidate]])\n",
    "            y = data_bikes[target]\n",
    "            model = sm.OLS(y, X).fit()\n",
    "            rss = ((model.predict(X) - y) ** 2).sum()\n",
    "            scores_with_candidates.append((rss, candidate))\n",
    "    scores_with_candidates.sort()\n",
    "    if scores_with_candidates[0][0] < best_score:\n",
    "        best_score = scores_with_candidates[0][0]\n",
    "        selected_variables.append(scores_with_candidates[0][1])\n",
    "\n",
    "final_model = sm.OLS(data_bikes[target], sm.add_constant(data_bikes[selected_variables])).fit()\n"
   ]
  },
  {
   "cell_type": "code",
   "execution_count": 37,
   "metadata": {},
   "outputs": [
    {
     "name": "stdout",
     "output_type": "stream",
     "text": [
      "                            OLS Regression Results                            \n",
      "==============================================================================\n",
      "Dep. Variable:                 Target   R-squared:                       0.799\n",
      "Model:                            OLS   Adj. R-squared:                  0.796\n",
      "Method:                 Least Squares   F-statistic:                     285.8\n",
      "Date:                Tue, 08 Aug 2023   Prob (F-statistic):          5.98e-243\n",
      "Time:                        19:26:47   Log-Likelihood:                -5983.6\n",
      "No. Observations:                 731   AIC:                         1.199e+04\n",
      "Df Residuals:                     720   BIC:                         1.204e+04\n",
      "Df Model:                          10                                         \n",
      "Covariance Type:            nonrobust                                         \n",
      "==============================================================================\n",
      "                 coef    std err          t      P>|t|      [0.025      0.975]\n",
      "------------------------------------------------------------------------------\n",
      "const       2704.2717    237.799     11.372      0.000    2237.409    3171.135\n",
      "atemp         55.3227     24.146      2.291      0.022       7.917     102.728\n",
      "year        2038.0022     65.365     31.179      0.000    1909.674    2166.330\n",
      "season       407.9611     31.846     12.810      0.000     345.439     470.483\n",
      "weather     -604.9697     78.548     -7.702      0.000    -759.179    -450.760\n",
      "weekday       67.7760     16.337      4.149      0.000      35.703      99.849\n",
      "windspeed    -37.9098      6.829     -5.551      0.000     -51.317     -24.503\n",
      "humidity     -10.8958      3.134     -3.477      0.001     -17.048      -4.743\n",
      "holiday     -539.9414    201.417     -2.681      0.008    -935.376    -144.507\n",
      "workingday   122.4083     72.212      1.695      0.090     -19.363     264.179\n",
      "temp          42.8632     29.952      1.431      0.153     -15.941     101.667\n",
      "==============================================================================\n",
      "Omnibus:                       89.383   Durbin-Watson:                   0.953\n",
      "Prob(Omnibus):                  0.000   Jarque-Bera (JB):              179.248\n",
      "Skew:                          -0.724   Prob(JB):                     1.19e-39\n",
      "Kurtosis:                       4.946   Cond. No.                         518.\n",
      "==============================================================================\n",
      "\n",
      "Notes:\n",
      "[1] Standard Errors assume that the covariance matrix of the errors is correctly specified.\n"
     ]
    }
   ],
   "source": [
    "print(final_model.summary())"
   ]
  },
  {
   "cell_type": "markdown",
   "metadata": {},
   "source": [
    "### Interpreta el factor asociado a la Temperatura y días feriados ###\n",
    "Seguimos manteniendo la tendencia de relación entre el aumento de la temperatura y el arriendo de bicicletas. La relación es de 42.8632 \n",
    "Pero el p-valor de 0.153 no nos permite refutar la hipótesis nula\n",
    "\n",
    "Respecto a los días feriados, el coef nos muestra que los días feriados tenemos 539.9414 menos arriendos que en días no feriados. Al tener un p-valor de 0.008 podemos afirmar que esto es lo suficientemente confiable, por lo tanto, estadísticamente significativo. "
   ]
  },
  {
   "cell_type": "markdown",
   "metadata": {},
   "source": [
    "# Pregunta 5\n",
    "Utilice los residuos del modelo elegido para estudiar la validez de los supuestos:\n",
    "\n",
    "Normalidad.\n",
    "Independencia\n",
    "Igualdad de varianzas (homocedasticidad)\n",
    "¿Es un modelo adecuado estadísticamente? Justifique sus afirmaciones."
   ]
  },
  {
   "cell_type": "code",
   "execution_count": 38,
   "metadata": {},
   "outputs": [],
   "source": [
    "import scipy.stats as stats"
   ]
  },
  {
   "cell_type": "code",
   "execution_count": 39,
   "metadata": {},
   "outputs": [
    {
     "data": {
      "image/png": "[encoded data removed]",
      "text/plain": [
       "<Figure size 640x480 with 1 Axes>"
      ]
     },
     "metadata": {},
     "output_type": "display_data"
    },
    {
     "data": {
      "image/png": "[encoded data removed]",
      "text/plain": [
       "<Figure size 640x480 with 1 Axes>"
      ]
     },
     "metadata": {},
     "output_type": "display_data"
    },
    {
     "data": {
      "image/png": "[encoded data removed]",
      "text/plain": [
       "<Figure size 640x480 with 1 Axes>"
      ]
     },
     "metadata": {},
     "output_type": "display_data"
    }
   ],
   "source": [
    "# Usando final_model como nombre del modelo\n",
    "residuos = final_model.resid\n",
    "valores_ajustados = final_model.fittedvalues\n",
    "\n",
    "# Histograma de residuos\n",
    "plt.hist(residuos, bins=30)\n",
    "plt.title(\"Histograma de Residuos\")\n",
    "plt.show()\n",
    "\n",
    "# Gráfico Q-Q\n",
    "sm.qqplot(residuos, line='s')\n",
    "plt.title(\"Gráfico Q-Q\")\n",
    "plt.show()\n",
    "\n",
    "# Residuos vs. Valores Ajustados\n",
    "plt.scatter(valores_ajustados, residuos, alpha=0.5)\n",
    "plt.title(\"Residuos vs Valores Ajustados\")\n",
    "plt.xlabel(\"Valores Ajustados\")\n",
    "plt.ylabel(\"Residuos\")\n",
    "plt.axhline(y=0, color='r', linestyle='-')\n",
    "plt.show()\n"
   ]
  },
  {
   "cell_type": "code",
   "execution_count": 40,
   "metadata": {},
   "outputs": [
    {
     "data": {
      "text/plain": [
       "KstestResult(statistic=0.0699010360384984, pvalue=0.0014994213055341359, statistic_location=-0.5410073995637149, statistic_sign=-1)"
      ]
     },
     "metadata": {},
     "output_type": "display_data"
    }
   ],
   "source": [
    "from scipy.stats import kstest\n",
    "\n",
    "# Residuos en la variable con el mismo nombre \n",
    "residuos_estandarizados = (residuos - residuos.mean()) / residuos.std()\n",
    "\n",
    "# Aplicar KS test\n",
    "resultado = kstest(residuos_estandarizados, 'norm')\n",
    "\n",
    "display(resultado)\n"
   ]
  },
  {
   "cell_type": "code",
   "execution_count": 41,
   "metadata": {},
   "outputs": [
    {
     "data": {
      "text/plain": [
       "True"
      ]
     },
     "execution_count": 41,
     "metadata": {},
     "output_type": "execute_result"
    }
   ],
   "source": [
    "resultado.pvalue < 0.05"
   ]
  },
  {
   "cell_type": "code",
   "execution_count": 42,
   "metadata": {},
   "outputs": [
    {
     "name": "stdout",
     "output_type": "stream",
     "text": [
      "{'LM Statistic': 70.9325540297948, 'LM-Test p-value': 2.92802452414378e-11, 'F-Statistic': 7.737306121253184, 'F-Test p-value': 7.801243778288495e-12}\n"
     ]
    }
   ],
   "source": [
    "from statsmodels.stats.diagnostic import het_breuschpagan\n",
    "\n",
    "# Modelo ajustado con el nombre final_model\n",
    "residuos = final_model.resid\n",
    "valores_ajustados = final_model.fittedvalues\n",
    "variables_independientes = final_model.model.exog  # Esto recoge las variables independientes del modelo \n",
    "\n",
    "bp_test = het_breuschpagan(residuos, variables_independientes)\n",
    "\n",
    "labels = ['LM Statistic', 'LM-Test p-value', 'F-Statistic', 'F-Test p-value']\n",
    "result = dict(zip(labels, bp_test))\n",
    "\n",
    "print(result)\n"
   ]
  },
  {
   "cell_type": "markdown",
   "metadata": {},
   "source": [
    "### ¿Es un modelo adecuado estadísticamente? Justifique sus afirmaciones ###\n",
    "\n",
    "A continuación compartimos los resultados de las pruebas\n",
    "1. **Normalidad**:\n",
    "\n",
    "Kolmogorov-Smirnov Test Result:\n",
    "> `statistic=0.0699010360384979`\n",
    "\n",
    "> `pvalue=0.0014994213055342896`\n",
    "\n",
    "Interpretación:\n",
    "Dado que el p-valor es significativo (0.0015 < 0.05), rechazamos la hipótesis nula (H0) y aceptamos la hipótesis alternativa (H1).\n",
    "\n",
    "Decisión:\n",
    "Los residuos **no siguen una distribución normal**.\n",
    "\n",
    "2. **Homocedasticidad**:\n",
    "\n",
    "Breusch-Pagan Test Result:\n",
    "> `LM-Test p-value: 2.928024524144319e-11`\n",
    "\n",
    "Interpretación:\n",
    "Un p-valor muy pequeño (mucho menos de 0.05) sugiere que rechazamos la hipótesis nula (H0) en favor de la hipótesis alternativa (H1).\n",
    "\n",
    "Decisión:\n",
    "Los residuos presentan **heterocedasticidad**.\n",
    "\n",
    "3. **Autocorrelación**:\n",
    "\n",
    "Durbin-Watson statistic:\n",
    "> `0.953` \n",
    "\n",
    "Interpretación:\n",
    "Valores cercanos a 2 indican que no hay autocorrelación en los residuos. El valor 0.953, es menor a 2, lo que sugiere la presencia de autocorrelación positiva.\n",
    "\n",
    "Decisión:\n",
    "Los residuos están **correlacionados** (indicando que hay autocorrelación).\n",
    "\n",
    "## Resumen:\n",
    "> Los residuos **no son normales**.\n",
    "\n",
    "> Los residuos presentan **heterocedasticidad**.\n",
    "\n",
    "> Hay evidencia de **autocorrelación** en los residuos.\n",
    "\n"
   ]
  },
  {
   "cell_type": "markdown",
   "metadata": {},
   "source": [
    "# Pregunta 6\n",
    "Realice una predicción de arriendos de bicicletas para un día con las siguientes cualidades:\n",
    "```python\n",
    "\n",
    "import pandas as pd\n",
    "pd.DataFrame({'season' : 2,\n",
    "       'year' : 2021,\n",
    "       'holiday' : 'feriado',\n",
    "       'weekday' : 'Sábado',\n",
    "       'workingday' : 'No laboral',\n",
    "       'weather' : 'Niebla',\n",
    "       'temp' : 12,\n",
    "       'atemp' : 11,\n",
    "       'humidity' : 66.3,\n",
    "       'windspeed' : 12.5}, index = ['1'])\n",
    "\n",
    "```\n"
   ]
  },
  {
   "cell_type": "code",
   "execution_count": 43,
   "metadata": {},
   "outputs": [
    {
     "name": "stdout",
     "output_type": "stream",
     "text": [
      "Predicción de arriendos de bicicletas: 4136.596620165261\n"
     ]
    }
   ],
   "source": [
    "input_data = pd.DataFrame({\n",
    "    'const': 1,\n",
    "    'season': 2,\n",
    "    'year': 1, # 2021\n",
    "    'holiday': 1, # feriado\n",
    "    'weekday': 6, # Sábado\n",
    "    'workingday': 0, # No laboral\n",
    "    'weather': 2, # Niebla\n",
    "    'temp': 12,\n",
    "    'atemp': 11,\n",
    "    'humidity': 66.3,\n",
    "    'windspeed': 12.5\n",
    "}, index=[1])\n",
    "\n",
    "prediction = final_model.predict(input_data)\n",
    "print(\"Predicción de arriendos de bicicletas:\", prediction[1])\n",
    "\n"
   ]
  },
  {
   "cell_type": "markdown",
   "metadata": {},
   "source": [
    "### Predicción ###\n",
    "Predicción de arriendos de bicicletas: 4136.596620165274"
   ]
  },
  {
   "cell_type": "markdown",
   "metadata": {},
   "source": [
    "# Pregunta 7\n",
    "Cargue la base de datos Lluvia_full.csv, codifique la variable LluviaMan como 0 y 1 para los días sin lluvia y con lluvia respectivamente. Además, realice una separación de la base de datos en un set de entrenamiento y set de validación. Utilice una proporción de 80:20 respectivamente. Para poder replicar sus resultados, fije una semilla antes de obtener los indices. Para ello utilice la función random.seed(2023)"
   ]
  },
  {
   "cell_type": "code",
   "execution_count": 44,
   "metadata": {},
   "outputs": [],
   "source": [
    "# Cargar base de datos\n",
    "lluvias = pd.read_csv('data/Lluvia_full.csv')"
   ]
  },
  {
   "cell_type": "code",
   "execution_count": 45,
   "metadata": {},
   "outputs": [
    {
     "data": {
      "text/plain": [
       "(56420, 20)"
      ]
     },
     "execution_count": 45,
     "metadata": {},
     "output_type": "execute_result"
    }
   ],
   "source": [
    "lluvias.shape"
   ]
  },
  {
   "cell_type": "code",
   "execution_count": 46,
   "metadata": {},
   "outputs": [
    {
     "name": "stdout",
     "output_type": "stream",
     "text": [
      "<class 'pandas.core.frame.DataFrame'>\n",
      "RangeIndex: 56420 entries, 0 to 56419\n",
      "Data columns (total 20 columns):\n",
      " #   Column       Non-Null Count  Dtype  \n",
      "---  ------       --------------  -----  \n",
      " 0   MinTemp      56420 non-null  float64\n",
      " 1   MaxTemp      56420 non-null  float64\n",
      " 2   Lluvia       56420 non-null  float64\n",
      " 3   Evaporacion  56420 non-null  float64\n",
      " 4   Sol          56420 non-null  float64\n",
      " 5   VelRafaga    56420 non-null  float64\n",
      " 6   Vel9am       56420 non-null  float64\n",
      " 7   Vel3pm       56420 non-null  float64\n",
      " 8   Hum9am       56420 non-null  float64\n",
      " 9   Hum3pm       56420 non-null  float64\n",
      " 10  Pres9am      56420 non-null  float64\n",
      " 11  Pre3pm       56420 non-null  float64\n",
      " 12  Nub9am       56420 non-null  float64\n",
      " 13  Nub3pm       56420 non-null  float64\n",
      " 14  Temp9am      56420 non-null  float64\n",
      " 15  Temp3pm      56420 non-null  float64\n",
      " 16  LluviaHoy    56420 non-null  object \n",
      " 17  LluviaMan    56420 non-null  object \n",
      " 18  Koppen       56420 non-null  object \n",
      " 19  Estacion     56420 non-null  object \n",
      "dtypes: float64(16), object(4)\n",
      "memory usage: 8.6+ MB\n"
     ]
    }
   ],
   "source": [
    "lluvias.info()"
   ]
  },
  {
   "cell_type": "code",
   "execution_count": 47,
   "metadata": {},
   "outputs": [
    {
     "data": {
      "text/html": [
       "<div>\n",
       "<style scoped>\n",
       "    .dataframe tbody tr th:only-of-type {\n",
       "        vertical-align: middle;\n",
       "    }\n",
       "\n",
       "    .dataframe tbody tr th {\n",
       "        vertical-align: top;\n",
       "    }\n",
       "\n",
       "    .dataframe thead th {\n",
       "        text-align: right;\n",
       "    }\n",
       "</style>\n",
       "<table border=\"1\" class=\"dataframe\">\n",
       "  <thead>\n",
       "    <tr style=\"text-align: right;\">\n",
       "      <th></th>\n",
       "      <th>MinTemp</th>\n",
       "      <th>MaxTemp</th>\n",
       "      <th>Lluvia</th>\n",
       "      <th>Evaporacion</th>\n",
       "      <th>Sol</th>\n",
       "      <th>VelRafaga</th>\n",
       "      <th>Vel9am</th>\n",
       "      <th>Vel3pm</th>\n",
       "      <th>Hum9am</th>\n",
       "      <th>Hum3pm</th>\n",
       "      <th>Pres9am</th>\n",
       "      <th>Pre3pm</th>\n",
       "      <th>Nub9am</th>\n",
       "      <th>Nub3pm</th>\n",
       "      <th>Temp9am</th>\n",
       "      <th>Temp3pm</th>\n",
       "      <th>LluviaHoy</th>\n",
       "      <th>LluviaMan</th>\n",
       "      <th>Koppen</th>\n",
       "      <th>Estacion</th>\n",
       "    </tr>\n",
       "  </thead>\n",
       "  <tbody>\n",
       "    <tr>\n",
       "      <th>0</th>\n",
       "      <td>7.6</td>\n",
       "      <td>19.3</td>\n",
       "      <td>0.0</td>\n",
       "      <td>3.4</td>\n",
       "      <td>9.4</td>\n",
       "      <td>35.0</td>\n",
       "      <td>13.0</td>\n",
       "      <td>13.0</td>\n",
       "      <td>73.0</td>\n",
       "      <td>32.0</td>\n",
       "      <td>1018.6</td>\n",
       "      <td>1015.4</td>\n",
       "      <td>1.0</td>\n",
       "      <td>1.0</td>\n",
       "      <td>9.4</td>\n",
       "      <td>18.8</td>\n",
       "      <td>No</td>\n",
       "      <td>No</td>\n",
       "      <td>Subtropical</td>\n",
       "      <td>Invierno</td>\n",
       "    </tr>\n",
       "    <tr>\n",
       "      <th>1</th>\n",
       "      <td>6.8</td>\n",
       "      <td>19.5</td>\n",
       "      <td>0.0</td>\n",
       "      <td>3.4</td>\n",
       "      <td>9.4</td>\n",
       "      <td>46.0</td>\n",
       "      <td>19.0</td>\n",
       "      <td>28.0</td>\n",
       "      <td>67.0</td>\n",
       "      <td>42.0</td>\n",
       "      <td>1018.4</td>\n",
       "      <td>1015.2</td>\n",
       "      <td>1.0</td>\n",
       "      <td>1.0</td>\n",
       "      <td>11.9</td>\n",
       "      <td>17.9</td>\n",
       "      <td>No</td>\n",
       "      <td>No</td>\n",
       "      <td>Subtropical</td>\n",
       "      <td>Invierno</td>\n",
       "    </tr>\n",
       "    <tr>\n",
       "      <th>2</th>\n",
       "      <td>5.5</td>\n",
       "      <td>13.9</td>\n",
       "      <td>0.0</td>\n",
       "      <td>2.8</td>\n",
       "      <td>3.8</td>\n",
       "      <td>44.0</td>\n",
       "      <td>26.0</td>\n",
       "      <td>13.0</td>\n",
       "      <td>72.0</td>\n",
       "      <td>58.0</td>\n",
       "      <td>1017.8</td>\n",
       "      <td>1015.5</td>\n",
       "      <td>7.0</td>\n",
       "      <td>7.0</td>\n",
       "      <td>8.1</td>\n",
       "      <td>12.2</td>\n",
       "      <td>No</td>\n",
       "      <td>No</td>\n",
       "      <td>Temperate</td>\n",
       "      <td>Invierno</td>\n",
       "    </tr>\n",
       "    <tr>\n",
       "      <th>3</th>\n",
       "      <td>8.6</td>\n",
       "      <td>14.3</td>\n",
       "      <td>0.0</td>\n",
       "      <td>2.8</td>\n",
       "      <td>3.8</td>\n",
       "      <td>35.0</td>\n",
       "      <td>13.0</td>\n",
       "      <td>17.0</td>\n",
       "      <td>67.0</td>\n",
       "      <td>56.0</td>\n",
       "      <td>1017.4</td>\n",
       "      <td>1015.0</td>\n",
       "      <td>7.0</td>\n",
       "      <td>7.0</td>\n",
       "      <td>9.3</td>\n",
       "      <td>13.4</td>\n",
       "      <td>No</td>\n",
       "      <td>Yes</td>\n",
       "      <td>Temperate</td>\n",
       "      <td>Invierno</td>\n",
       "    </tr>\n",
       "    <tr>\n",
       "      <th>4</th>\n",
       "      <td>7.9</td>\n",
       "      <td>13.0</td>\n",
       "      <td>0.0</td>\n",
       "      <td>2.8</td>\n",
       "      <td>3.8</td>\n",
       "      <td>39.0</td>\n",
       "      <td>15.0</td>\n",
       "      <td>17.0</td>\n",
       "      <td>68.0</td>\n",
       "      <td>69.0</td>\n",
       "      <td>1017.6</td>\n",
       "      <td>1015.3</td>\n",
       "      <td>7.0</td>\n",
       "      <td>7.0</td>\n",
       "      <td>9.0</td>\n",
       "      <td>11.7</td>\n",
       "      <td>No</td>\n",
       "      <td>No</td>\n",
       "      <td>Temperate</td>\n",
       "      <td>Invierno</td>\n",
       "    </tr>\n",
       "  </tbody>\n",
       "</table>\n",
       "</div>"
      ],
      "text/plain": [
       "   MinTemp  MaxTemp  Lluvia  Evaporacion  Sol  VelRafaga  Vel9am  Vel3pm  \\\n",
       "0      7.6     19.3     0.0          3.4  9.4       35.0    13.0    13.0   \n",
       "1      6.8     19.5     0.0          3.4  9.4       46.0    19.0    28.0   \n",
       "2      5.5     13.9     0.0          2.8  3.8       44.0    26.0    13.0   \n",
       "3      8.6     14.3     0.0          2.8  3.8       35.0    13.0    17.0   \n",
       "4      7.9     13.0     0.0          2.8  3.8       39.0    15.0    17.0   \n",
       "\n",
       "   Hum9am  Hum3pm  Pres9am  Pre3pm  Nub9am  Nub3pm  Temp9am  Temp3pm  \\\n",
       "0    73.0    32.0   1018.6  1015.4     1.0     1.0      9.4     18.8   \n",
       "1    67.0    42.0   1018.4  1015.2     1.0     1.0     11.9     17.9   \n",
       "2    72.0    58.0   1017.8  1015.5     7.0     7.0      8.1     12.2   \n",
       "3    67.0    56.0   1017.4  1015.0     7.0     7.0      9.3     13.4   \n",
       "4    68.0    69.0   1017.6  1015.3     7.0     7.0      9.0     11.7   \n",
       "\n",
       "  LluviaHoy LluviaMan       Koppen  Estacion  \n",
       "0        No        No  Subtropical  Invierno  \n",
       "1        No        No  Subtropical  Invierno  \n",
       "2        No        No    Temperate  Invierno  \n",
       "3        No       Yes    Temperate  Invierno  \n",
       "4        No        No    Temperate  Invierno  "
      ]
     },
     "metadata": {},
     "output_type": "display_data"
    }
   ],
   "source": [
    "display(lluvias.head())"
   ]
  },
  {
   "cell_type": "code",
   "execution_count": 48,
   "metadata": {},
   "outputs": [],
   "source": [
    "# Cambiar variable LluviaMan No por 0 y Yes por 1\n",
    "lluvias = lluvias.replace({'LluviaMan': {'No': 0, 'Yes': 1}})"
   ]
  },
  {
   "cell_type": "code",
   "execution_count": 49,
   "metadata": {},
   "outputs": [
    {
     "data": {
      "text/html": [
       "<div>\n",
       "<style scoped>\n",
       "    .dataframe tbody tr th:only-of-type {\n",
       "        vertical-align: middle;\n",
       "    }\n",
       "\n",
       "    .dataframe tbody tr th {\n",
       "        vertical-align: top;\n",
       "    }\n",
       "\n",
       "    .dataframe thead th {\n",
       "        text-align: right;\n",
       "    }\n",
       "</style>\n",
       "<table border=\"1\" class=\"dataframe\">\n",
       "  <thead>\n",
       "    <tr style=\"text-align: right;\">\n",
       "      <th></th>\n",
       "      <th>MinTemp</th>\n",
       "      <th>MaxTemp</th>\n",
       "      <th>Lluvia</th>\n",
       "      <th>Evaporacion</th>\n",
       "      <th>Sol</th>\n",
       "      <th>VelRafaga</th>\n",
       "      <th>Vel9am</th>\n",
       "      <th>Vel3pm</th>\n",
       "      <th>Hum9am</th>\n",
       "      <th>Hum3pm</th>\n",
       "      <th>Pres9am</th>\n",
       "      <th>Pre3pm</th>\n",
       "      <th>Nub9am</th>\n",
       "      <th>Nub3pm</th>\n",
       "      <th>Temp9am</th>\n",
       "      <th>Temp3pm</th>\n",
       "      <th>LluviaHoy</th>\n",
       "      <th>LluviaMan</th>\n",
       "      <th>Koppen</th>\n",
       "      <th>Estacion</th>\n",
       "    </tr>\n",
       "  </thead>\n",
       "  <tbody>\n",
       "    <tr>\n",
       "      <th>0</th>\n",
       "      <td>7.6</td>\n",
       "      <td>19.3</td>\n",
       "      <td>0.0</td>\n",
       "      <td>3.4</td>\n",
       "      <td>9.4</td>\n",
       "      <td>35.0</td>\n",
       "      <td>13.0</td>\n",
       "      <td>13.0</td>\n",
       "      <td>73.0</td>\n",
       "      <td>32.0</td>\n",
       "      <td>1018.6</td>\n",
       "      <td>1015.4</td>\n",
       "      <td>1.0</td>\n",
       "      <td>1.0</td>\n",
       "      <td>9.4</td>\n",
       "      <td>18.8</td>\n",
       "      <td>No</td>\n",
       "      <td>0</td>\n",
       "      <td>Subtropical</td>\n",
       "      <td>Invierno</td>\n",
       "    </tr>\n",
       "    <tr>\n",
       "      <th>1</th>\n",
       "      <td>6.8</td>\n",
       "      <td>19.5</td>\n",
       "      <td>0.0</td>\n",
       "      <td>3.4</td>\n",
       "      <td>9.4</td>\n",
       "      <td>46.0</td>\n",
       "      <td>19.0</td>\n",
       "      <td>28.0</td>\n",
       "      <td>67.0</td>\n",
       "      <td>42.0</td>\n",
       "      <td>1018.4</td>\n",
       "      <td>1015.2</td>\n",
       "      <td>1.0</td>\n",
       "      <td>1.0</td>\n",
       "      <td>11.9</td>\n",
       "      <td>17.9</td>\n",
       "      <td>No</td>\n",
       "      <td>0</td>\n",
       "      <td>Subtropical</td>\n",
       "      <td>Invierno</td>\n",
       "    </tr>\n",
       "    <tr>\n",
       "      <th>2</th>\n",
       "      <td>5.5</td>\n",
       "      <td>13.9</td>\n",
       "      <td>0.0</td>\n",
       "      <td>2.8</td>\n",
       "      <td>3.8</td>\n",
       "      <td>44.0</td>\n",
       "      <td>26.0</td>\n",
       "      <td>13.0</td>\n",
       "      <td>72.0</td>\n",
       "      <td>58.0</td>\n",
       "      <td>1017.8</td>\n",
       "      <td>1015.5</td>\n",
       "      <td>7.0</td>\n",
       "      <td>7.0</td>\n",
       "      <td>8.1</td>\n",
       "      <td>12.2</td>\n",
       "      <td>No</td>\n",
       "      <td>0</td>\n",
       "      <td>Temperate</td>\n",
       "      <td>Invierno</td>\n",
       "    </tr>\n",
       "    <tr>\n",
       "      <th>3</th>\n",
       "      <td>8.6</td>\n",
       "      <td>14.3</td>\n",
       "      <td>0.0</td>\n",
       "      <td>2.8</td>\n",
       "      <td>3.8</td>\n",
       "      <td>35.0</td>\n",
       "      <td>13.0</td>\n",
       "      <td>17.0</td>\n",
       "      <td>67.0</td>\n",
       "      <td>56.0</td>\n",
       "      <td>1017.4</td>\n",
       "      <td>1015.0</td>\n",
       "      <td>7.0</td>\n",
       "      <td>7.0</td>\n",
       "      <td>9.3</td>\n",
       "      <td>13.4</td>\n",
       "      <td>No</td>\n",
       "      <td>1</td>\n",
       "      <td>Temperate</td>\n",
       "      <td>Invierno</td>\n",
       "    </tr>\n",
       "    <tr>\n",
       "      <th>4</th>\n",
       "      <td>7.9</td>\n",
       "      <td>13.0</td>\n",
       "      <td>0.0</td>\n",
       "      <td>2.8</td>\n",
       "      <td>3.8</td>\n",
       "      <td>39.0</td>\n",
       "      <td>15.0</td>\n",
       "      <td>17.0</td>\n",
       "      <td>68.0</td>\n",
       "      <td>69.0</td>\n",
       "      <td>1017.6</td>\n",
       "      <td>1015.3</td>\n",
       "      <td>7.0</td>\n",
       "      <td>7.0</td>\n",
       "      <td>9.0</td>\n",
       "      <td>11.7</td>\n",
       "      <td>No</td>\n",
       "      <td>0</td>\n",
       "      <td>Temperate</td>\n",
       "      <td>Invierno</td>\n",
       "    </tr>\n",
       "  </tbody>\n",
       "</table>\n",
       "</div>"
      ],
      "text/plain": [
       "   MinTemp  MaxTemp  Lluvia  Evaporacion  Sol  VelRafaga  Vel9am  Vel3pm  \\\n",
       "0      7.6     19.3     0.0          3.4  9.4       35.0    13.0    13.0   \n",
       "1      6.8     19.5     0.0          3.4  9.4       46.0    19.0    28.0   \n",
       "2      5.5     13.9     0.0          2.8  3.8       44.0    26.0    13.0   \n",
       "3      8.6     14.3     0.0          2.8  3.8       35.0    13.0    17.0   \n",
       "4      7.9     13.0     0.0          2.8  3.8       39.0    15.0    17.0   \n",
       "\n",
       "   Hum9am  Hum3pm  Pres9am  Pre3pm  Nub9am  Nub3pm  Temp9am  Temp3pm  \\\n",
       "0    73.0    32.0   1018.6  1015.4     1.0     1.0      9.4     18.8   \n",
       "1    67.0    42.0   1018.4  1015.2     1.0     1.0     11.9     17.9   \n",
       "2    72.0    58.0   1017.8  1015.5     7.0     7.0      8.1     12.2   \n",
       "3    67.0    56.0   1017.4  1015.0     7.0     7.0      9.3     13.4   \n",
       "4    68.0    69.0   1017.6  1015.3     7.0     7.0      9.0     11.7   \n",
       "\n",
       "  LluviaHoy  LluviaMan       Koppen  Estacion  \n",
       "0        No          0  Subtropical  Invierno  \n",
       "1        No          0  Subtropical  Invierno  \n",
       "2        No          0    Temperate  Invierno  \n",
       "3        No          1    Temperate  Invierno  \n",
       "4        No          0    Temperate  Invierno  "
      ]
     },
     "metadata": {},
     "output_type": "display_data"
    }
   ],
   "source": [
    "display(lluvias.head())"
   ]
  },
  {
   "cell_type": "code",
   "execution_count": 50,
   "metadata": {},
   "outputs": [
    {
     "name": "stdout",
     "output_type": "stream",
     "text": [
      "<class 'pandas.core.frame.DataFrame'>\n",
      "RangeIndex: 56420 entries, 0 to 56419\n",
      "Data columns (total 20 columns):\n",
      " #   Column       Non-Null Count  Dtype  \n",
      "---  ------       --------------  -----  \n",
      " 0   MinTemp      56420 non-null  float64\n",
      " 1   MaxTemp      56420 non-null  float64\n",
      " 2   Lluvia       56420 non-null  float64\n",
      " 3   Evaporacion  56420 non-null  float64\n",
      " 4   Sol          56420 non-null  float64\n",
      " 5   VelRafaga    56420 non-null  float64\n",
      " 6   Vel9am       56420 non-null  float64\n",
      " 7   Vel3pm       56420 non-null  float64\n",
      " 8   Hum9am       56420 non-null  float64\n",
      " 9   Hum3pm       56420 non-null  float64\n",
      " 10  Pres9am      56420 non-null  float64\n",
      " 11  Pre3pm       56420 non-null  float64\n",
      " 12  Nub9am       56420 non-null  float64\n",
      " 13  Nub3pm       56420 non-null  float64\n",
      " 14  Temp9am      56420 non-null  float64\n",
      " 15  Temp3pm      56420 non-null  float64\n",
      " 16  LluviaHoy    56420 non-null  object \n",
      " 17  LluviaMan    56420 non-null  int64  \n",
      " 18  Koppen       56420 non-null  object \n",
      " 19  Estacion     56420 non-null  object \n",
      "dtypes: float64(16), int64(1), object(3)\n",
      "memory usage: 8.6+ MB\n"
     ]
    }
   ],
   "source": [
    "lluvias.info()"
   ]
  },
  {
   "cell_type": "code",
   "execution_count": 53,
   "metadata": {},
   "outputs": [],
   "source": [
    "import random\n",
    "\n",
    "from sklearn.model_selection import train_test_split\n",
    "from sklearn.linear_model import LogisticRegression"
   ]
  },
  {
   "cell_type": "code",
   "execution_count": 54,
   "metadata": {},
   "outputs": [
    {
     "name": "stdout",
     "output_type": "stream",
     "text": [
      "Tamaño del set de entrenamiento: (45136, 20)\n",
      "Tamaño del set de validación: (11284, 20)\n"
     ]
    }
   ],
   "source": [
    "# Semilla\n",
    "random.seed(2023)\n",
    "\n",
    "# Separar la base de datos en sets de entrenamiento y validación\n",
    "train_data, val_data = train_test_split(lluvias, test_size=0.2, random_state=2023)\n",
    "\n",
    "# Imprimir los tamaños de los sets de entrenamiento y validación\n",
    "print(\"Tamaño del set de entrenamiento:\", train_data.shape)\n",
    "print(\"Tamaño del set de validación:\", val_data.shape)"
   ]
  },
  {
   "cell_type": "markdown",
   "metadata": {},
   "source": [
    "# Pregunta 8\n",
    "Realice un modelo de regresión logística para predecir si lloverá mañana utilizando la variable Evaporación, ¿es este Un factor significativo? Intérprete el odd ratio de la evaporación."
   ]
  },
  {
   "cell_type": "code",
   "execution_count": 55,
   "metadata": {},
   "outputs": [],
   "source": [
    "import numpy as np"
   ]
  },
  {
   "cell_type": "code",
   "execution_count": 56,
   "metadata": {},
   "outputs": [
    {
     "name": "stdout",
     "output_type": "stream",
     "text": [
      "Coeficiente de Evaporación: -0.10304180718201685\n",
      "Odds Ratio de Evaporación: 0.9020892588833098\n"
     ]
    }
   ],
   "source": [
    "# Seleccionar las variables \n",
    "X_train = train_data[['Evaporacion']]\n",
    "y_train = train_data['LluviaMan']\n",
    "\n",
    "# Crear e ajustar el modelo de regresión logística\n",
    "logreg_model = LogisticRegression()\n",
    "logreg_model.fit(X_train, y_train)\n",
    "\n",
    "# Obtener el coeficiente para la variable Evaporación\n",
    "coef_evaporacion = logreg_model.coef_[0][0]\n",
    "\n",
    "# Calcular el odds ratio\n",
    "odds_ratio_evaporacion = np.exp(coef_evaporacion)\n",
    "\n",
    "print(\"Coeficiente de Evaporación:\", coef_evaporacion)\n",
    "print(\"Odds Ratio de Evaporación:\", odds_ratio_evaporacion)"
   ]
  },
  {
   "cell_type": "code",
   "execution_count": 57,
   "metadata": {},
   "outputs": [
    {
     "name": "stdout",
     "output_type": "stream",
     "text": [
      "Optimization terminated successfully.\n",
      "         Current function value: 0.518724\n",
      "         Iterations 6\n",
      "                           Logit Regression Results                           \n",
      "==============================================================================\n",
      "Dep. Variable:              LluviaMan   No. Observations:                45136\n",
      "Model:                          Logit   Df Residuals:                    45134\n",
      "Method:                           MLE   Df Model:                            1\n",
      "Date:                Tue, 08 Aug 2023   Pseudo R-squ.:                 0.01814\n",
      "Time:                        19:28:49   Log-Likelihood:                -23413.\n",
      "converged:                       True   LL-Null:                       -23846.\n",
      "Covariance Type:            nonrobust   LLR p-value:                3.527e-190\n",
      "===============================================================================\n",
      "                  coef    std err          z      P>|z|      [0.025      0.975]\n",
      "-------------------------------------------------------------------------------\n",
      "const          -0.7298      0.021    -34.448      0.000      -0.771      -0.688\n",
      "Evaporacion    -0.1030      0.004    -27.765      0.000      -0.110      -0.096\n",
      "===============================================================================\n"
     ]
    }
   ],
   "source": [
    "# Agregar una constante a los predictores\n",
    "X_train_const = sm.add_constant(X_train)\n",
    "\n",
    "# Crear y ajustar el modelo usando statsmodels\n",
    "logreg_model_sm = sm.Logit(y_train, X_train_const).fit()\n",
    "\n",
    "# Obtener las estadísticas del modelo\n",
    "print(logreg_model_sm.summary())"
   ]
  },
  {
   "cell_type": "markdown",
   "metadata": {},
   "source": [
    "### ¿Evaporación es un factor significativo? ###\n",
    "La variable evaporación es un factor significativo para predecir la probabilidad de lluvia, lo cual sabemos por su pvalue menor a 0.05. \n",
    "Por otro lado, el odds ratio de la variable evaporación menor que 1 indica que al aumentar la evaporación disminuye las probabilidad de lluvia. Esto quiere decir que tienen una relación de dependencia negativa."
   ]
  },
  {
   "cell_type": "markdown",
   "metadata": {},
   "source": [
    "# Pregunta 9\n",
    "Utilizando un método automatizado, ajuste un modelo de regresión logística, utilizando la metodología de dirección both (forward y backward a la vez)."
   ]
  },
  {
   "cell_type": "code",
   "execution_count": 58,
   "metadata": {},
   "outputs": [
    {
     "data": {
      "text/plain": [
       "array([[7.6, 19.3, 0.0, ..., 0, 'Subtropical', 'Invierno'],\n",
       "       [6.8, 19.5, 0.0, ..., 0, 'Subtropical', 'Invierno'],\n",
       "       [5.5, 13.9, 0.0, ..., 0, 'Temperate', 'Invierno'],\n",
       "       ...,\n",
       "       [13.7, 23.4, 3.6, ..., 1, 'Temperate', 'Primavera'],\n",
       "       [14.0, 26.9, 3.6, ..., 1, 'Temperate', 'Primavera'],\n",
       "       [8.0, 24.3, 0.0, ..., 1, 'Temperate', 'Primavera']], dtype=object)"
      ]
     },
     "execution_count": 58,
     "metadata": {},
     "output_type": "execute_result"
    }
   ],
   "source": [
    "np.asarray(lluvias)"
   ]
  },
  {
   "cell_type": "code",
   "execution_count": 59,
   "metadata": {},
   "outputs": [
    {
     "name": "stdout",
     "output_type": "stream",
     "text": [
      "<class 'pandas.core.frame.DataFrame'>\n",
      "RangeIndex: 56420 entries, 0 to 56419\n",
      "Data columns (total 20 columns):\n",
      " #   Column       Non-Null Count  Dtype  \n",
      "---  ------       --------------  -----  \n",
      " 0   MinTemp      56420 non-null  float64\n",
      " 1   MaxTemp      56420 non-null  float64\n",
      " 2   Lluvia       56420 non-null  float64\n",
      " 3   Evaporacion  56420 non-null  float64\n",
      " 4   Sol          56420 non-null  float64\n",
      " 5   VelRafaga    56420 non-null  float64\n",
      " 6   Vel9am       56420 non-null  float64\n",
      " 7   Vel3pm       56420 non-null  float64\n",
      " 8   Hum9am       56420 non-null  float64\n",
      " 9   Hum3pm       56420 non-null  float64\n",
      " 10  Pres9am      56420 non-null  float64\n",
      " 11  Pre3pm       56420 non-null  float64\n",
      " 12  Nub9am       56420 non-null  float64\n",
      " 13  Nub3pm       56420 non-null  float64\n",
      " 14  Temp9am      56420 non-null  float64\n",
      " 15  Temp3pm      56420 non-null  float64\n",
      " 16  LluviaHoy    56420 non-null  object \n",
      " 17  LluviaMan    56420 non-null  int64  \n",
      " 18  Koppen       56420 non-null  object \n",
      " 19  Estacion     56420 non-null  object \n",
      "dtypes: float64(16), int64(1), object(3)\n",
      "memory usage: 8.6+ MB\n"
     ]
    }
   ],
   "source": [
    "lluvias.info()"
   ]
  },
  {
   "cell_type": "code",
   "execution_count": null,
   "metadata": {},
   "outputs": [
    {
     "data": {
      "text/html": [
       "<div>\n",
       "<style scoped>\n",
       "    .dataframe tbody tr th:only-of-type {\n",
       "        vertical-align: middle;\n",
       "    }\n",
       "\n",
       "    .dataframe tbody tr th {\n",
       "        vertical-align: top;\n",
       "    }\n",
       "\n",
       "    .dataframe thead th {\n",
       "        text-align: right;\n",
       "    }\n",
       "</style>\n",
       "<table border=\"1\" class=\"dataframe\">\n",
       "  <thead>\n",
       "    <tr style=\"text-align: right;\">\n",
       "      <th></th>\n",
       "      <th>MinTemp</th>\n",
       "      <th>MaxTemp</th>\n",
       "      <th>Lluvia</th>\n",
       "      <th>Evaporacion</th>\n",
       "      <th>Sol</th>\n",
       "      <th>VelRafaga</th>\n",
       "      <th>Vel9am</th>\n",
       "      <th>Vel3pm</th>\n",
       "      <th>Hum9am</th>\n",
       "      <th>Hum3pm</th>\n",
       "      <th>Pres9am</th>\n",
       "      <th>Pre3pm</th>\n",
       "      <th>Nub9am</th>\n",
       "      <th>Nub3pm</th>\n",
       "      <th>Temp9am</th>\n",
       "      <th>Temp3pm</th>\n",
       "      <th>LluviaHoy</th>\n",
       "      <th>LluviaMan</th>\n",
       "      <th>Koppen</th>\n",
       "      <th>Estacion</th>\n",
       "    </tr>\n",
       "  </thead>\n",
       "  <tbody>\n",
       "    <tr>\n",
       "      <th>0</th>\n",
       "      <td>7.6</td>\n",
       "      <td>19.3</td>\n",
       "      <td>0.0</td>\n",
       "      <td>3.4</td>\n",
       "      <td>9.4</td>\n",
       "      <td>35.0</td>\n",
       "      <td>13.0</td>\n",
       "      <td>13.0</td>\n",
       "      <td>73.0</td>\n",
       "      <td>32.0</td>\n",
       "      <td>1018.6</td>\n",
       "      <td>1015.4</td>\n",
       "      <td>1.0</td>\n",
       "      <td>1.0</td>\n",
       "      <td>9.4</td>\n",
       "      <td>18.8</td>\n",
       "      <td>No</td>\n",
       "      <td>0</td>\n",
       "      <td>Subtropical</td>\n",
       "      <td>Invierno</td>\n",
       "    </tr>\n",
       "    <tr>\n",
       "      <th>1</th>\n",
       "      <td>6.8</td>\n",
       "      <td>19.5</td>\n",
       "      <td>0.0</td>\n",
       "      <td>3.4</td>\n",
       "      <td>9.4</td>\n",
       "      <td>46.0</td>\n",
       "      <td>19.0</td>\n",
       "      <td>28.0</td>\n",
       "      <td>67.0</td>\n",
       "      <td>42.0</td>\n",
       "      <td>1018.4</td>\n",
       "      <td>1015.2</td>\n",
       "      <td>1.0</td>\n",
       "      <td>1.0</td>\n",
       "      <td>11.9</td>\n",
       "      <td>17.9</td>\n",
       "      <td>No</td>\n",
       "      <td>0</td>\n",
       "      <td>Subtropical</td>\n",
       "      <td>Invierno</td>\n",
       "    </tr>\n",
       "    <tr>\n",
       "      <th>2</th>\n",
       "      <td>5.5</td>\n",
       "      <td>13.9</td>\n",
       "      <td>0.0</td>\n",
       "      <td>2.8</td>\n",
       "      <td>3.8</td>\n",
       "      <td>44.0</td>\n",
       "      <td>26.0</td>\n",
       "      <td>13.0</td>\n",
       "      <td>72.0</td>\n",
       "      <td>58.0</td>\n",
       "      <td>1017.8</td>\n",
       "      <td>1015.5</td>\n",
       "      <td>7.0</td>\n",
       "      <td>7.0</td>\n",
       "      <td>8.1</td>\n",
       "      <td>12.2</td>\n",
       "      <td>No</td>\n",
       "      <td>0</td>\n",
       "      <td>Temperate</td>\n",
       "      <td>Invierno</td>\n",
       "    </tr>\n",
       "    <tr>\n",
       "      <th>3</th>\n",
       "      <td>8.6</td>\n",
       "      <td>14.3</td>\n",
       "      <td>0.0</td>\n",
       "      <td>2.8</td>\n",
       "      <td>3.8</td>\n",
       "      <td>35.0</td>\n",
       "      <td>13.0</td>\n",
       "      <td>17.0</td>\n",
       "      <td>67.0</td>\n",
       "      <td>56.0</td>\n",
       "      <td>1017.4</td>\n",
       "      <td>1015.0</td>\n",
       "      <td>7.0</td>\n",
       "      <td>7.0</td>\n",
       "      <td>9.3</td>\n",
       "      <td>13.4</td>\n",
       "      <td>No</td>\n",
       "      <td>1</td>\n",
       "      <td>Temperate</td>\n",
       "      <td>Invierno</td>\n",
       "    </tr>\n",
       "    <tr>\n",
       "      <th>4</th>\n",
       "      <td>7.9</td>\n",
       "      <td>13.0</td>\n",
       "      <td>0.0</td>\n",
       "      <td>2.8</td>\n",
       "      <td>3.8</td>\n",
       "      <td>39.0</td>\n",
       "      <td>15.0</td>\n",
       "      <td>17.0</td>\n",
       "      <td>68.0</td>\n",
       "      <td>69.0</td>\n",
       "      <td>1017.6</td>\n",
       "      <td>1015.3</td>\n",
       "      <td>7.0</td>\n",
       "      <td>7.0</td>\n",
       "      <td>9.0</td>\n",
       "      <td>11.7</td>\n",
       "      <td>No</td>\n",
       "      <td>0</td>\n",
       "      <td>Temperate</td>\n",
       "      <td>Invierno</td>\n",
       "    </tr>\n",
       "  </tbody>\n",
       "</table>\n",
       "</div>"
      ],
      "text/plain": [
       "   MinTemp  MaxTemp  Lluvia  Evaporacion  Sol  VelRafaga  Vel9am  Vel3pm  \\\n",
       "0      7.6     19.3     0.0          3.4  9.4       35.0    13.0    13.0   \n",
       "1      6.8     19.5     0.0          3.4  9.4       46.0    19.0    28.0   \n",
       "2      5.5     13.9     0.0          2.8  3.8       44.0    26.0    13.0   \n",
       "3      8.6     14.3     0.0          2.8  3.8       35.0    13.0    17.0   \n",
       "4      7.9     13.0     0.0          2.8  3.8       39.0    15.0    17.0   \n",
       "\n",
       "   Hum9am  Hum3pm  Pres9am  Pre3pm  Nub9am  Nub3pm  Temp9am  Temp3pm  \\\n",
       "0    73.0    32.0   1018.6  1015.4     1.0     1.0      9.4     18.8   \n",
       "1    67.0    42.0   1018.4  1015.2     1.0     1.0     11.9     17.9   \n",
       "2    72.0    58.0   1017.8  1015.5     7.0     7.0      8.1     12.2   \n",
       "3    67.0    56.0   1017.4  1015.0     7.0     7.0      9.3     13.4   \n",
       "4    68.0    69.0   1017.6  1015.3     7.0     7.0      9.0     11.7   \n",
       "\n",
       "  LluviaHoy  LluviaMan       Koppen  Estacion  \n",
       "0        No          0  Subtropical  Invierno  \n",
       "1        No          0  Subtropical  Invierno  \n",
       "2        No          0    Temperate  Invierno  \n",
       "3        No          1    Temperate  Invierno  \n",
       "4        No          0    Temperate  Invierno  "
      ]
     },
     "execution_count": 40,
     "metadata": {},
     "output_type": "execute_result"
    }
   ],
   "source": [
    "lluvias.head()"
   ]
  },
  {
   "cell_type": "code",
   "execution_count": 60,
   "metadata": {},
   "outputs": [],
   "source": [
    "# Cambiar variables object por int (lluviasHoy)\n",
    "lluvias = lluvias.replace({'LluviaHoy': {'No': 0, 'Yes': 1}})"
   ]
  },
  {
   "cell_type": "code",
   "execution_count": 72,
   "metadata": {},
   "outputs": [
    {
     "data": {
      "text/plain": [
       "array([0, 1])"
      ]
     },
     "execution_count": 72,
     "metadata": {},
     "output_type": "execute_result"
    }
   ],
   "source": [
    "lluvias['LluviaMan'].unique()"
   ]
  },
  {
   "cell_type": "code",
   "execution_count": 73,
   "metadata": {},
   "outputs": [
    {
     "data": {
      "text/plain": [
       "array([0, 1])"
      ]
     },
     "execution_count": 73,
     "metadata": {},
     "output_type": "execute_result"
    }
   ],
   "source": [
    "lluvias['LluviaHoy'].unique()"
   ]
  },
  {
   "cell_type": "code",
   "execution_count": 74,
   "metadata": {},
   "outputs": [
    {
     "data": {
      "text/plain": [
       "array([0, 1, 2, 3])"
      ]
     },
     "execution_count": 74,
     "metadata": {},
     "output_type": "execute_result"
    }
   ],
   "source": [
    "lluvias['Estacion'].unique()"
   ]
  },
  {
   "cell_type": "code",
   "execution_count": 75,
   "metadata": {},
   "outputs": [
    {
     "data": {
      "text/plain": [
       "array([1, 0, 2, 4])"
      ]
     },
     "execution_count": 75,
     "metadata": {},
     "output_type": "execute_result"
    }
   ],
   "source": [
    "lluvias['Koppen'].unique()"
   ]
  },
  {
   "cell_type": "code",
   "execution_count": 76,
   "metadata": {},
   "outputs": [
    {
     "data": {
      "text/plain": [
       "array([ 7.6,  6.8,  5.5,  8.6,  7.9, 11. ,  4.9,  6.3, 10.1,  9.4,  5.7,\n",
       "        8.3,  6.9, 10.4, 11.5,  3.2, 20.2,  8.7,  7.4,  2.2,  5.6, 10.3,\n",
       "       13.4, 13.3,  2.6, 19.5,  9.3,  9.5,  2.4,  6.7, -0.5,  4.8, 13.7,\n",
       "       12.6, 13. ,  0.6, 20.7,  7.7,  7.8, 12.2,  9.9, 21.2, 11.3, 11.7,\n",
       "        6.4,  1.1,  3.6, 15.8, 10.6,  9.1, 19.3, 11.2,  5.3,  7.1,  4.3,\n",
       "       15.4,  5.2, 21.9, 13.1,  5.9,  5.4,  1.7, 13.9, 10. ,  7.5, 20. ,\n",
       "       13.2,  4.1,  4.2,  9.6,  1.4, 17.1,  5. , 11.9, 12.7,  6.6,  8.5,\n",
       "        4.4, 14.8,  6.5, 18.9, 10.7,  6.2,  3.9, 19. , 11.1, 12.1,  2.1,\n",
       "        4. , 12.9, 16.9,  9.7,  8.8, 14.3, 10.8, 18.3,  6. ,  3.4, 10.2,\n",
       "       17.2, 12.5,  1.3, 15.3, 11.4,  8.1,  5.8,  7. ,  4.7,  4.5, 15.2,\n",
       "       18.7, 10.9,  3. ,  1.9, 20.6, 12.4, 11.8,  0.9,  3.1, 19.2,  5.1,\n",
       "        8.2,  7.2,  9.2,  7.3, 10.5, 23.3, 12.8, 22.4, 22.7,  8. , 21.6,\n",
       "       -0.1, 20.4, 22.5,  3.3, 13.5, 24.1,  8.4,  9.8, 23.5, 24.3, 11.6,\n",
       "       14.2, 14.7, 15. , 24. , 16.3, 23.6, 13.8, 16.1, 22.3, 16.7, 16.5,\n",
       "       21.7, 16.6, 12.3, 22.2, 14.4, 14.5, 22.1, 15.5, 15.7, 20.5,  2.5,\n",
       "       23. , 14. , 22.8, 14.6, 21.4,  6.1,  3.7, 16.2, 21.3, 16.4, 17.4,\n",
       "        9. ,  8.9, 23.9, 23.1,  3.8, 15.1, 22.9, 12. , 17. , 14.9, 15.6,\n",
       "       18.1, 13.6, 14.1, 24.4, 16. , 25.4, 18.2, 15.9, 17.7, 23.8, 17.5,\n",
       "       25.2, 19.6, 24.7, 24.6, 25.6, 25. , 25.1, 17.8, 25.5, 18.6, 25.9,\n",
       "       26. , 25.8, 23.7, 27.9, 20.9, 27.5, 18. , 26.9, 19.4, 24.9, 19.1,\n",
       "       21.5, 18.5, 24.5, 16.8, 23.2, 17.3, 20.8, 21.8, 19.9, 22. , 22.6,\n",
       "       18.8, 20.3, 27.3, 17.6, 17.9, 25.7, 24.8, 20.1, 21.1, 23.4, 19.8,\n",
       "       21. , 25.3, 28.3, 26.6, 26.8, 26.7, 19.7, 28.6, 28.8, 26.2, 24.2,\n",
       "       28. , 26.1, 27.1, 27.6, 27.2, 27.8, 28.2, 28.4, 28.1, 26.3, 27. ,\n",
       "       26.4, 18.4, 27.7, 28.7,  2.8,  4.6,  2.9,  3.5, 26.5,  1.8,  1.2,\n",
       "        0.4,  1.6,  0.5,  1.5,  0.1,  2.3,  0. ,  1. ,  0.8, -1.7,  2. ,\n",
       "       27.4, 29.2,  2.7, -0.3, -0.9,  0.7, -0.2, -0.8, -1.2, -1.8,  0.2,\n",
       "        0.3, -1. , -0.6, -1.9, -3.5, -2.1, -3.9, -3.6, -0.7, -0.4, -2.6,\n",
       "       -1.5, -1.6, 29.1, 28.5, 29.7, 29. , -2.2, -1.4, -1.1, -3. , -2.3,\n",
       "       -2.7, -1.3, -2.5, -2. , -2.4, -2.8, -5.2, -4.4, -4. , -4.3, -5.8,\n",
       "       -4.9, -3.4, -4.7, -3.3, -6.7, -3.2, -3.7, -3.8, -3.1, 29.8, 28.9,\n",
       "       30.3, -2.9, 29.6, 29.4, 31.4, 30.5, -5.3])"
      ]
     },
     "execution_count": 76,
     "metadata": {},
     "output_type": "execute_result"
    }
   ],
   "source": [
    "lluvias['MinTemp'].unique()"
   ]
  },
  {
   "cell_type": "code",
   "execution_count": 77,
   "metadata": {},
   "outputs": [
    {
     "data": {
      "text/plain": [
       "array([ 3.4,  2.8,  2.2,  1.6,  1.4,  1.8,  3.8,  5.6,  2.4,  3.2,  1.2,\n",
       "        6.2,  2. ,  0.6,  3.6,  4. ,  7.6,  4.4,  6. ,  0.8,  3. ,  5.2,\n",
       "        0.2,  2.6,  4.6,  1. ,  4.8,  6.6,  4.2,  5. ,  0.4,  5.4,  8.4,\n",
       "        7.2,  7.8, 10.6,  7.4,  0. ,  9. ,  6.4,  7. ,  9.6, 10. ,  2.1,\n",
       "        5.8,  1.1,  6.8,  8. ,  9.4,  9.2,  1.3,  3.1, 44. , 11.2, 10.8,\n",
       "        8.2,  5.1,  5.7,  8.6, 11. , 13.6, 10.2,  8.8,  6.5,  4.9, 10.4,\n",
       "        9.8, 11.6, 12. , 12.6, 11.4, 16. , 13. , 14.4, 19. , 15. , 11.8,\n",
       "        6.7, 14.2, 13.8,  9.1, 14. , 13.2, 13.4, 12.4, 16.4, 12.2, 20.2,\n",
       "       15.4, 16.2, 14.8, 17.4, 15.8, 12.8,  5.5,  4.3,  2.7,  6.9,  3.3,\n",
       "        7.1,  3.5,  1.7,  0.9,  1.9, 17. ,  3.9,  2.3,  5.9,  6.1, 21.2,\n",
       "       14.6, 18.4,  4.5, 26. , 36.4, 30.8, 22.8, 40.4, 15.2, 65.4, 25. ,\n",
       "       23. , 25.8, 20.6,  7.7, 39.2, 29.2,  8.7, 18.8,  8.5,  7.3, 35.4,\n",
       "        9.5,  8.1, 16.8, 13.5, 19.6, 15.6, 44.2, 31.6, 24. , 36.2, 22.6,\n",
       "        4.1,  2.5, 21.8, 18. , 13.1, 18.2, 43. , 23.4, 27.4, 17.6, 10.5,\n",
       "       37.4, 24.4, 10.9, 16.6, 19.2,  3.7, 14.1, 30.4, 19.8,  1.5, 33.6,\n",
       "       28. ,  9.3, 28.6, 48.8, 37. , 10.7, 11.1, 11.9, 31.4, 57.2, 24.6,\n",
       "       20. , 37.6, 17.2, 22.2, 19.4, 25.4, 24.2,  7.9, 27. ,  6.3,  4.7,\n",
       "        0.1,  2.9, 17.8,  0.7,  5.3, 31. , 11.3, 34.4, 29.8, 35.6, 36. ,\n",
       "       32.8, 23.8, 41.2, 22. , 25.5, 54. , 10.1, 35.8, 11.5, 50.4, 35. ,\n",
       "       43.6,  7.5, 48.4, 20.4, 41.8, 10.3, 38.4, 60.2, 46.6, 11.7, 42.4,\n",
       "       26.4, 26.8, 34.2,  9.9, 32.2, 18.6, 14.3, 22.4, 20.8, 23.6, 34.6,\n",
       "       37.2,  0.5, 25.6, 21.4, 21.6, 47.2, 30.6, 15.3, 22.5, 17.7, 12.1,\n",
       "        8.3,  0.3, 12.7, 42.3,  8.9, 28.2, 72.2, 59.8, 54.8, 70. , 63. ,\n",
       "       40. , 81.2, 42.6,  9.7, 21. , 14.9])"
      ]
     },
     "execution_count": 77,
     "metadata": {},
     "output_type": "execute_result"
    }
   ],
   "source": [
    "lluvias['Evaporacion'].unique()"
   ]
  },
  {
   "cell_type": "code",
   "execution_count": 78,
   "metadata": {},
   "outputs": [
    {
     "data": {
      "text/plain": [
       "array([ 32.,  42.,  58.,  56.,  69.,  53.,  44.,  49.,  35.,  41.,  50.,\n",
       "        63.,  61.,  33.,  45.,  47.,  52.,  57.,  66.,  34.,  67.,  37.,\n",
       "        60.,  65.,  64.,  70.,  51.,  55.,  75.,  48.,  23.,  78.,  80.,\n",
       "        28.,  71.,  62.,  59.,  82.,  38.,  43.,  92.,  68.,  39.,  86.,\n",
       "        87.,  85.,  29.,  27.,  81.,  90.,  24.,  83.,  77.,  98.,  22.,\n",
       "        21.,  91.,  14.,  20.,  25.,  15.,  26.,  84.,  31.,  96.,  54.,\n",
       "        13.,  18.,  46.,  30.,  40.,  76.,  73.,  16.,  36.,  89.,  74.,\n",
       "        72.,  79.,  94.,  95.,  17.,  19.,  88.,  99.,  97.,  93.,  12.,\n",
       "        10.,   7.,   9.,  11.,   8., 100.,   6.,   5.,   3.,   4.,   0.,\n",
       "         1.,   2.])"
      ]
     },
     "execution_count": 78,
     "metadata": {},
     "output_type": "execute_result"
    }
   ],
   "source": [
    "lluvias['Hum3pm'].unique()"
   ]
  },
  {
   "cell_type": "code",
   "execution_count": 79,
   "metadata": {},
   "outputs": [
    {
     "data": {
      "text/plain": [
       "array([ 73.,  67.,  72.,  68.,  69.,  75.,  56.,  61.,  80.,  99.,  60.,\n",
       "        62.,  63.,  85.,  83.,  77.,  87.,  71.,  78.,  74.,  93., 100.,\n",
       "        90.,  84.,  46.,  97.,  89.,  88.,  66.,  76.,  98.,  57.,  79.,\n",
       "        86.,  43.,  81.,  91.,  70.,  47.,  95.,  51.,  52.,  82.,  41.,\n",
       "        35.,  92.,  26.,  37.,  96.,  94.,  33.,  45.,  65.,  31.,  29.,\n",
       "        58.,  27.,  34.,  54.,  48.,  64.,  38.,  59.,  42.,  53.,  25.,\n",
       "        44.,  49.,  55.,  39.,  50.,  40.,  32.,  36.,  28.,  23.,  11.,\n",
       "        17.,  30.,  19.,  22.,  18.,  24.,  13.,  16.,  15.,  12.,  21.,\n",
       "        20.,  14.,   9.,   8.,   7.,   6.,   4.,   5.,  10.,   2.,   3.,\n",
       "         1.,   0.])"
      ]
     },
     "execution_count": 79,
     "metadata": {},
     "output_type": "execute_result"
    }
   ],
   "source": [
    "lluvias['Hum9am'].unique()"
   ]
  },
  {
   "cell_type": "code",
   "execution_count": 80,
   "metadata": {},
   "outputs": [
    {
     "data": {
      "text/plain": [
       "array([1, 0, 2, 4])"
      ]
     },
     "execution_count": 80,
     "metadata": {},
     "output_type": "execute_result"
    }
   ],
   "source": [
    "lluvias['Koppen'].unique()"
   ]
  },
  {
   "cell_type": "code",
   "execution_count": 81,
   "metadata": {},
   "outputs": [
    {
     "data": {
      "text/plain": [
       "array([0.000e+00, 1.200e+00, 1.400e+00, 3.200e+00, 2.200e+00, 4.000e-01,\n",
       "       2.000e-01, 3.780e+01, 6.120e+01, 6.000e-01, 2.600e+00, 4.400e+00,\n",
       "       1.600e+00, 1.800e+00, 1.000e+00, 2.480e+01, 1.020e+01, 1.460e+01,\n",
       "       2.620e+01, 6.000e+00, 2.800e+00, 2.400e+00, 1.880e+01, 3.880e+01,\n",
       "       1.560e+01, 3.400e+00, 7.200e+00, 6.100e+01, 4.160e+01, 5.460e+01,\n",
       "       3.340e+01, 6.600e+00, 6.400e+00, 8.600e+00, 5.400e+00, 6.200e+00,\n",
       "       2.000e+00, 5.800e+00, 6.800e+00, 3.600e+00, 3.800e+00, 8.000e-01,\n",
       "       5.200e+00, 4.000e+00, 1.600e+01, 1.420e+01, 1.720e+01, 1.080e+01,\n",
       "       5.000e+00, 3.000e+00, 7.400e+00, 8.200e+00, 1.060e+01, 7.600e+00,\n",
       "       4.800e+00, 1.800e+01, 1.640e+01, 1.540e+01, 1.300e+01, 8.000e+00,\n",
       "       2.000e+01, 2.440e+01, 2.100e+01, 2.160e+01, 2.580e+01, 4.600e+00,\n",
       "       8.400e+00, 7.800e+00, 9.400e+00, 3.140e+01, 1.980e+01, 2.820e+01,\n",
       "       2.340e+01, 8.800e+00, 3.560e+01, 2.540e+01, 2.760e+01, 2.460e+01,\n",
       "       3.380e+01, 3.240e+01, 4.200e+00, 1.820e+01, 1.000e+01, 1.700e+01,\n",
       "       1.320e+01, 2.560e+01, 9.200e+00, 9.060e+01, 7.000e+00, 2.420e+01,\n",
       "       2.200e+01, 1.100e+01, 3.300e+01, 4.580e+01, 4.180e+01, 1.360e+01,\n",
       "       1.440e+01, 1.840e+01, 3.320e+01, 1.120e+01, 3.260e+01, 3.480e+01,\n",
       "       3.220e+01, 1.620e+01, 3.120e+01, 1.380e+01, 2.640e+01, 1.760e+01,\n",
       "       2.140e+01, 1.340e+01, 2.860e+01, 3.100e+01, 1.520e+01, 1.180e+01,\n",
       "       4.060e+01, 1.500e+01, 7.480e+01, 1.144e+02, 8.500e+01, 5.140e+01,\n",
       "       3.280e+01, 9.000e+00, 3.180e+01, 1.780e+01, 9.800e+00, 2.300e+01,\n",
       "       1.660e+01, 2.260e+01, 1.940e+01, 8.320e+01, 2.400e+01, 9.800e+01,\n",
       "       2.080e+01, 1.680e+01, 6.280e+01, 2.040e+01, 8.300e+01, 1.260e+01,\n",
       "       2.520e+01, 3.720e+01, 1.040e+01, 1.240e+01, 2.920e+01, 1.140e+01,\n",
       "       5.080e+01, 2.500e+01, 2.120e+01, 1.580e+01, 4.100e+01, 1.400e+01,\n",
       "       2.880e+01, 2.360e+01, 1.740e+01, 1.220e+01, 3.900e+01, 5.600e+00,\n",
       "       1.160e+01, 2.220e+01, 2.060e+01, 2.600e+01, 9.600e+00, 3.440e+01,\n",
       "       5.280e+01, 5.300e+01, 2.020e+01, 3.620e+01, 2.740e+01, 2.980e+01,\n",
       "       2.180e+01, 1.960e+01, 2.940e+01, 3.520e+01, 3.080e+01, 1.106e+02,\n",
       "       2.320e+01, 6.840e+01, 6.780e+01, 1.280e+01, 8.820e+01, 4.860e+01,\n",
       "       3.000e-01, 2.380e+01, 3.660e+01, 3.640e+01, 1.200e+01, 1.480e+01,\n",
       "       4.740e+01, 3.000e+01, 6.900e+00, 9.440e+01, 1.900e+01, 4.240e+01,\n",
       "       4.500e+00, 2.960e+01, 3.820e+01, 3.430e+01, 5.000e+01, 2.800e+01,\n",
       "       4.040e+01, 3.860e+01, 2.680e+01, 4.380e+01, 7.000e-01, 3.940e+01,\n",
       "       2.660e+01, 3.060e+01, 2.280e+01, 3.400e+01, 3.420e+01, 5.120e+01,\n",
       "       2.240e+01, 4.840e+01, 7.180e+01, 5.200e+01, 3.680e+01, 4.320e+01,\n",
       "       7.080e+01, 6.040e+01, 1.228e+02, 3.020e+01, 4.460e+01, 4.940e+01,\n",
       "       3.360e+01, 9.000e-01, 3.540e+01, 1.000e-01, 4.500e+01, 6.100e+00,\n",
       "       2.500e+00, 1.100e+00, 5.440e+01, 4.660e+01, 5.000e-01, 2.780e+01,\n",
       "       1.500e+00, 5.340e+01, 3.160e+01, 4.000e+01, 4.280e+01, 3.200e+01,\n",
       "       1.826e+02, 2.840e+01, 1.920e+01, 5.620e+01, 6.000e+01, 2.720e+01,\n",
       "       3.840e+01, 8.180e+01, 7.760e+01, 3.800e+01, 8.920e+01, 4.640e+01,\n",
       "       5.400e+01, 4.920e+01, 3.700e+01, 5.700e+01, 6.520e+01, 3.500e+01,\n",
       "       3.580e+01, 6.160e+01, 5.780e+01, 1.294e+02, 2.900e+01, 2.700e+01,\n",
       "       4.480e+01, 4.340e+01, 1.048e+02, 5.600e+01, 4.720e+01, 5.680e+01,\n",
       "       7.100e+00, 1.010e+01, 1.050e+01, 2.290e+01, 8.500e+00, 1.860e+01,\n",
       "       5.060e+01, 7.120e+01, 3.740e+01, 4.980e+01, 4.540e+01, 5.240e+01,\n",
       "       3.040e+01, 1.170e+01, 1.700e+00, 4.900e+01, 1.064e+02, 4.080e+01,\n",
       "       6.180e+01, 4.200e+01, 5.580e+01, 7.460e+01, 6.420e+01, 4.680e+01,\n",
       "       2.300e+00, 9.500e+00, 5.820e+01, 6.700e+01, 3.960e+01, 5.500e+01,\n",
       "       4.260e+01, 3.460e+01, 4.560e+01, 5.100e+01, 5.920e+01, 7.580e+01,\n",
       "       4.360e+01, 3.600e+01, 6.140e+01, 4.140e+01, 8.060e+01, 9.160e+01,\n",
       "       5.960e+01, 7.680e+01, 1.450e+02, 3.920e+01, 4.880e+01, 4.020e+01,\n",
       "       5.180e+01, 5.040e+01, 5.260e+01, 5.760e+01, 8.860e+01, 9.680e+01,\n",
       "       9.100e+01, 5.980e+01, 5.840e+01, 5.360e+01, 4.520e+01, 1.120e+02,\n",
       "       1.684e+02, 6.240e+01, 4.440e+01, 5.800e+01, 5.220e+01, 1.130e+02,\n",
       "       5.900e+01, 1.366e+02, 2.062e+02, 5.500e+00, 8.220e+01, 4.620e+01,\n",
       "       4.800e+01, 1.282e+02, 6.380e+01, 1.096e+02, 8.380e+01, 1.830e+02,\n",
       "       6.880e+01, 1.326e+02, 5.020e+01, 5.380e+01, 8.400e+01, 5.940e+01,\n",
       "       3.760e+01, 8.160e+01, 3.980e+01, 6.480e+01, 4.120e+01, 6.300e+01,\n",
       "       7.840e+01, 6.020e+01, 5.520e+01, 7.920e+01, 5.740e+01, 1.190e+01,\n",
       "       8.040e+01, 6.760e+01, 5.860e+01, 4.600e+01, 9.360e+01, 1.280e+02,\n",
       "       2.990e+01, 7.800e+01, 7.660e+01, 5.560e+01, 1.158e+02, 5.660e+01,\n",
       "       6.060e+01, 6.200e+01, 1.214e+02, 4.400e+01, 8.900e+01, 5.420e+01,\n",
       "       8.260e+01, 9.140e+01, 5.880e+01, 6.220e+01, 4.820e+01, 5.480e+01,\n",
       "       5.640e+01, 4.420e+01, 4.300e+01, 6.620e+01, 8.640e+01, 5.320e+01,\n",
       "       9.040e+01, 6.920e+01, 9.520e+01, 9.580e+01, 6.340e+01, 8.100e+01,\n",
       "       4.760e+01, 1.022e+02, 1.402e+02, 4.700e+01, 6.820e+01, 5.540e+01,\n",
       "       7.940e+01, 7.720e+01])"
      ]
     },
     "execution_count": 81,
     "metadata": {},
     "output_type": "execute_result"
    }
   ],
   "source": [
    "lluvias['Lluvia'].unique()"
   ]
  },
  {
   "cell_type": "code",
   "execution_count": 82,
   "metadata": {},
   "outputs": [
    {
     "data": {
      "text/plain": [
       "array([19.3, 19.5, 13.9, 14.3, 13. , 24.2, 16.8, 17. , 19.9, 12.6, 12.3,\n",
       "       12.1, 24.5, 18.4, 18.2, 10.9, 31.7, 17.7, 19.4, 13.2, 14.9, 19.6,\n",
       "       13.1, 23.7, 19.2, 18.9, 15.1, 31.8, 17.8, 14.1, 16.7, 13.3, 22.7,\n",
       "       16.6, 10.2, 32.8, 18.6, 13.5, 23.4, 20.7, 32.6, 20. , 15.3, 15.8,\n",
       "       17.9, 14.5, 21. , 23. , 22.5, 17.5, 33.4, 18.3, 17.4, 15.7, 16.1,\n",
       "       22.9, 16.2, 33. , 18. , 17.2, 15.9, 16.3, 14.4, 16.4, 23.6, 23.3,\n",
       "       13.6, 33.1, 19.1, 15.5, 13.7, 24.6, 21.7, 32.1, 17.3, 18.1, 17.1,\n",
       "       24.1, 20.8, 21.2, 31.1, 20.1, 21.8, 19. , 30.9, 20.3, 20.4, 20.9,\n",
       "       30.3, 18.7, 24.8, 29.8, 16.9, 15.6, 22.4, 24. , 29.1, 17.6, 21.1,\n",
       "       23.5, 29.4, 14.7, 15. , 14.2, 14.8, 23.2, 24.3, 20.2, 22.8, 30.4,\n",
       "       12.8, 22.6, 25.2, 25.4, 10.8, 25.3, 25.6, 32.4, 19.7, 23.8, 22.2,\n",
       "       31.4, 23.1, 31.6, 32. , 14.6, 15.2, 25.7, 12.4, 13.4, 25.1, 24.9,\n",
       "        9. , 32.3, 14. , 26.4, 21.4, 21.6, 32.2, 20.6, 21.3, 18.5, 18.8,\n",
       "       16.5, 33.3, 25. , 31.9, 27.7, 34.2, 21.9, 26.9, 34.5, 25.9, 33.2,\n",
       "       25.8, 34.1, 33.9, 34.7, 21.5, 33.5, 19.8, 12. , 22. , 26. , 32.7,\n",
       "       23.9, 22.1, 24.7, 28.2, 30.8, 33.7, 26.2, 26.1, 26.8, 26.3, 20.5,\n",
       "       15.4, 27.5, 30.5, 29.2, 11.4, 27.6, 31.2, 26.7, 27.2, 27.4, 25.5,\n",
       "       28.4, 27. , 28.6, 28.1, 33.6, 28.7, 29.6, 26.5, 26.6, 24.4, 30.1,\n",
       "       29.3, 29. , 28. , 28.3, 27.1, 28.5, 29.7, 27.3, 28.8, 22.3, 30.6,\n",
       "       27.9, 31. , 32.9, 29.9, 30.7, 31.3, 27.8, 30.2, 34.6, 35.7, 28.9,\n",
       "       31.5, 34.4, 34.9, 35. , 35.8, 35.3, 33.8, 35.6, 30. , 34.3, 36.1,\n",
       "       36.2, 35.5, 36.5, 35.2, 34. , 38.1, 37.7, 39. , 39.3, 36.4, 38.4,\n",
       "       34.8, 35.1, 32.5, 37.6, 44.4, 37. , 37.5, 42.9, 46. , 37.4, 36. ,\n",
       "       46.3, 37.8, 38.6, 35.9, 38. , 36.3, 39.4, 39.6, 42.7, 39.9, 39.8,\n",
       "       38.8, 41.9, 42. , 38.5, 36.7, 36.8, 38.3, 38.2, 37.2, 35.4, 41.4,\n",
       "       36.9, 40.3, 43.3, 40.9, 40.2, 40. , 37.1, 36.6, 37.3, 40.5, 42.8,\n",
       "       42.4, 29.5, 39.2, 39.7, 39.1, 11.8, 11.9, 12.9, 11.1, 16. , 13.8,\n",
       "       11.7, 12.5, 11.6, 12.2, 12.7, 11.2, 11. , 10. , 10.3, 10.7,  9.6,\n",
       "       10.6,  7.7, 11.5,  8.7, 10.4,  9.9, 10.5,  9.8, 11.3, 39.5, 40.1,\n",
       "       40.8, 38.9, 41. , 37.9, 42.1, 38.7, 41.6, 42.6, 43.5, 41.2, 43.4,\n",
       "       41.1, 43.9, 41.7, 40.6, 41.3, 42.5, 40.4, 43.2, 43.6, 44.5, 43.8,\n",
       "       43. , 43.1, 42.2,  8.3,  8.8,  8.4,  8.1,  8.9, 10.1,  7.2,  9.7,\n",
       "        8. ,  9.3,  8.6,  9.1,  9.5,  8.5,  9.4, 41.8, 44.1, 44. , 44.2,\n",
       "       40.7, 42.3, 41.5, 44.9,  7.3,  7.8,  7.5,  9.2, 43.7, 45.2, 44.7,\n",
       "       47.3, 46.8, 45.8, 46.4, 45. , 44.3, 45.5, 48.1,  7.9,  6.3,  7. ,\n",
       "        7.6,  7.1, 45.4,  4.1, 46.7, 46.2, 45.6, 45.1, 44.6,  8.2])"
      ]
     },
     "execution_count": 82,
     "metadata": {},
     "output_type": "execute_result"
    }
   ],
   "source": [
    "lluvias['MaxTemp'].unique()"
   ]
  },
  {
   "cell_type": "code",
   "execution_count": 83,
   "metadata": {},
   "outputs": [
    {
     "data": {
      "text/plain": [
       "array([ 7.6,  6.8,  5.5,  8.6,  7.9, 11. ,  4.9,  6.3, 10.1,  9.4,  5.7,\n",
       "        8.3,  6.9, 10.4, 11.5,  3.2, 20.2,  8.7,  7.4,  2.2,  5.6, 10.3,\n",
       "       13.4, 13.3,  2.6, 19.5,  9.3,  9.5,  2.4,  6.7, -0.5,  4.8, 13.7,\n",
       "       12.6, 13. ,  0.6, 20.7,  7.7,  7.8, 12.2,  9.9, 21.2, 11.3, 11.7,\n",
       "        6.4,  1.1,  3.6, 15.8, 10.6,  9.1, 19.3, 11.2,  5.3,  7.1,  4.3,\n",
       "       15.4,  5.2, 21.9, 13.1,  5.9,  5.4,  1.7, 13.9, 10. ,  7.5, 20. ,\n",
       "       13.2,  4.1,  4.2,  9.6,  1.4, 17.1,  5. , 11.9, 12.7,  6.6,  8.5,\n",
       "        4.4, 14.8,  6.5, 18.9, 10.7,  6.2,  3.9, 19. , 11.1, 12.1,  2.1,\n",
       "        4. , 12.9, 16.9,  9.7,  8.8, 14.3, 10.8, 18.3,  6. ,  3.4, 10.2,\n",
       "       17.2, 12.5,  1.3, 15.3, 11.4,  8.1,  5.8,  7. ,  4.7,  4.5, 15.2,\n",
       "       18.7, 10.9,  3. ,  1.9, 20.6, 12.4, 11.8,  0.9,  3.1, 19.2,  5.1,\n",
       "        8.2,  7.2,  9.2,  7.3, 10.5, 23.3, 12.8, 22.4, 22.7,  8. , 21.6,\n",
       "       -0.1, 20.4, 22.5,  3.3, 13.5, 24.1,  8.4,  9.8, 23.5, 24.3, 11.6,\n",
       "       14.2, 14.7, 15. , 24. , 16.3, 23.6, 13.8, 16.1, 22.3, 16.7, 16.5,\n",
       "       21.7, 16.6, 12.3, 22.2, 14.4, 14.5, 22.1, 15.5, 15.7, 20.5,  2.5,\n",
       "       23. , 14. , 22.8, 14.6, 21.4,  6.1,  3.7, 16.2, 21.3, 16.4, 17.4,\n",
       "        9. ,  8.9, 23.9, 23.1,  3.8, 15.1, 22.9, 12. , 17. , 14.9, 15.6,\n",
       "       18.1, 13.6, 14.1, 24.4, 16. , 25.4, 18.2, 15.9, 17.7, 23.8, 17.5,\n",
       "       25.2, 19.6, 24.7, 24.6, 25.6, 25. , 25.1, 17.8, 25.5, 18.6, 25.9,\n",
       "       26. , 25.8, 23.7, 27.9, 20.9, 27.5, 18. , 26.9, 19.4, 24.9, 19.1,\n",
       "       21.5, 18.5, 24.5, 16.8, 23.2, 17.3, 20.8, 21.8, 19.9, 22. , 22.6,\n",
       "       18.8, 20.3, 27.3, 17.6, 17.9, 25.7, 24.8, 20.1, 21.1, 23.4, 19.8,\n",
       "       21. , 25.3, 28.3, 26.6, 26.8, 26.7, 19.7, 28.6, 28.8, 26.2, 24.2,\n",
       "       28. , 26.1, 27.1, 27.6, 27.2, 27.8, 28.2, 28.4, 28.1, 26.3, 27. ,\n",
       "       26.4, 18.4, 27.7, 28.7,  2.8,  4.6,  2.9,  3.5, 26.5,  1.8,  1.2,\n",
       "        0.4,  1.6,  0.5,  1.5,  0.1,  2.3,  0. ,  1. ,  0.8, -1.7,  2. ,\n",
       "       27.4, 29.2,  2.7, -0.3, -0.9,  0.7, -0.2, -0.8, -1.2, -1.8,  0.2,\n",
       "        0.3, -1. , -0.6, -1.9, -3.5, -2.1, -3.9, -3.6, -0.7, -0.4, -2.6,\n",
       "       -1.5, -1.6, 29.1, 28.5, 29.7, 29. , -2.2, -1.4, -1.1, -3. , -2.3,\n",
       "       -2.7, -1.3, -2.5, -2. , -2.4, -2.8, -5.2, -4.4, -4. , -4.3, -5.8,\n",
       "       -4.9, -3.4, -4.7, -3.3, -6.7, -3.2, -3.7, -3.8, -3.1, 29.8, 28.9,\n",
       "       30.3, -2.9, 29.6, 29.4, 31.4, 30.5, -5.3])"
      ]
     },
     "execution_count": 83,
     "metadata": {},
     "output_type": "execute_result"
    }
   ],
   "source": [
    "lluvias['MinTemp'].unique()"
   ]
  },
  {
   "cell_type": "code",
   "execution_count": 84,
   "metadata": {},
   "outputs": [
    {
     "data": {
      "text/plain": [
       "array([1., 7., 3., 2., 5., 6., 0., 4., 8., 9.])"
      ]
     },
     "execution_count": 84,
     "metadata": {},
     "output_type": "execute_result"
    }
   ],
   "source": [
    "lluvias['Nub3pm'].unique()"
   ]
  },
  {
   "cell_type": "code",
   "execution_count": 85,
   "metadata": {},
   "outputs": [
    {
     "data": {
      "text/plain": [
       "array([1., 7., 6., 5., 2., 4., 0., 3., 8.])"
      ]
     },
     "execution_count": 85,
     "metadata": {},
     "output_type": "execute_result"
    }
   ],
   "source": [
    "lluvias['Nub9am'].unique()"
   ]
  },
  {
   "cell_type": "code",
   "execution_count": 86,
   "metadata": {},
   "outputs": [
    {
     "data": {
      "text/plain": [
       "array([1015.4, 1015.2, 1015.5, 1015. , 1015.3, 1017.3, 1026. , 1015.1,\n",
       "       1017.5, 1017.4, 1023.5, 1023.4, 1009.5, 1009.7, 1014.7, 1014. ,\n",
       "       1013.8, 1017.1, 1018.4, 1019.5, 1019.4,  999.4, 1010.7, 1024.6,\n",
       "       1025. , 1024.8, 1024.4, 1025.1, 1022.4, 1008.7, 1008.9, 1020.7,\n",
       "       1011.8, 1025.3, 1028.6, 1028.4, 1021.3, 1026.4, 1011.2, 1025.2,\n",
       "       1024.7, 1024.5, 1026.8, 1015.9, 1011.9, 1010.5, 1030. , 1029.7,\n",
       "       1029.9, 1020.3, 1020.2, 1021.9, 1010.6, 1025.8, 1028.9, 1028.8,\n",
       "       1030.5, 1018.3, 1022.8, 1022.9, 1010.2, 1021.8, 1021.7, 1025.7,\n",
       "       1016.8, 1026.1, 1017.8, 1011.4, 1023.8, 1024. , 1019.8, 1024.2,\n",
       "       1025.4, 1021.5, 1023.6, 1028.2, 1027.6, 1027.3, 1022.7, 1018.6,\n",
       "       1018.7, 1012.9, 1029.1, 1019.7, 1014.5, 1013.1, 1023.9, 1025.9,\n",
       "       1025.6, 1018.5, 1014.1, 1025.5, 1020.6, 1021.2, 1021.1, 1014.3,\n",
       "       1013.9, 1030.2, 1032.2, 1032. , 1030.4, 1032.1, 1022. , 1023.7,\n",
       "       1026.2, 1013.5, 1026.7, 1032.5, 1031.5, 1032.3, 1026.3, 1013. ,\n",
       "       1027.1, 1026.9, 1017.7, 1027.2, 1012.7, 1019.6, 1028.3, 1027.9,\n",
       "       1016. , 1012.5, 1027. , 1016.5, 1020.8, 1012.6, 1022.2, 1011.1,\n",
       "       1021.4, 1010.4, 1028.7, 1031.4, 1031.3, 1030.8, 1030.7, 1034.9,\n",
       "       1034.8, 1023.1, 1031.2, 1036. , 1035.8, 1035.3, 1030.1, 1012. ,\n",
       "       1033.2, 1033.1, 1033.8, 1011.7, 1020.1, 1026.5, 1020.4, 1019.2,\n",
       "       1019.3, 1022.6, 1022.5, 1011.6, 1010.8, 1009. , 1008.8, 1007.9,\n",
       "       1013.6, 1007.7, 1000.4, 1009.9, 1017.6, 1012.1, 1013.2, 1024.3,\n",
       "       1006.3, 1009.8, 1017.9, 1016.6, 1010.1, 1018.9, 1018.8, 1018. ,\n",
       "       1017.2, 1008.4, 1012.8, 1017. , 1016.7, 1014.9, 1018.1, 1016.9,\n",
       "       1016.2, 1019.1, 1009.3, 1015.8, 1007.8, 1020.9, 1014.6, 1011.3,\n",
       "       1008. , 1029.4, 1009.6, 1015.7, 1019. , 1012.3, 1008.3, 1008.2,\n",
       "       1009.1, 1009.2, 1021.6, 1023.3, 1023. , 1018.2, 1011. , 1024.1,\n",
       "       1027.8, 1023.2, 1020. , 1010.9, 1021. , 1007. , 1029.3, 1029.5,\n",
       "       1029.2, 1004.1, 1013.7, 1020.5, 1022.3, 1007.1, 1006.9, 1006.8,\n",
       "       1000. , 1008.6, 1027.5, 1027.4, 1010. , 1028.1, 1022.1, 1024.9,\n",
       "       1009.4, 1019.9, 1014.4, 1011.5, 1016.4, 1015.6, 1003.9, 1008.5,\n",
       "       1003.8, 1006.7, 1005.7, 1005.1, 1005.4, 1013.4, 1004.7, 1006. ,\n",
       "       1013.3, 1005.5, 1033.7, 1007.6, 1028.5, 1007.5, 1007.4, 1004.6,\n",
       "       1005. ,  996.4, 1012.4, 1004. ,  995.3, 1012.2, 1006.2, 1014.2,\n",
       "       1016.1, 1007.3, 1005.9, 1014.8, 1006.6, 1005.6, 1006.1, 1007.2,\n",
       "       1000.1,  999.8, 1008.1, 1003.4, 1001.5, 1002.2, 1010.3, 1004.9,\n",
       "       1004.8, 1005.3, 1006.5, 1002.8,  998. ,  998.1,  994.3, 1002.7,\n",
       "       1002.4, 1000.2, 1006.4, 1004.4, 1003. , 1005.8, 1004.2, 1001.2,\n",
       "       1004.3, 1002.1,  995.8, 1005.2, 1004.5, 1016.3, 1003.3, 1002.9,\n",
       "       1001.6,  993.9, 1001.7, 1002. , 1001.4, 1003.2,  998.6,  995.6,\n",
       "       1001.3, 1000.7,  998.3,  983.3, 1003.7, 1003.6, 1001.9, 1001.8,\n",
       "        998.8, 1000.8,  999.5,  993.4, 1002.6, 1000.9,  999.9, 1003.5,\n",
       "        999.2, 1001.1, 1003.1,  996.5,  999.1,  998.2,  981.9,  995.4,\n",
       "        992.6,  992.8,  996.9,  996.7,  996.3,  995.7,  996.2,  994.1,\n",
       "        996.1,  991. ,  999. ,  998.5,  984.2,  997.4,  999.3, 1001. ,\n",
       "        994.2,  992.4,  990.8,  987.1,  997.8,  997.9,  995. ,  983.2,\n",
       "        995.9,  991.1,  993.1,  993. ,  987.4,  994. ,  993.6,  988.2,\n",
       "        988.3,  987.7, 1027.7, 1028. ,  999.7, 1026.6, 1032.7, 1029. ,\n",
       "        993.3, 1000.5,  978.2, 1030.3, 1031.7,  998.9,  998.7,  977.1,\n",
       "        988. ,  997.5,  997.3,  989.8,  997. , 1029.8, 1033.5, 1035.5,\n",
       "       1035.4, 1033. , 1035. , 1035.7,  995.1,  993.2,  998.4,  997.7,\n",
       "        992.1,  988.8,  991.4,  991.8, 1000.6,  987.3, 1030.6, 1002.5,\n",
       "        997.6,  996.8,  992.5, 1002.3,  990.1, 1029.6, 1035.9, 1035.6,\n",
       "       1033.6, 1031.1, 1037.3, 1034.6, 1032.8, 1031.8, 1031.6, 1034. ,\n",
       "       1032.6, 1034.2, 1037. , 1036.4, 1031. , 1032.4, 1030.9, 1033.4,\n",
       "       1035.1, 1033.3, 1034.7, 1032.9, 1034.4, 1034.1,  991.9, 1031.9,\n",
       "       1034.3, 1035.2, 1034.5, 1036.1,  990.2, 1037.1, 1036.9,  989. ,\n",
       "        989.3,  997.1,  982.2, 1036.6,  995.2,  999.6,  992. , 1000.3,\n",
       "        997.2,  995.5,  989.1,  991.5,  984.4,  993.8, 1036.3,  981.4,\n",
       "        992.7,  986.1,  996.6,  996. ,  991.3,  986.5,  989.6,  990.9,\n",
       "        994.8,  994.9,  994.7, 1033.9,  993.7,  990.6,  993.5, 1036.2,\n",
       "        985.5,  992.2,  992.3,  990.3,  986.6,  988.1,  992.9, 1038.9,\n",
       "       1038.5,  994.4,  990.4,  989.4,  987. ,  991.7,  986.2,  980.2,\n",
       "        979. ,  989.9,  987.6, 1037.6, 1037.2,  988.4,  981.2,  994.6,\n",
       "        985.3,  991.6,  984. ])"
      ]
     },
     "execution_count": 86,
     "metadata": {},
     "output_type": "execute_result"
    }
   ],
   "source": [
    "lluvias['Pre3pm'].unique()"
   ]
  },
  {
   "cell_type": "code",
   "execution_count": 87,
   "metadata": {},
   "outputs": [
    {
     "data": {
      "text/plain": [
       "array([1018.6, 1018.4, 1017.8, 1017.4, 1017.6, 1020.5, 1028.5, 1028.6,\n",
       "       1017.3, 1018.9, 1018.7, 1025.8, 1025.9, 1010.2, 1013.9, 1020.8,\n",
       "       1018.8, 1020.6, 1019. , 1023.3, 1019.1, 1019.2, 1006.2, 1014.9,\n",
       "       1028.3, 1028.2, 1026. , 1005.6, 1015.3, 1025.7, 1029.1, 1028.8,\n",
       "       1023.4, 1017.2, 1017.1, 1024.8, 1014.6, 1028.7, 1028.1, 1029.4,\n",
       "       1028.4, 1022.4, 1019.4, 1019.3, 1018.2, 1030.4, 1030.2, 1032.6,\n",
       "       1032.5, 1032.7, 1021.9, 1023.1, 1023. , 1023.6, 1025.5, 1030. ,\n",
       "       1029.9, 1031.1, 1020.1, 1027. , 1026.9, 1024.9, 1024.3, 1026.1,\n",
       "       1026.3, 1020.4, 1029.2, 1021.6, 1014.5, 1026.2, 1026.4, 1026.6,\n",
       "       1026.5, 1022.6, 1027.4, 1027.3, 1014.7, 1027.9, 1027.8, 1027.7,\n",
       "       1025.1, 1024.6, 1015.8, 1031.3, 1031.2, 1030.3, 1030.1, 1023.2,\n",
       "       1019.9, 1023.9, 1016.6, 1032. , 1016.8, 1027.1, 1016.7, 1025. ,\n",
       "       1026.8, 1021. , 1021.2, 1018.5, 1023.7, 1023.8, 1031.9, 1034.8,\n",
       "       1035. , 1033.5, 1030.6, 1027.6, 1033.2, 1032.9, 1033.7, 1029.8,\n",
       "       1029.7, 1016.5, 1024.2, 1028.9, 1020.2, 1030.7, 1016.2, 1019.7,\n",
       "       1021.4, 1025.2, 1016.1, 1025.6, 1024.5, 1018.3, 1028. , 1029.6,\n",
       "       1031. , 1034.3, 1034.1, 1015.5, 1037.5, 1037.2, 1037.3, 1032.3,\n",
       "       1032.8, 1037.7, 1022.1, 1025.4, 1033.4, 1022. , 1029. , 1015.7,\n",
       "       1021.7, 1022.8, 1012. , 1018. , 1019.5, 1023.5, 1019.6, 1010.9,\n",
       "       1013.3, 1013.2, 1013. , 1008.2, 1008.1, 1014.4, 1000.5, 1013.1,\n",
       "       1021.8, 1017.7, 1017.5, 1022.3, 1012.4, 1013.4, 1022.9, 1021.1,\n",
       "       1021.3, 1020.9, 1012.7, 1020.3, 1015.4, 1022.7, 1022.5, 1005.8,\n",
       "       1018.1, 1017.9, 1014.3, 1024.7, 1019.8, 1006.6, 1006.3, 1010.7,\n",
       "       1016.9, 1015. , 1024.1, 1011. , 1025.3, 1020.7, 1014.2, 1011.9,\n",
       "       1024.4, 1012.3, 1015.6, 1008.3, 1008.4, 1012.8, 1026.7, 1013.8,\n",
       "       1031.7, 1031.8, 1013.5, 1014.8, 1027.5, 1011.6, 1015.1, 1031.6,\n",
       "       1032.2, 1030.9, 1030.8, 1020. , 1009.7, 1016.3, 1003.6, 1014.1,\n",
       "       1024. , 1015.9, 1011.4, 1010.3, 1009.9, 1013.7, 1006.8, 1014. ,\n",
       "       1008.5, 1011.7, 1012.5, 1030.5, 1011.3, 1012.2, 1021.5, 1007.4,\n",
       "       1009.3, 1009.1, 1007.6, 1007.3, 1007.2, 1005. , 1009.6, 1011.1,\n",
       "       1010.8, 1031.5, 1036.1, 1029.5, 1007. , 1016.4, 1010.1, 1009.2,\n",
       "       1000.9, 1006.1, 1017. , 1005.4, 1005.5, 1001.9, 1007.9, 1009.5,\n",
       "       1013.6, 1027.2, 1010.4, 1012.6, 1016. , 1007.8, 1009.8, 1008.9,\n",
       "       1011.5, 1002.5, 1010. , 1009.4, 1010.6, 1000.8, 1006. , 1001. ,\n",
       "       1011.2, 1008.6, 1022.2, 1005.2, 1015.2, 1008.8, 1012.1, 1010.5,\n",
       "       1012.9, 1008. , 1008.7, 1003.3, 1007.1, 1003.2, 1009. , 1004.3,\n",
       "        999.3, 1011.8,  997.5, 1002. , 1007.5, 1003.9, 1003.5, 1006.4,\n",
       "       1004.5, 1005.3, 1004.9, 1004.7, 1000.3, 1006.9,  999.2, 1006.5,\n",
       "       1001.1,  995.3,  995.2,  998.8,  995. , 1005.1, 1003.4,  989.6,\n",
       "        998.6,  994. , 1007.7, 1001.6, 1004.6, 1005.7, 1002.4, 1000.7,\n",
       "       1003.7, 1001.3, 1004. , 1001.2,  997.2, 1002.9, 1003. , 1005.9,\n",
       "       1006.7,  997.1,  999.5, 1002.8,  996.7,  998.2,  993.2, 1001.7,\n",
       "       1002.1,  993.6,  993.5,  993.8,  997. ,  996.9, 1002.7, 1003.1,\n",
       "       1001.5,  999.7,  999. ,  998.5,  999.9,  997.6, 1002.2, 1000. ,\n",
       "        998.3,  998.9,  984.6,  999.4,  999.1,  995.7,  995.4,  995.9,\n",
       "        982.9, 1004.4,  991.7,  991.8,  989.5, 1000.6,  989.7,  991.3,\n",
       "        997.8,  998.1, 1032.4, 1029.3,  996.8,  998.4, 1004.2,  987.2,\n",
       "        983.9, 1033.3, 1034.6,  996.6,  997.3,  997.9,  988.1, 1002.3,\n",
       "       1002.6,  996.5, 1003.8,  992.1, 1004.8, 1004.1,  984.4,  993.1,\n",
       "       1033. , 1035.8, 1034.7, 1039. , 1038.8, 1037.1, 1036.5, 1033.9,\n",
       "       1036.2, 1037. ,  996.3,  999.8,  996.4, 1001.4,  998. ,  982.2,\n",
       "        995.5,  996.1,  996.2,  988.5, 1032.1, 1001.8,  989.9, 1000.4,\n",
       "        993.3, 1034.4, 1035.4, 1039.3, 1034. , 1034.2, 1036. , 1036.9,\n",
       "       1036.6, 1035.6, 1037.9, 1035.5, 1038. , 1034.5, 1035.3, 1033.6,\n",
       "       1033.8, 1034.9, 1038.6, 1035.1, 1035.7, 1038.2, 1038.1, 1036.4,\n",
       "        993. , 1033.1, 1031.4, 1035.2, 1036.8, 1037.8, 1035.9, 1037.4,\n",
       "       1038.7,  988.2,  988.8,  994.9,  998.7, 1000.2, 1000.1,  994.6,\n",
       "        999.6,  996. ,  990.5,  997.7,  995.6,  993.4,  990.9,  995.1,\n",
       "       1036.7, 1036.3, 1038.3,  991.5,  994.4,  986.6,  990.3,  995.8,\n",
       "        992.9,  994.5,  997.4,  994.8,  990.2,  992. ,  992.7,  992.4,\n",
       "       1039.6, 1039.2, 1040.2,  994.1,  992.8,  994.3,  991.6,  989.3,\n",
       "        991.9,  993.7, 1037.6,  988.9, 1039.5, 1039.1, 1040.4, 1040. ,\n",
       "        988.3,  987. ,  987.4,  980.5, 1040.3,  993.9,  992.2,  988. ])"
      ]
     },
     "execution_count": 87,
     "metadata": {},
     "output_type": "execute_result"
    }
   ],
   "source": [
    "lluvias['Pres9am'].unique()"
   ]
  },
  {
   "cell_type": "code",
   "execution_count": 88,
   "metadata": {},
   "outputs": [
    {
     "data": {
      "text/plain": [
       "array([ 9.4,  3.8,  9.8,  7.9,  9.3,  5.6,  8.9,  5.4, 10.7,  2.7,  6. ,\n",
       "        5.9,  6.5, 10.6,  9.2,  0. ,  7. ,  7.2, 11. ,  7.8,  7.5,  4.6,\n",
       "        8.6,  5.8,  8.8,  7.4,  5.1,  9.1,  4. ,  1.9,  6.4,  4.1, 10.9,\n",
       "        6.3,  2.4, 10.1,  0.2,  1. ,  5.3,  9. ,  8.1,  9.9,  4.8,  0.8,\n",
       "        4.4,  8.3,  2.2,  4.3, 10.8,  2.9,  2. ,  1.4, 10.5,  7.6,  4.5,\n",
       "        2.1, 10.4,  8.2,  8.7,  6.6,  8.4,  6.7,  1.3,  7.3, 10. ,  2.5,\n",
       "        7.7,  3.3,  3.6,  6.8,  2.8,  1.7,  8. ,  2.6,  9.7,  6.1,  9.6,\n",
       "        4.9,  5.7,  4.7,  6.2,  0.3,  9.5,  0.9, 11.1,  4.2,  6.9,  8.5,\n",
       "        0.5, 11.2,  0.7,  2.3,  5.5, 10.3,  1.2,  0.4,  5. ,  3.9, 11.3,\n",
       "        3.4,  3.2,  3. , 10.2,  1.5,  3.5,  0.1,  0.6,  7.1, 11.5,  3.7,\n",
       "       11.4, 11.8, 12.4, 11.7, 11.9, 12. , 11.6, 12.2, 12.3, 12.5, 12.1,\n",
       "        3.1, 12.7, 12.8,  5.2, 12.6,  1.8, 12.9, 13.4, 13.2, 13. , 13.3,\n",
       "       13.1, 13.5, 13.6,  1.1, 14. ,  1.6, 13.7, 13.8, 14.5, 13.9, 14.1,\n",
       "       14.3, 14.2])"
      ]
     },
     "execution_count": 88,
     "metadata": {},
     "output_type": "execute_result"
    }
   ],
   "source": [
    "lluvias['Sol'].unique()"
   ]
  },
  {
   "cell_type": "code",
   "execution_count": 89,
   "metadata": {},
   "outputs": [
    {
     "data": {
      "text/plain": [
       "array([18.8, 17.9, 12.2, 13.4, 11.7, 22.6, 16.2, 15.6, 19. , 19.3, 11.2,\n",
       "       11. , 24. , 17.5, 17.6,  9.5, 31. , 17.3, 18.2, 12.5, 19.4, 11.6,\n",
       "       23.1, 18. , 11.3, 29.2, 18.7, 16.8, 12.9, 13.5, 16.1, 12.4, 20.5,\n",
       "       15.7, 32.1, 17.7, 11.8, 12.7, 23.3, 19.2, 18.5, 10.9, 32. , 19.7,\n",
       "       18.1, 14.4, 13.8, 20. , 21.5, 21.6, 16.6, 32.3, 17.2, 14.9, 15.5,\n",
       "       14.5, 22.3, 22.2, 22. , 15.9, 32.7, 16.3, 15. , 15.3, 22.4, 12.6,\n",
       "       17.4, 15.1, 13.3, 14.8, 23.9, 31.2, 14.7, 22.1, 20.2, 20.4, 30.5,\n",
       "       21.7, 30.2, 16.7, 19.8, 28.7, 17. , 14. , 29.4, 19.1, 17.1, 14.3,\n",
       "       23.7, 14.2, 28.5, 16. , 13.6, 14.6, 23.4, 23.2, 15.4, 28.6, 21. ,\n",
       "       20.6, 13.9, 13.7, 23.8, 16.9, 11.9, 13.1, 21.1, 12.8, 28.8, 14.1,\n",
       "       19.9, 22.5, 30.1, 24.5, 24.1,  9.9, 18.3, 16.5, 24.9, 24.4, 21.8,\n",
       "       13. , 30.8, 16.4, 22.8, 22.9, 30.9, 17.8, 15.8, 12.3, 31.3, 11.5,\n",
       "       10.4, 12. ,  8.4, 31.7, 15.2, 25.6, 21.2, 20.7, 10.2,  9.4, 24.3,\n",
       "       31.6, 23. , 19.6, 18.4, 32.8, 27.3, 20.9, 33.3, 18.6, 34. , 20.1,\n",
       "       20.3, 31.1, 21.9, 25.4, 21.4, 33.5, 19.5, 25.5, 26.1, 18.9, 30.6,\n",
       "       13.2, 32.5, 29.9, 31.4, 23.5, 11.4, 20.8, 33.1, 25.2, 25.7, 31.9,\n",
       "       26.6, 26.2, 25.8, 30.7, 24.2, 24.7, 26.8, 26. , 26.4, 26.9, 25.3,\n",
       "       25. , 25.9, 10.5, 25.1, 28.9, 22.7, 33.9, 23.6, 27.9, 28.1, 32.9,\n",
       "       28.4, 27.4, 28. , 31.8, 24.6, 28.3, 32.6, 28.2, 32.4, 27.6, 27.2,\n",
       "       29.3, 30. , 31.5, 10.6, 27.8, 33.7, 21.3, 33. , 29.6, 27.7, 27.1,\n",
       "       29.7, 32.2, 29.5, 27.5, 27. , 29. , 26.5, 26.3, 26.7, 30.3, 29.8,\n",
       "       29.1, 30.4, 33.6, 34.1, 34.3, 35.1, 34.9, 34.2, 35.5, 35.7, 34.8,\n",
       "       24.8, 37. , 37.2, 38.3, 39.1, 36.3, 35.3, 33.2, 34.5, 33.8, 35.6,\n",
       "       42.5, 36.2, 40.8, 44.5, 36.9, 44.8, 37.1, 34.4, 35. , 37.6, 41.2,\n",
       "       41.5, 39.6, 38.9, 34.7, 34.6, 36.1, 35.9, 39. , 38.8, 38.1, 38. ,\n",
       "       38.4, 36.7, 37.4, 33.4, 35.2, 41.9, 41.8, 38.7,  9.7, 36.6, 12.1,\n",
       "        8.3, 36.8, 35.4, 10. , 10.1,  9.6, 10.7,  9.3, 10.3,  9.8,  8.8,\n",
       "        7.8,  9. ,  4.8, 10.8,  7.4, 11.1,  9.1,  9.2,  8.9,  7.3,  8.2,\n",
       "        8. ,  6.1,  6.8, 37.3, 37.8, 39.5, 39.3, 38.6, 35.8, 40.6, 39.4,\n",
       "       40. , 36. , 37.5, 37.7, 36.4, 36.5, 39.9, 41.1, 42. , 41. , 39.7,\n",
       "       40.1, 39.8, 42.1, 39.2, 37.9, 42.4, 41.3, 43. , 40.5, 38.2, 40.2,\n",
       "       40.4, 40.7, 38.5, 42.3,  7.7,  5.8,  8.7,  8.5,  7. ,  8.1,  7.5,\n",
       "        8.6,  6.9,  6.7,  7.2,  7.6,  7.1, 42.7, 40.9, 41.6,  7.9, 44.1,\n",
       "       41.7, 40.3, 42.6, 42.9, 41.4, 43.6, 45.8,  6.2, 44.7, 44.9, 43.2,\n",
       "        6.6,  4.3, 46.1,  5.5,  6. ,  6.4, 42.2, 43.3, 43.4,  3.7, 43.9,\n",
       "       45.4, 45.2, 45.3, 43.7, 43.1,  5.1,  5.7,  4.6])"
      ]
     },
     "execution_count": 89,
     "metadata": {},
     "output_type": "execute_result"
    }
   ],
   "source": [
    "lluvias['Temp3pm'].unique()"
   ]
  },
  {
   "cell_type": "code",
   "execution_count": 90,
   "metadata": {},
   "outputs": [
    {
     "data": {
      "text/plain": [
       "array([ 9.4, 11.9,  8.1,  9.3,  9. , 15.9, 12. , 11.5, 12.4, 12.9,  8. ,\n",
       "        9.6,  7.9, 14.3, 13.7, 14. ,  6.2, 25.4, 10.2, 10.9,  9.1,  7.4,\n",
       "        8.8, 15.2, 15.5, 15.1, 24.8, 11. ,  7.5,  3.8,  5.6, 17.8, 16.2,\n",
       "       16.4,  2.6, 10.5, 13.3, 10.1, 11.2, 17.2, 13.8, 13. ,  7.7,  6. ,\n",
       "        5.2, 17.9, 13.5, 24.5, 12.7, 15.6,  8.5,  8.6,  6.3, 19.3,  9.9,\n",
       "       25.1, 15.7, 10. ,  8.9,  5.5,  7.2, 18.8, 14.1, 14.2, 24.2, 14.6,\n",
       "        6.7,  5.4, 10.4, 13.1,  8.7, 23.9,  8.4,  6.1, 19.4, 12.1, 21.8,\n",
       "       14.7, 10.6,  9.8, 17.6, 22.9,  6.5,  7.8, 18.9,  7. , 10.7, 15. ,\n",
       "       14.4, 21.9, 11.6, 16.7, 16.6, 20.9,  3.4, 16. , 13.6, 12.8, 15.8,\n",
       "        4.8, 19.6, 12.5, 17.4, 21.6,  7.3,  6.6,  6.8, 23.3, 13.2,  8.3,\n",
       "       14.5,  5.8, 23.4, 11.8, 16.3, 15.4, 25.6, 12.2,  5.7, 10.8, 25.8,\n",
       "       13.4, 11.4, 24. , 24.4, 10.3,  4.5, 14.8, 11.7, 23.5,  7.1,  4.1,\n",
       "       16.1, 23.1,  9.7, 17.5, 16.5, 25.3,  7.6, 27.5, 26.5, 12.6, 13.9,\n",
       "       18.3,  6.4, 26.9, 19.5, 27.1, 27.2, 18.4, 28.5, 19.9, 28.7, 17.1,\n",
       "       11.3, 20. , 26.3, 18.1, 20.2, 19.1, 15.3, 18.7, 20.4, 16.9, 26.4,\n",
       "       18.2,  8.2, 25.5, 21. , 19.8, 25.2, 26. , 18. , 19. ,  9.5, 11.1,\n",
       "       26.6, 17.7, 25. , 20.7, 19.2, 12.3, 26.2,  9.2, 28.2, 17. , 20.6,\n",
       "       27.8, 27.3, 22. , 20.1, 22.5, 21.2, 16.8, 14.9, 18.5, 26.8, 21.5,\n",
       "       20.8, 28.6, 18.6, 28.3, 20.5, 21.3, 27.9, 21.7, 29.4, 20.3, 28.9,\n",
       "       22.4, 27.7, 22.2, 22.6, 21.4, 19.7, 29.3, 22.1, 27.6, 17.3, 21.1,\n",
       "       23.2, 28. , 29.6, 23. , 23.6, 23.7, 24.1, 30.1, 27.4, 29.9, 24.7,\n",
       "       26.7, 25.7, 25.9, 22.3, 24.6, 26.1, 29.1, 22.7, 29.7, 28.1, 24.3,\n",
       "       28.8, 28.4, 27. , 30.4, 22.8, 24.9, 30.7, 29.2, 29. , 30.9, 31. ,\n",
       "       29.5, 36.1, 29.8, 23.8, 30. , 33.2, 33.3, 30.5, 34.3, 33. , 32.6,\n",
       "       31.1, 36.5, 37.2, 30.8, 30.2, 32.5, 34.5, 34.1, 31.5, 31.8, 31.4,\n",
       "       30.6, 30.3, 32.4, 34.2, 31.3, 31.7, 32. , 32.1, 31.2,  3.5,  5.9,\n",
       "        5.1,  3.2,  6.9,  4.9,  4.7,  4.6,  5.3,  3.1,  5. ,  4.2,  2.1,\n",
       "        2.3,  3.3,  4.3, 31.6, 33.8, 33.1, 35.3, 32.3, 32.8, 33.6, 31.9,\n",
       "       33.9, 33.4, 34.6, 35.7, 32.9, 35.4, 34.7, 33.5, 34. , 34.8, 32.7,\n",
       "       35.8,  3.6,  3.7,  1.8,  1.7,  3.9, -0.6,  1.6,  2.5,  2.7,  4.4,\n",
       "        2. ,  4. ,  2.4, 35.2, 32.2, 33.7, 34.9, 34.4, 36. , 39.4, 39. ,\n",
       "       38. , 39.1, 35.1, 36.3,  1.3,  2.9,  0.4,  1.1,  1.9, 35. , 35.6,\n",
       "       35.5, 36.8, 36.6, 37.7, 38.9, 36.2,  0.9, -0.5,  2.2,  1.5, -0.1,\n",
       "        3. ,  0.5,  0.2,  1.2, -0.2,  2.8, 36.4, 35.9, -0.7,  1.4,  1. ,\n",
       "        0. , 36.9, 37.6, 37.3,  0.7,  0.6, 37.9,  0.1,  0.8])"
      ]
     },
     "execution_count": 90,
     "metadata": {},
     "output_type": "execute_result"
    }
   ],
   "source": [
    "lluvias['Temp9am'].unique()"
   ]
  },
  {
   "cell_type": "code",
   "execution_count": 91,
   "metadata": {},
   "outputs": [
    {
     "data": {
      "text/plain": [
       "array([13., 28., 17.,  7., 11., 19.,  2., 24., 20., 15., 35.,  9., 31.,\n",
       "        4., 22.,  6., 30., 41., 26., 33., 43., 52., 37., 50., 39., 44.,\n",
       "       48., 46., 54., 57., 61., 56., 59., 65., 63., 67., 76.])"
      ]
     },
     "execution_count": 91,
     "metadata": {},
     "output_type": "execute_result"
    }
   ],
   "source": [
    "lluvias['Vel3pm'].unique()"
   ]
  },
  {
   "cell_type": "code",
   "execution_count": 92,
   "metadata": {},
   "outputs": [
    {
     "data": {
      "text/plain": [
       "array([13., 19., 26., 15.,  2., 11.,  4., 17., 22.,  9.,  6., 20., 30.,\n",
       "       28.,  7., 24., 33., 31., 39., 35., 37., 41., 56., 43., 63., 44.,\n",
       "       52., 50., 61., 65., 54., 46., 57., 48., 59., 67.])"
      ]
     },
     "execution_count": 92,
     "metadata": {},
     "output_type": "execute_result"
    }
   ],
   "source": [
    "lluvias['Vel9am'].unique()"
   ]
  },
  {
   "cell_type": "code",
   "execution_count": 93,
   "metadata": {},
   "outputs": [
    {
     "data": {
      "text/plain": [
       "array([ 35.,  46.,  44.,  39.,  20.,  26.,  43.,  33.,  30.,  24.,  17.,\n",
       "        57.,  28.,  52.,  54.,  37.,  72.,  65.,  56.,  59.,  41.,  31.,\n",
       "        89.,  13.,  19.,  61.,  15.,  22.,  50.,  48.,  69.,  74.,  70.,\n",
       "        76.,  81.,  63.,  67.,  91.,  78.,  80.,  87.,  93.,  96.,  85.,\n",
       "        94.,  83., 100., 107., 106., 104., 113., 102.,  11.,  98., 111.,\n",
       "       117., 122.,   9., 109., 115., 124.])"
      ]
     },
     "execution_count": 93,
     "metadata": {},
     "output_type": "execute_result"
    }
   ],
   "source": [
    "lluvias['VelRafaga'].unique()"
   ]
  },
  {
   "cell_type": "code",
   "execution_count": null,
   "metadata": {},
   "outputs": [
    {
     "data": {
      "text/html": [
       "<div>\n",
       "<style scoped>\n",
       "    .dataframe tbody tr th:only-of-type {\n",
       "        vertical-align: middle;\n",
       "    }\n",
       "\n",
       "    .dataframe tbody tr th {\n",
       "        vertical-align: top;\n",
       "    }\n",
       "\n",
       "    .dataframe thead th {\n",
       "        text-align: right;\n",
       "    }\n",
       "</style>\n",
       "<table border=\"1\" class=\"dataframe\">\n",
       "  <thead>\n",
       "    <tr style=\"text-align: right;\">\n",
       "      <th></th>\n",
       "      <th>MinTemp</th>\n",
       "      <th>MaxTemp</th>\n",
       "      <th>Lluvia</th>\n",
       "      <th>Evaporacion</th>\n",
       "      <th>Sol</th>\n",
       "      <th>VelRafaga</th>\n",
       "      <th>Vel9am</th>\n",
       "      <th>Vel3pm</th>\n",
       "      <th>Hum9am</th>\n",
       "      <th>Hum3pm</th>\n",
       "      <th>Pres9am</th>\n",
       "      <th>Pre3pm</th>\n",
       "      <th>Nub9am</th>\n",
       "      <th>Nub3pm</th>\n",
       "      <th>Temp9am</th>\n",
       "      <th>Temp3pm</th>\n",
       "      <th>LluviaHoy</th>\n",
       "      <th>LluviaMan</th>\n",
       "      <th>Koppen</th>\n",
       "      <th>Estacion</th>\n",
       "    </tr>\n",
       "  </thead>\n",
       "  <tbody>\n",
       "    <tr>\n",
       "      <th>0</th>\n",
       "      <td>7.6</td>\n",
       "      <td>19.3</td>\n",
       "      <td>0.0</td>\n",
       "      <td>3.4</td>\n",
       "      <td>9.4</td>\n",
       "      <td>35.0</td>\n",
       "      <td>13.0</td>\n",
       "      <td>13.0</td>\n",
       "      <td>73.0</td>\n",
       "      <td>32.0</td>\n",
       "      <td>1018.6</td>\n",
       "      <td>1015.4</td>\n",
       "      <td>1.0</td>\n",
       "      <td>1.0</td>\n",
       "      <td>9.4</td>\n",
       "      <td>18.8</td>\n",
       "      <td>0</td>\n",
       "      <td>0</td>\n",
       "      <td>Subtropical</td>\n",
       "      <td>Invierno</td>\n",
       "    </tr>\n",
       "    <tr>\n",
       "      <th>1</th>\n",
       "      <td>6.8</td>\n",
       "      <td>19.5</td>\n",
       "      <td>0.0</td>\n",
       "      <td>3.4</td>\n",
       "      <td>9.4</td>\n",
       "      <td>46.0</td>\n",
       "      <td>19.0</td>\n",
       "      <td>28.0</td>\n",
       "      <td>67.0</td>\n",
       "      <td>42.0</td>\n",
       "      <td>1018.4</td>\n",
       "      <td>1015.2</td>\n",
       "      <td>1.0</td>\n",
       "      <td>1.0</td>\n",
       "      <td>11.9</td>\n",
       "      <td>17.9</td>\n",
       "      <td>0</td>\n",
       "      <td>0</td>\n",
       "      <td>Subtropical</td>\n",
       "      <td>Invierno</td>\n",
       "    </tr>\n",
       "    <tr>\n",
       "      <th>2</th>\n",
       "      <td>5.5</td>\n",
       "      <td>13.9</td>\n",
       "      <td>0.0</td>\n",
       "      <td>2.8</td>\n",
       "      <td>3.8</td>\n",
       "      <td>44.0</td>\n",
       "      <td>26.0</td>\n",
       "      <td>13.0</td>\n",
       "      <td>72.0</td>\n",
       "      <td>58.0</td>\n",
       "      <td>1017.8</td>\n",
       "      <td>1015.5</td>\n",
       "      <td>7.0</td>\n",
       "      <td>7.0</td>\n",
       "      <td>8.1</td>\n",
       "      <td>12.2</td>\n",
       "      <td>0</td>\n",
       "      <td>0</td>\n",
       "      <td>Temperate</td>\n",
       "      <td>Invierno</td>\n",
       "    </tr>\n",
       "    <tr>\n",
       "      <th>3</th>\n",
       "      <td>8.6</td>\n",
       "      <td>14.3</td>\n",
       "      <td>0.0</td>\n",
       "      <td>2.8</td>\n",
       "      <td>3.8</td>\n",
       "      <td>35.0</td>\n",
       "      <td>13.0</td>\n",
       "      <td>17.0</td>\n",
       "      <td>67.0</td>\n",
       "      <td>56.0</td>\n",
       "      <td>1017.4</td>\n",
       "      <td>1015.0</td>\n",
       "      <td>7.0</td>\n",
       "      <td>7.0</td>\n",
       "      <td>9.3</td>\n",
       "      <td>13.4</td>\n",
       "      <td>0</td>\n",
       "      <td>1</td>\n",
       "      <td>Temperate</td>\n",
       "      <td>Invierno</td>\n",
       "    </tr>\n",
       "    <tr>\n",
       "      <th>4</th>\n",
       "      <td>7.9</td>\n",
       "      <td>13.0</td>\n",
       "      <td>0.0</td>\n",
       "      <td>2.8</td>\n",
       "      <td>3.8</td>\n",
       "      <td>39.0</td>\n",
       "      <td>15.0</td>\n",
       "      <td>17.0</td>\n",
       "      <td>68.0</td>\n",
       "      <td>69.0</td>\n",
       "      <td>1017.6</td>\n",
       "      <td>1015.3</td>\n",
       "      <td>7.0</td>\n",
       "      <td>7.0</td>\n",
       "      <td>9.0</td>\n",
       "      <td>11.7</td>\n",
       "      <td>0</td>\n",
       "      <td>0</td>\n",
       "      <td>Temperate</td>\n",
       "      <td>Invierno</td>\n",
       "    </tr>\n",
       "  </tbody>\n",
       "</table>\n",
       "</div>"
      ],
      "text/plain": [
       "   MinTemp  MaxTemp  Lluvia  Evaporacion  Sol  VelRafaga  Vel9am  Vel3pm  \\\n",
       "0      7.6     19.3     0.0          3.4  9.4       35.0    13.0    13.0   \n",
       "1      6.8     19.5     0.0          3.4  9.4       46.0    19.0    28.0   \n",
       "2      5.5     13.9     0.0          2.8  3.8       44.0    26.0    13.0   \n",
       "3      8.6     14.3     0.0          2.8  3.8       35.0    13.0    17.0   \n",
       "4      7.9     13.0     0.0          2.8  3.8       39.0    15.0    17.0   \n",
       "\n",
       "   Hum9am  Hum3pm  Pres9am  Pre3pm  Nub9am  Nub3pm  Temp9am  Temp3pm  \\\n",
       "0    73.0    32.0   1018.6  1015.4     1.0     1.0      9.4     18.8   \n",
       "1    67.0    42.0   1018.4  1015.2     1.0     1.0     11.9     17.9   \n",
       "2    72.0    58.0   1017.8  1015.5     7.0     7.0      8.1     12.2   \n",
       "3    67.0    56.0   1017.4  1015.0     7.0     7.0      9.3     13.4   \n",
       "4    68.0    69.0   1017.6  1015.3     7.0     7.0      9.0     11.7   \n",
       "\n",
       "   LluviaHoy  LluviaMan       Koppen  Estacion  \n",
       "0          0          0  Subtropical  Invierno  \n",
       "1          0          0  Subtropical  Invierno  \n",
       "2          0          0    Temperate  Invierno  \n",
       "3          0          1    Temperate  Invierno  \n",
       "4          0          0    Temperate  Invierno  "
      ]
     },
     "execution_count": 42,
     "metadata": {},
     "output_type": "execute_result"
    }
   ],
   "source": [
    "lluvias.head()"
   ]
  },
  {
   "cell_type": "code",
   "execution_count": null,
   "metadata": {},
   "outputs": [
    {
     "data": {
      "text/plain": [
       "array(['Subtropical', 'Temperate', 'Grassland', 'Desert'], dtype=object)"
      ]
     },
     "execution_count": 43,
     "metadata": {},
     "output_type": "execute_result"
    }
   ],
   "source": [
    "# Cambiar variables object por int (Koppen)\n",
    "lluvias['Koppen'].unique()"
   ]
  },
  {
   "cell_type": "code",
   "execution_count": 61,
   "metadata": {},
   "outputs": [],
   "source": [
    "# Cambiar variables object por int (Koppen)\n",
    "lluvias = lluvias.replace({'Koppen': {'Temperate': 0, 'Subtropical': 1, 'Grassland': 2, 'Tropical': 3, 'Desert': 4}})"
   ]
  },
  {
   "cell_type": "code",
   "execution_count": null,
   "metadata": {},
   "outputs": [
    {
     "data": {
      "text/html": [
       "<div>\n",
       "<style scoped>\n",
       "    .dataframe tbody tr th:only-of-type {\n",
       "        vertical-align: middle;\n",
       "    }\n",
       "\n",
       "    .dataframe tbody tr th {\n",
       "        vertical-align: top;\n",
       "    }\n",
       "\n",
       "    .dataframe thead th {\n",
       "        text-align: right;\n",
       "    }\n",
       "</style>\n",
       "<table border=\"1\" class=\"dataframe\">\n",
       "  <thead>\n",
       "    <tr style=\"text-align: right;\">\n",
       "      <th></th>\n",
       "      <th>MinTemp</th>\n",
       "      <th>MaxTemp</th>\n",
       "      <th>Lluvia</th>\n",
       "      <th>Evaporacion</th>\n",
       "      <th>Sol</th>\n",
       "      <th>VelRafaga</th>\n",
       "      <th>Vel9am</th>\n",
       "      <th>Vel3pm</th>\n",
       "      <th>Hum9am</th>\n",
       "      <th>Hum3pm</th>\n",
       "      <th>Pres9am</th>\n",
       "      <th>Pre3pm</th>\n",
       "      <th>Nub9am</th>\n",
       "      <th>Nub3pm</th>\n",
       "      <th>Temp9am</th>\n",
       "      <th>Temp3pm</th>\n",
       "      <th>LluviaHoy</th>\n",
       "      <th>LluviaMan</th>\n",
       "      <th>Koppen</th>\n",
       "      <th>Estacion</th>\n",
       "    </tr>\n",
       "  </thead>\n",
       "  <tbody>\n",
       "    <tr>\n",
       "      <th>0</th>\n",
       "      <td>7.6</td>\n",
       "      <td>19.3</td>\n",
       "      <td>0.0</td>\n",
       "      <td>3.4</td>\n",
       "      <td>9.4</td>\n",
       "      <td>35.0</td>\n",
       "      <td>13.0</td>\n",
       "      <td>13.0</td>\n",
       "      <td>73.0</td>\n",
       "      <td>32.0</td>\n",
       "      <td>1018.6</td>\n",
       "      <td>1015.4</td>\n",
       "      <td>1.0</td>\n",
       "      <td>1.0</td>\n",
       "      <td>9.4</td>\n",
       "      <td>18.8</td>\n",
       "      <td>0</td>\n",
       "      <td>0</td>\n",
       "      <td>1</td>\n",
       "      <td>Invierno</td>\n",
       "    </tr>\n",
       "    <tr>\n",
       "      <th>1</th>\n",
       "      <td>6.8</td>\n",
       "      <td>19.5</td>\n",
       "      <td>0.0</td>\n",
       "      <td>3.4</td>\n",
       "      <td>9.4</td>\n",
       "      <td>46.0</td>\n",
       "      <td>19.0</td>\n",
       "      <td>28.0</td>\n",
       "      <td>67.0</td>\n",
       "      <td>42.0</td>\n",
       "      <td>1018.4</td>\n",
       "      <td>1015.2</td>\n",
       "      <td>1.0</td>\n",
       "      <td>1.0</td>\n",
       "      <td>11.9</td>\n",
       "      <td>17.9</td>\n",
       "      <td>0</td>\n",
       "      <td>0</td>\n",
       "      <td>1</td>\n",
       "      <td>Invierno</td>\n",
       "    </tr>\n",
       "    <tr>\n",
       "      <th>2</th>\n",
       "      <td>5.5</td>\n",
       "      <td>13.9</td>\n",
       "      <td>0.0</td>\n",
       "      <td>2.8</td>\n",
       "      <td>3.8</td>\n",
       "      <td>44.0</td>\n",
       "      <td>26.0</td>\n",
       "      <td>13.0</td>\n",
       "      <td>72.0</td>\n",
       "      <td>58.0</td>\n",
       "      <td>1017.8</td>\n",
       "      <td>1015.5</td>\n",
       "      <td>7.0</td>\n",
       "      <td>7.0</td>\n",
       "      <td>8.1</td>\n",
       "      <td>12.2</td>\n",
       "      <td>0</td>\n",
       "      <td>0</td>\n",
       "      <td>0</td>\n",
       "      <td>Invierno</td>\n",
       "    </tr>\n",
       "    <tr>\n",
       "      <th>3</th>\n",
       "      <td>8.6</td>\n",
       "      <td>14.3</td>\n",
       "      <td>0.0</td>\n",
       "      <td>2.8</td>\n",
       "      <td>3.8</td>\n",
       "      <td>35.0</td>\n",
       "      <td>13.0</td>\n",
       "      <td>17.0</td>\n",
       "      <td>67.0</td>\n",
       "      <td>56.0</td>\n",
       "      <td>1017.4</td>\n",
       "      <td>1015.0</td>\n",
       "      <td>7.0</td>\n",
       "      <td>7.0</td>\n",
       "      <td>9.3</td>\n",
       "      <td>13.4</td>\n",
       "      <td>0</td>\n",
       "      <td>1</td>\n",
       "      <td>0</td>\n",
       "      <td>Invierno</td>\n",
       "    </tr>\n",
       "    <tr>\n",
       "      <th>4</th>\n",
       "      <td>7.9</td>\n",
       "      <td>13.0</td>\n",
       "      <td>0.0</td>\n",
       "      <td>2.8</td>\n",
       "      <td>3.8</td>\n",
       "      <td>39.0</td>\n",
       "      <td>15.0</td>\n",
       "      <td>17.0</td>\n",
       "      <td>68.0</td>\n",
       "      <td>69.0</td>\n",
       "      <td>1017.6</td>\n",
       "      <td>1015.3</td>\n",
       "      <td>7.0</td>\n",
       "      <td>7.0</td>\n",
       "      <td>9.0</td>\n",
       "      <td>11.7</td>\n",
       "      <td>0</td>\n",
       "      <td>0</td>\n",
       "      <td>0</td>\n",
       "      <td>Invierno</td>\n",
       "    </tr>\n",
       "  </tbody>\n",
       "</table>\n",
       "</div>"
      ],
      "text/plain": [
       "   MinTemp  MaxTemp  Lluvia  Evaporacion  Sol  VelRafaga  Vel9am  Vel3pm  \\\n",
       "0      7.6     19.3     0.0          3.4  9.4       35.0    13.0    13.0   \n",
       "1      6.8     19.5     0.0          3.4  9.4       46.0    19.0    28.0   \n",
       "2      5.5     13.9     0.0          2.8  3.8       44.0    26.0    13.0   \n",
       "3      8.6     14.3     0.0          2.8  3.8       35.0    13.0    17.0   \n",
       "4      7.9     13.0     0.0          2.8  3.8       39.0    15.0    17.0   \n",
       "\n",
       "   Hum9am  Hum3pm  Pres9am  Pre3pm  Nub9am  Nub3pm  Temp9am  Temp3pm  \\\n",
       "0    73.0    32.0   1018.6  1015.4     1.0     1.0      9.4     18.8   \n",
       "1    67.0    42.0   1018.4  1015.2     1.0     1.0     11.9     17.9   \n",
       "2    72.0    58.0   1017.8  1015.5     7.0     7.0      8.1     12.2   \n",
       "3    67.0    56.0   1017.4  1015.0     7.0     7.0      9.3     13.4   \n",
       "4    68.0    69.0   1017.6  1015.3     7.0     7.0      9.0     11.7   \n",
       "\n",
       "   LluviaHoy  LluviaMan  Koppen  Estacion  \n",
       "0          0          0       1  Invierno  \n",
       "1          0          0       1  Invierno  \n",
       "2          0          0       0  Invierno  \n",
       "3          0          1       0  Invierno  \n",
       "4          0          0       0  Invierno  "
      ]
     },
     "execution_count": 45,
     "metadata": {},
     "output_type": "execute_result"
    }
   ],
   "source": [
    "lluvias.head()"
   ]
  },
  {
   "cell_type": "code",
   "execution_count": null,
   "metadata": {},
   "outputs": [
    {
     "data": {
      "text/plain": [
       "array(['Invierno', 'Otoño', 'Verano', 'Primavera'], dtype=object)"
      ]
     },
     "execution_count": 46,
     "metadata": {},
     "output_type": "execute_result"
    }
   ],
   "source": [
    "lluvias['Estacion'].unique()"
   ]
  },
  {
   "cell_type": "code",
   "execution_count": 62,
   "metadata": {},
   "outputs": [],
   "source": [
    "# Cambiar variables object por int (Koppen)\n",
    "lluvias = lluvias.replace({'Estacion': {'Invierno': 0, 'Otoño': 1, 'Verano': 2, 'Primavera': 3}})"
   ]
  },
  {
   "cell_type": "code",
   "execution_count": null,
   "metadata": {},
   "outputs": [
    {
     "data": {
      "text/html": [
       "<div>\n",
       "<style scoped>\n",
       "    .dataframe tbody tr th:only-of-type {\n",
       "        vertical-align: middle;\n",
       "    }\n",
       "\n",
       "    .dataframe tbody tr th {\n",
       "        vertical-align: top;\n",
       "    }\n",
       "\n",
       "    .dataframe thead th {\n",
       "        text-align: right;\n",
       "    }\n",
       "</style>\n",
       "<table border=\"1\" class=\"dataframe\">\n",
       "  <thead>\n",
       "    <tr style=\"text-align: right;\">\n",
       "      <th></th>\n",
       "      <th>MinTemp</th>\n",
       "      <th>MaxTemp</th>\n",
       "      <th>Lluvia</th>\n",
       "      <th>Evaporacion</th>\n",
       "      <th>Sol</th>\n",
       "      <th>VelRafaga</th>\n",
       "      <th>Vel9am</th>\n",
       "      <th>Vel3pm</th>\n",
       "      <th>Hum9am</th>\n",
       "      <th>Hum3pm</th>\n",
       "      <th>Pres9am</th>\n",
       "      <th>Pre3pm</th>\n",
       "      <th>Nub9am</th>\n",
       "      <th>Nub3pm</th>\n",
       "      <th>Temp9am</th>\n",
       "      <th>Temp3pm</th>\n",
       "      <th>LluviaHoy</th>\n",
       "      <th>LluviaMan</th>\n",
       "      <th>Koppen</th>\n",
       "      <th>Estacion</th>\n",
       "    </tr>\n",
       "  </thead>\n",
       "  <tbody>\n",
       "    <tr>\n",
       "      <th>0</th>\n",
       "      <td>7.6</td>\n",
       "      <td>19.3</td>\n",
       "      <td>0.0</td>\n",
       "      <td>3.4</td>\n",
       "      <td>9.4</td>\n",
       "      <td>35.0</td>\n",
       "      <td>13.0</td>\n",
       "      <td>13.0</td>\n",
       "      <td>73.0</td>\n",
       "      <td>32.0</td>\n",
       "      <td>1018.6</td>\n",
       "      <td>1015.4</td>\n",
       "      <td>1.0</td>\n",
       "      <td>1.0</td>\n",
       "      <td>9.4</td>\n",
       "      <td>18.8</td>\n",
       "      <td>0</td>\n",
       "      <td>0</td>\n",
       "      <td>1</td>\n",
       "      <td>0</td>\n",
       "    </tr>\n",
       "    <tr>\n",
       "      <th>1</th>\n",
       "      <td>6.8</td>\n",
       "      <td>19.5</td>\n",
       "      <td>0.0</td>\n",
       "      <td>3.4</td>\n",
       "      <td>9.4</td>\n",
       "      <td>46.0</td>\n",
       "      <td>19.0</td>\n",
       "      <td>28.0</td>\n",
       "      <td>67.0</td>\n",
       "      <td>42.0</td>\n",
       "      <td>1018.4</td>\n",
       "      <td>1015.2</td>\n",
       "      <td>1.0</td>\n",
       "      <td>1.0</td>\n",
       "      <td>11.9</td>\n",
       "      <td>17.9</td>\n",
       "      <td>0</td>\n",
       "      <td>0</td>\n",
       "      <td>1</td>\n",
       "      <td>0</td>\n",
       "    </tr>\n",
       "    <tr>\n",
       "      <th>2</th>\n",
       "      <td>5.5</td>\n",
       "      <td>13.9</td>\n",
       "      <td>0.0</td>\n",
       "      <td>2.8</td>\n",
       "      <td>3.8</td>\n",
       "      <td>44.0</td>\n",
       "      <td>26.0</td>\n",
       "      <td>13.0</td>\n",
       "      <td>72.0</td>\n",
       "      <td>58.0</td>\n",
       "      <td>1017.8</td>\n",
       "      <td>1015.5</td>\n",
       "      <td>7.0</td>\n",
       "      <td>7.0</td>\n",
       "      <td>8.1</td>\n",
       "      <td>12.2</td>\n",
       "      <td>0</td>\n",
       "      <td>0</td>\n",
       "      <td>0</td>\n",
       "      <td>0</td>\n",
       "    </tr>\n",
       "    <tr>\n",
       "      <th>3</th>\n",
       "      <td>8.6</td>\n",
       "      <td>14.3</td>\n",
       "      <td>0.0</td>\n",
       "      <td>2.8</td>\n",
       "      <td>3.8</td>\n",
       "      <td>35.0</td>\n",
       "      <td>13.0</td>\n",
       "      <td>17.0</td>\n",
       "      <td>67.0</td>\n",
       "      <td>56.0</td>\n",
       "      <td>1017.4</td>\n",
       "      <td>1015.0</td>\n",
       "      <td>7.0</td>\n",
       "      <td>7.0</td>\n",
       "      <td>9.3</td>\n",
       "      <td>13.4</td>\n",
       "      <td>0</td>\n",
       "      <td>1</td>\n",
       "      <td>0</td>\n",
       "      <td>0</td>\n",
       "    </tr>\n",
       "    <tr>\n",
       "      <th>4</th>\n",
       "      <td>7.9</td>\n",
       "      <td>13.0</td>\n",
       "      <td>0.0</td>\n",
       "      <td>2.8</td>\n",
       "      <td>3.8</td>\n",
       "      <td>39.0</td>\n",
       "      <td>15.0</td>\n",
       "      <td>17.0</td>\n",
       "      <td>68.0</td>\n",
       "      <td>69.0</td>\n",
       "      <td>1017.6</td>\n",
       "      <td>1015.3</td>\n",
       "      <td>7.0</td>\n",
       "      <td>7.0</td>\n",
       "      <td>9.0</td>\n",
       "      <td>11.7</td>\n",
       "      <td>0</td>\n",
       "      <td>0</td>\n",
       "      <td>0</td>\n",
       "      <td>0</td>\n",
       "    </tr>\n",
       "  </tbody>\n",
       "</table>\n",
       "</div>"
      ],
      "text/plain": [
       "   MinTemp  MaxTemp  Lluvia  Evaporacion  Sol  VelRafaga  Vel9am  Vel3pm  \\\n",
       "0      7.6     19.3     0.0          3.4  9.4       35.0    13.0    13.0   \n",
       "1      6.8     19.5     0.0          3.4  9.4       46.0    19.0    28.0   \n",
       "2      5.5     13.9     0.0          2.8  3.8       44.0    26.0    13.0   \n",
       "3      8.6     14.3     0.0          2.8  3.8       35.0    13.0    17.0   \n",
       "4      7.9     13.0     0.0          2.8  3.8       39.0    15.0    17.0   \n",
       "\n",
       "   Hum9am  Hum3pm  Pres9am  Pre3pm  Nub9am  Nub3pm  Temp9am  Temp3pm  \\\n",
       "0    73.0    32.0   1018.6  1015.4     1.0     1.0      9.4     18.8   \n",
       "1    67.0    42.0   1018.4  1015.2     1.0     1.0     11.9     17.9   \n",
       "2    72.0    58.0   1017.8  1015.5     7.0     7.0      8.1     12.2   \n",
       "3    67.0    56.0   1017.4  1015.0     7.0     7.0      9.3     13.4   \n",
       "4    68.0    69.0   1017.6  1015.3     7.0     7.0      9.0     11.7   \n",
       "\n",
       "   LluviaHoy  LluviaMan  Koppen  Estacion  \n",
       "0          0          0       1         0  \n",
       "1          0          0       1         0  \n",
       "2          0          0       0         0  \n",
       "3          0          1       0         0  \n",
       "4          0          0       0         0  "
      ]
     },
     "execution_count": 48,
     "metadata": {},
     "output_type": "execute_result"
    }
   ],
   "source": [
    "lluvias.head()"
   ]
  },
  {
   "cell_type": "code",
   "execution_count": 63,
   "metadata": {},
   "outputs": [],
   "source": [
    "import statsmodels.api as sm"
   ]
  },
  {
   "cell_type": "code",
   "execution_count": 64,
   "metadata": {},
   "outputs": [
    {
     "ename": "ValueError",
     "evalue": "Pandas data cast to numpy dtype of object. Check input data with np.asarray(data).",
     "output_type": "error",
     "traceback": [
      "\u001b[0;31m---------------------------------------------------------------------------\u001b[0m",
      "\u001b[0;31mValueError\u001b[0m                                Traceback (most recent call last)",
      "Cell \u001b[0;32mIn[64], line 9\u001b[0m\n\u001b[1;32m      6\u001b[0m X_train_const \u001b[39m=\u001b[39m sm\u001b[39m.\u001b[39madd_constant(X_train)\n\u001b[1;32m      8\u001b[0m \u001b[39m# Crear y ajustar el modelo stepwise utilizando forward y backward\u001b[39;00m\n\u001b[0;32m----> 9\u001b[0m logreg_model_stepwise \u001b[39m=\u001b[39m sm\u001b[39m.\u001b[39;49mLogit(y_train, X_train_const)\u001b[39m.\u001b[39mfit(method\u001b[39m=\u001b[39m\u001b[39m'\u001b[39m\u001b[39mbfgs\u001b[39m\u001b[39m'\u001b[39m)\n\u001b[1;32m     11\u001b[0m \u001b[39m# Obtener el resumen del modelo\u001b[39;00m\n\u001b[1;32m     12\u001b[0m \u001b[39mprint\u001b[39m(logreg_model_stepwise\u001b[39m.\u001b[39msummary())\n",
      "File \u001b[0;32m/Library/Frameworks/Python.framework/Versions/3.11/lib/python3.11/site-packages/statsmodels/discrete/discrete_model.py:475\u001b[0m, in \u001b[0;36mBinaryModel.__init__\u001b[0;34m(self, endog, exog, offset, check_rank, **kwargs)\u001b[0m\n\u001b[1;32m    472\u001b[0m \u001b[39mdef\u001b[39;00m \u001b[39m__init__\u001b[39m(\u001b[39mself\u001b[39m, endog, exog, offset\u001b[39m=\u001b[39m\u001b[39mNone\u001b[39;00m, check_rank\u001b[39m=\u001b[39m\u001b[39mTrue\u001b[39;00m, \u001b[39m*\u001b[39m\u001b[39m*\u001b[39mkwargs):\n\u001b[1;32m    473\u001b[0m     \u001b[39m# unconditional check, requires no extra kwargs added by subclasses\u001b[39;00m\n\u001b[1;32m    474\u001b[0m     \u001b[39mself\u001b[39m\u001b[39m.\u001b[39m_check_kwargs(kwargs)\n\u001b[0;32m--> 475\u001b[0m     \u001b[39msuper\u001b[39;49m()\u001b[39m.\u001b[39;49m\u001b[39m__init__\u001b[39;49m(endog, exog, offset\u001b[39m=\u001b[39;49moffset, check_rank\u001b[39m=\u001b[39;49mcheck_rank,\n\u001b[1;32m    476\u001b[0m                      \u001b[39m*\u001b[39;49m\u001b[39m*\u001b[39;49mkwargs)\n\u001b[1;32m    477\u001b[0m     \u001b[39mif\u001b[39;00m \u001b[39mnot\u001b[39;00m \u001b[39missubclass\u001b[39m(\u001b[39mself\u001b[39m\u001b[39m.\u001b[39m\u001b[39m__class__\u001b[39m, MultinomialModel):\n\u001b[1;32m    478\u001b[0m         \u001b[39mif\u001b[39;00m \u001b[39mnot\u001b[39;00m np\u001b[39m.\u001b[39mall((\u001b[39mself\u001b[39m\u001b[39m.\u001b[39mendog \u001b[39m>\u001b[39m\u001b[39m=\u001b[39m \u001b[39m0\u001b[39m) \u001b[39m&\u001b[39m (\u001b[39mself\u001b[39m\u001b[39m.\u001b[39mendog \u001b[39m<\u001b[39m\u001b[39m=\u001b[39m \u001b[39m1\u001b[39m)):\n",
      "File \u001b[0;32m/Library/Frameworks/Python.framework/Versions/3.11/lib/python3.11/site-packages/statsmodels/discrete/discrete_model.py:185\u001b[0m, in \u001b[0;36mDiscreteModel.__init__\u001b[0;34m(self, endog, exog, check_rank, **kwargs)\u001b[0m\n\u001b[1;32m    183\u001b[0m \u001b[39mdef\u001b[39;00m \u001b[39m__init__\u001b[39m(\u001b[39mself\u001b[39m, endog, exog, check_rank\u001b[39m=\u001b[39m\u001b[39mTrue\u001b[39;00m, \u001b[39m*\u001b[39m\u001b[39m*\u001b[39mkwargs):\n\u001b[1;32m    184\u001b[0m     \u001b[39mself\u001b[39m\u001b[39m.\u001b[39m_check_rank \u001b[39m=\u001b[39m check_rank\n\u001b[0;32m--> 185\u001b[0m     \u001b[39msuper\u001b[39;49m()\u001b[39m.\u001b[39;49m\u001b[39m__init__\u001b[39;49m(endog, exog, \u001b[39m*\u001b[39;49m\u001b[39m*\u001b[39;49mkwargs)\n\u001b[1;32m    186\u001b[0m     \u001b[39mself\u001b[39m\u001b[39m.\u001b[39mraise_on_perfect_prediction \u001b[39m=\u001b[39m \u001b[39mFalse\u001b[39;00m  \u001b[39m# keep for backwards compat\u001b[39;00m\n\u001b[1;32m    187\u001b[0m     \u001b[39mself\u001b[39m\u001b[39m.\u001b[39mk_extra \u001b[39m=\u001b[39m \u001b[39m0\u001b[39m\n",
      "File \u001b[0;32m/Library/Frameworks/Python.framework/Versions/3.11/lib/python3.11/site-packages/statsmodels/base/model.py:270\u001b[0m, in \u001b[0;36mLikelihoodModel.__init__\u001b[0;34m(self, endog, exog, **kwargs)\u001b[0m\n\u001b[1;32m    269\u001b[0m \u001b[39mdef\u001b[39;00m \u001b[39m__init__\u001b[39m(\u001b[39mself\u001b[39m, endog, exog\u001b[39m=\u001b[39m\u001b[39mNone\u001b[39;00m, \u001b[39m*\u001b[39m\u001b[39m*\u001b[39mkwargs):\n\u001b[0;32m--> 270\u001b[0m     \u001b[39msuper\u001b[39;49m()\u001b[39m.\u001b[39;49m\u001b[39m__init__\u001b[39;49m(endog, exog, \u001b[39m*\u001b[39;49m\u001b[39m*\u001b[39;49mkwargs)\n\u001b[1;32m    271\u001b[0m     \u001b[39mself\u001b[39m\u001b[39m.\u001b[39minitialize()\n",
      "File \u001b[0;32m/Library/Frameworks/Python.framework/Versions/3.11/lib/python3.11/site-packages/statsmodels/base/model.py:95\u001b[0m, in \u001b[0;36mModel.__init__\u001b[0;34m(self, endog, exog, **kwargs)\u001b[0m\n\u001b[1;32m     93\u001b[0m missing \u001b[39m=\u001b[39m kwargs\u001b[39m.\u001b[39mpop(\u001b[39m'\u001b[39m\u001b[39mmissing\u001b[39m\u001b[39m'\u001b[39m, \u001b[39m'\u001b[39m\u001b[39mnone\u001b[39m\u001b[39m'\u001b[39m)\n\u001b[1;32m     94\u001b[0m hasconst \u001b[39m=\u001b[39m kwargs\u001b[39m.\u001b[39mpop(\u001b[39m'\u001b[39m\u001b[39mhasconst\u001b[39m\u001b[39m'\u001b[39m, \u001b[39mNone\u001b[39;00m)\n\u001b[0;32m---> 95\u001b[0m \u001b[39mself\u001b[39m\u001b[39m.\u001b[39mdata \u001b[39m=\u001b[39m \u001b[39mself\u001b[39;49m\u001b[39m.\u001b[39;49m_handle_data(endog, exog, missing, hasconst,\n\u001b[1;32m     96\u001b[0m                               \u001b[39m*\u001b[39;49m\u001b[39m*\u001b[39;49mkwargs)\n\u001b[1;32m     97\u001b[0m \u001b[39mself\u001b[39m\u001b[39m.\u001b[39mk_constant \u001b[39m=\u001b[39m \u001b[39mself\u001b[39m\u001b[39m.\u001b[39mdata\u001b[39m.\u001b[39mk_constant\n\u001b[1;32m     98\u001b[0m \u001b[39mself\u001b[39m\u001b[39m.\u001b[39mexog \u001b[39m=\u001b[39m \u001b[39mself\u001b[39m\u001b[39m.\u001b[39mdata\u001b[39m.\u001b[39mexog\n",
      "File \u001b[0;32m/Library/Frameworks/Python.framework/Versions/3.11/lib/python3.11/site-packages/statsmodels/base/model.py:135\u001b[0m, in \u001b[0;36mModel._handle_data\u001b[0;34m(self, endog, exog, missing, hasconst, **kwargs)\u001b[0m\n\u001b[1;32m    134\u001b[0m \u001b[39mdef\u001b[39;00m \u001b[39m_handle_data\u001b[39m(\u001b[39mself\u001b[39m, endog, exog, missing, hasconst, \u001b[39m*\u001b[39m\u001b[39m*\u001b[39mkwargs):\n\u001b[0;32m--> 135\u001b[0m     data \u001b[39m=\u001b[39m handle_data(endog, exog, missing, hasconst, \u001b[39m*\u001b[39;49m\u001b[39m*\u001b[39;49mkwargs)\n\u001b[1;32m    136\u001b[0m     \u001b[39m# kwargs arrays could have changed, easier to just attach here\u001b[39;00m\n\u001b[1;32m    137\u001b[0m     \u001b[39mfor\u001b[39;00m key \u001b[39min\u001b[39;00m kwargs:\n",
      "File \u001b[0;32m/Library/Frameworks/Python.framework/Versions/3.11/lib/python3.11/site-packages/statsmodels/base/data.py:675\u001b[0m, in \u001b[0;36mhandle_data\u001b[0;34m(endog, exog, missing, hasconst, **kwargs)\u001b[0m\n\u001b[1;32m    672\u001b[0m     exog \u001b[39m=\u001b[39m np\u001b[39m.\u001b[39masarray(exog)\n\u001b[1;32m    674\u001b[0m klass \u001b[39m=\u001b[39m handle_data_class_factory(endog, exog)\n\u001b[0;32m--> 675\u001b[0m \u001b[39mreturn\u001b[39;00m klass(endog, exog\u001b[39m=\u001b[39;49mexog, missing\u001b[39m=\u001b[39;49mmissing, hasconst\u001b[39m=\u001b[39;49mhasconst,\n\u001b[1;32m    676\u001b[0m              \u001b[39m*\u001b[39;49m\u001b[39m*\u001b[39;49mkwargs)\n",
      "File \u001b[0;32m/Library/Frameworks/Python.framework/Versions/3.11/lib/python3.11/site-packages/statsmodels/base/data.py:84\u001b[0m, in \u001b[0;36mModelData.__init__\u001b[0;34m(self, endog, exog, missing, hasconst, **kwargs)\u001b[0m\n\u001b[1;32m     82\u001b[0m     \u001b[39mself\u001b[39m\u001b[39m.\u001b[39morig_endog \u001b[39m=\u001b[39m endog\n\u001b[1;32m     83\u001b[0m     \u001b[39mself\u001b[39m\u001b[39m.\u001b[39morig_exog \u001b[39m=\u001b[39m exog\n\u001b[0;32m---> 84\u001b[0m     \u001b[39mself\u001b[39m\u001b[39m.\u001b[39mendog, \u001b[39mself\u001b[39m\u001b[39m.\u001b[39mexog \u001b[39m=\u001b[39m \u001b[39mself\u001b[39;49m\u001b[39m.\u001b[39;49m_convert_endog_exog(endog, exog)\n\u001b[1;32m     86\u001b[0m \u001b[39mself\u001b[39m\u001b[39m.\u001b[39mconst_idx \u001b[39m=\u001b[39m \u001b[39mNone\u001b[39;00m\n\u001b[1;32m     87\u001b[0m \u001b[39mself\u001b[39m\u001b[39m.\u001b[39mk_constant \u001b[39m=\u001b[39m \u001b[39m0\u001b[39m\n",
      "File \u001b[0;32m/Library/Frameworks/Python.framework/Versions/3.11/lib/python3.11/site-packages/statsmodels/base/data.py:509\u001b[0m, in \u001b[0;36mPandasData._convert_endog_exog\u001b[0;34m(self, endog, exog)\u001b[0m\n\u001b[1;32m    507\u001b[0m exog \u001b[39m=\u001b[39m exog \u001b[39mif\u001b[39;00m exog \u001b[39mis\u001b[39;00m \u001b[39mNone\u001b[39;00m \u001b[39melse\u001b[39;00m np\u001b[39m.\u001b[39masarray(exog)\n\u001b[1;32m    508\u001b[0m \u001b[39mif\u001b[39;00m endog\u001b[39m.\u001b[39mdtype \u001b[39m==\u001b[39m \u001b[39mobject\u001b[39m \u001b[39mor\u001b[39;00m exog \u001b[39mis\u001b[39;00m \u001b[39mnot\u001b[39;00m \u001b[39mNone\u001b[39;00m \u001b[39mand\u001b[39;00m exog\u001b[39m.\u001b[39mdtype \u001b[39m==\u001b[39m \u001b[39mobject\u001b[39m:\n\u001b[0;32m--> 509\u001b[0m     \u001b[39mraise\u001b[39;00m \u001b[39mValueError\u001b[39;00m(\u001b[39m\"\u001b[39m\u001b[39mPandas data cast to numpy dtype of object. \u001b[39m\u001b[39m\"\u001b[39m\n\u001b[1;32m    510\u001b[0m                      \u001b[39m\"\u001b[39m\u001b[39mCheck input data with np.asarray(data).\u001b[39m\u001b[39m\"\u001b[39m)\n\u001b[1;32m    511\u001b[0m \u001b[39mreturn\u001b[39;00m \u001b[39msuper\u001b[39m(PandasData, \u001b[39mself\u001b[39m)\u001b[39m.\u001b[39m_convert_endog_exog(endog, exog)\n",
      "\u001b[0;31mValueError\u001b[0m: Pandas data cast to numpy dtype of object. Check input data with np.asarray(data)."
     ]
    }
   ],
   "source": [
    "# Definir las variables independientes y la variable objetivo\n",
    "X_train = train_data.drop(['LluviaMan'], axis=1)  # Elimina las variables objetivo\n",
    "y_train = train_data['LluviaMan']\n",
    "\n",
    "# Agregar una constante a los predictores\n",
    "X_train_const = sm.add_constant(X_train)\n",
    "\n",
    "# Crear y ajustar el modelo stepwise utilizando forward y backward\n",
    "logreg_model_stepwise = sm.Logit(y_train, X_train_const).fit(method='bfgs')\n",
    "\n",
    "# Obtener el resumen del modelo\n",
    "print(logreg_model_stepwise.summary())"
   ]
  },
  {
   "cell_type": "code",
   "execution_count": null,
   "metadata": {},
   "outputs": [
    {
     "data": {
      "text/plain": [
       "array([[ 7.6, 19.3,  0. , ...,  0. ,  1. ,  0. ],\n",
       "       [ 6.8, 19.5,  0. , ...,  0. ,  1. ,  0. ],\n",
       "       [ 5.5, 13.9,  0. , ...,  0. ,  0. ,  0. ],\n",
       "       ...,\n",
       "       [13.7, 23.4,  3.6, ...,  1. ,  0. ,  3. ],\n",
       "       [14. , 26.9,  3.6, ...,  1. ,  0. ,  3. ],\n",
       "       [ 8. , 24.3,  0. , ...,  1. ,  0. ,  3. ]])"
      ]
     },
     "execution_count": 219,
     "metadata": {},
     "output_type": "execute_result"
    }
   ],
   "source": [
    "np.asarray(lluvias)"
   ]
  },
  {
   "cell_type": "code",
   "execution_count": null,
   "metadata": {},
   "outputs": [
    {
     "name": "stdout",
     "output_type": "stream",
     "text": [
      "<class 'pandas.core.frame.DataFrame'>\n",
      "RangeIndex: 56420 entries, 0 to 56419\n",
      "Data columns (total 20 columns):\n",
      " #   Column       Non-Null Count  Dtype  \n",
      "---  ------       --------------  -----  \n",
      " 0   MinTemp      56420 non-null  float64\n",
      " 1   MaxTemp      56420 non-null  float64\n",
      " 2   Lluvia       56420 non-null  float64\n",
      " 3   Evaporacion  56420 non-null  float64\n",
      " 4   Sol          56420 non-null  float64\n",
      " 5   VelRafaga    56420 non-null  float64\n",
      " 6   Vel9am       56420 non-null  float64\n",
      " 7   Vel3pm       56420 non-null  float64\n",
      " 8   Hum9am       56420 non-null  float64\n",
      " 9   Hum3pm       56420 non-null  float64\n",
      " 10  Pres9am      56420 non-null  float64\n",
      " 11  Pre3pm       56420 non-null  float64\n",
      " 12  Nub9am       56420 non-null  float64\n",
      " 13  Nub3pm       56420 non-null  float64\n",
      " 14  Temp9am      56420 non-null  float64\n",
      " 15  Temp3pm      56420 non-null  float64\n",
      " 16  LluviaHoy    56420 non-null  int64  \n",
      " 17  LluviaMan    56420 non-null  int64  \n",
      " 18  Koppen       56420 non-null  int64  \n",
      " 19  Estacion     56420 non-null  int64  \n",
      "dtypes: float64(16), int64(4)\n",
      "memory usage: 8.6 MB\n"
     ]
    }
   ],
   "source": [
    "lluvias.info()"
   ]
  },
  {
   "cell_type": "code",
   "execution_count": null,
   "metadata": {},
   "outputs": [
    {
     "data": {
      "text/plain": [
       "MinTemp        0\n",
       "MaxTemp        0\n",
       "Lluvia         0\n",
       "Evaporacion    0\n",
       "Sol            0\n",
       "VelRafaga      0\n",
       "Vel9am         0\n",
       "Vel3pm         0\n",
       "Hum9am         0\n",
       "Hum3pm         0\n",
       "Pres9am        0\n",
       "Pre3pm         0\n",
       "Nub9am         0\n",
       "Nub3pm         0\n",
       "Temp9am        0\n",
       "Temp3pm        0\n",
       "LluviaHoy      0\n",
       "LluviaMan      0\n",
       "Koppen         0\n",
       "Estacion       0\n",
       "dtype: int64"
      ]
     },
     "execution_count": 222,
     "metadata": {},
     "output_type": "execute_result"
    }
   ],
   "source": [
    "# Ver datos vacios de lluvias\n",
    "lluviastotal = lluvias.isnull().sum()\n",
    "lluviastotal"
   ]
  },
  {
   "cell_type": "code",
   "execution_count": null,
   "metadata": {},
   "outputs": [
    {
     "data": {
      "text/html": [
       "<div>\n",
       "<style scoped>\n",
       "    .dataframe tbody tr th:only-of-type {\n",
       "        vertical-align: middle;\n",
       "    }\n",
       "\n",
       "    .dataframe tbody tr th {\n",
       "        vertical-align: top;\n",
       "    }\n",
       "\n",
       "    .dataframe thead th {\n",
       "        text-align: right;\n",
       "    }\n",
       "</style>\n",
       "<table border=\"1\" class=\"dataframe\">\n",
       "  <thead>\n",
       "    <tr style=\"text-align: right;\">\n",
       "      <th></th>\n",
       "      <th>MinTemp</th>\n",
       "      <th>MaxTemp</th>\n",
       "      <th>Lluvia</th>\n",
       "      <th>Evaporacion</th>\n",
       "      <th>Sol</th>\n",
       "      <th>VelRafaga</th>\n",
       "      <th>Vel9am</th>\n",
       "      <th>Vel3pm</th>\n",
       "      <th>Hum9am</th>\n",
       "      <th>Hum3pm</th>\n",
       "      <th>Pres9am</th>\n",
       "      <th>Pre3pm</th>\n",
       "      <th>Nub9am</th>\n",
       "      <th>Nub3pm</th>\n",
       "      <th>Temp9am</th>\n",
       "      <th>Temp3pm</th>\n",
       "      <th>LluviaHoy</th>\n",
       "      <th>LluviaMan</th>\n",
       "      <th>Koppen</th>\n",
       "      <th>Estacion</th>\n",
       "    </tr>\n",
       "  </thead>\n",
       "  <tbody>\n",
       "    <tr>\n",
       "      <th>0</th>\n",
       "      <td>7.6</td>\n",
       "      <td>19.3</td>\n",
       "      <td>0.0</td>\n",
       "      <td>3.4</td>\n",
       "      <td>9.4</td>\n",
       "      <td>35.0</td>\n",
       "      <td>13.0</td>\n",
       "      <td>13.0</td>\n",
       "      <td>73.0</td>\n",
       "      <td>32.0</td>\n",
       "      <td>1018.6</td>\n",
       "      <td>1015.4</td>\n",
       "      <td>1.0</td>\n",
       "      <td>1.0</td>\n",
       "      <td>9.4</td>\n",
       "      <td>18.8</td>\n",
       "      <td>0.0</td>\n",
       "      <td>0.0</td>\n",
       "      <td>1.0</td>\n",
       "      <td>0.0</td>\n",
       "    </tr>\n",
       "    <tr>\n",
       "      <th>1</th>\n",
       "      <td>6.8</td>\n",
       "      <td>19.5</td>\n",
       "      <td>0.0</td>\n",
       "      <td>3.4</td>\n",
       "      <td>9.4</td>\n",
       "      <td>46.0</td>\n",
       "      <td>19.0</td>\n",
       "      <td>28.0</td>\n",
       "      <td>67.0</td>\n",
       "      <td>42.0</td>\n",
       "      <td>1018.4</td>\n",
       "      <td>1015.2</td>\n",
       "      <td>1.0</td>\n",
       "      <td>1.0</td>\n",
       "      <td>11.9</td>\n",
       "      <td>17.9</td>\n",
       "      <td>0.0</td>\n",
       "      <td>0.0</td>\n",
       "      <td>1.0</td>\n",
       "      <td>0.0</td>\n",
       "    </tr>\n",
       "    <tr>\n",
       "      <th>2</th>\n",
       "      <td>5.5</td>\n",
       "      <td>13.9</td>\n",
       "      <td>0.0</td>\n",
       "      <td>2.8</td>\n",
       "      <td>3.8</td>\n",
       "      <td>44.0</td>\n",
       "      <td>26.0</td>\n",
       "      <td>13.0</td>\n",
       "      <td>72.0</td>\n",
       "      <td>58.0</td>\n",
       "      <td>1017.8</td>\n",
       "      <td>1015.5</td>\n",
       "      <td>7.0</td>\n",
       "      <td>7.0</td>\n",
       "      <td>8.1</td>\n",
       "      <td>12.2</td>\n",
       "      <td>0.0</td>\n",
       "      <td>0.0</td>\n",
       "      <td>0.0</td>\n",
       "      <td>0.0</td>\n",
       "    </tr>\n",
       "    <tr>\n",
       "      <th>3</th>\n",
       "      <td>8.6</td>\n",
       "      <td>14.3</td>\n",
       "      <td>0.0</td>\n",
       "      <td>2.8</td>\n",
       "      <td>3.8</td>\n",
       "      <td>35.0</td>\n",
       "      <td>13.0</td>\n",
       "      <td>17.0</td>\n",
       "      <td>67.0</td>\n",
       "      <td>56.0</td>\n",
       "      <td>1017.4</td>\n",
       "      <td>1015.0</td>\n",
       "      <td>7.0</td>\n",
       "      <td>7.0</td>\n",
       "      <td>9.3</td>\n",
       "      <td>13.4</td>\n",
       "      <td>0.0</td>\n",
       "      <td>1.0</td>\n",
       "      <td>0.0</td>\n",
       "      <td>0.0</td>\n",
       "    </tr>\n",
       "    <tr>\n",
       "      <th>4</th>\n",
       "      <td>7.9</td>\n",
       "      <td>13.0</td>\n",
       "      <td>0.0</td>\n",
       "      <td>2.8</td>\n",
       "      <td>3.8</td>\n",
       "      <td>39.0</td>\n",
       "      <td>15.0</td>\n",
       "      <td>17.0</td>\n",
       "      <td>68.0</td>\n",
       "      <td>69.0</td>\n",
       "      <td>1017.6</td>\n",
       "      <td>1015.3</td>\n",
       "      <td>7.0</td>\n",
       "      <td>7.0</td>\n",
       "      <td>9.0</td>\n",
       "      <td>11.7</td>\n",
       "      <td>0.0</td>\n",
       "      <td>0.0</td>\n",
       "      <td>0.0</td>\n",
       "      <td>0.0</td>\n",
       "    </tr>\n",
       "    <tr>\n",
       "      <th>...</th>\n",
       "      <td>...</td>\n",
       "      <td>...</td>\n",
       "      <td>...</td>\n",
       "      <td>...</td>\n",
       "      <td>...</td>\n",
       "      <td>...</td>\n",
       "      <td>...</td>\n",
       "      <td>...</td>\n",
       "      <td>...</td>\n",
       "      <td>...</td>\n",
       "      <td>...</td>\n",
       "      <td>...</td>\n",
       "      <td>...</td>\n",
       "      <td>...</td>\n",
       "      <td>...</td>\n",
       "      <td>...</td>\n",
       "      <td>...</td>\n",
       "      <td>...</td>\n",
       "      <td>...</td>\n",
       "      <td>...</td>\n",
       "    </tr>\n",
       "    <tr>\n",
       "      <th>56415</th>\n",
       "      <td>7.6</td>\n",
       "      <td>16.1</td>\n",
       "      <td>2.8</td>\n",
       "      <td>5.6</td>\n",
       "      <td>10.6</td>\n",
       "      <td>50.0</td>\n",
       "      <td>20.0</td>\n",
       "      <td>28.0</td>\n",
       "      <td>68.0</td>\n",
       "      <td>49.0</td>\n",
       "      <td>1018.3</td>\n",
       "      <td>1018.5</td>\n",
       "      <td>7.0</td>\n",
       "      <td>7.0</td>\n",
       "      <td>11.1</td>\n",
       "      <td>15.4</td>\n",
       "      <td>1.0</td>\n",
       "      <td>0.0</td>\n",
       "      <td>0.0</td>\n",
       "      <td>3.0</td>\n",
       "    </tr>\n",
       "    <tr>\n",
       "      <th>56416</th>\n",
       "      <td>13.3</td>\n",
       "      <td>15.5</td>\n",
       "      <td>39.8</td>\n",
       "      <td>7.2</td>\n",
       "      <td>9.1</td>\n",
       "      <td>54.0</td>\n",
       "      <td>30.0</td>\n",
       "      <td>24.0</td>\n",
       "      <td>62.0</td>\n",
       "      <td>56.0</td>\n",
       "      <td>1005.5</td>\n",
       "      <td>1007.0</td>\n",
       "      <td>2.0</td>\n",
       "      <td>7.0</td>\n",
       "      <td>13.5</td>\n",
       "      <td>14.1</td>\n",
       "      <td>1.0</td>\n",
       "      <td>1.0</td>\n",
       "      <td>0.0</td>\n",
       "      <td>3.0</td>\n",
       "    </tr>\n",
       "    <tr>\n",
       "      <th>56417</th>\n",
       "      <td>13.7</td>\n",
       "      <td>23.4</td>\n",
       "      <td>3.6</td>\n",
       "      <td>5.8</td>\n",
       "      <td>3.3</td>\n",
       "      <td>85.0</td>\n",
       "      <td>6.0</td>\n",
       "      <td>6.0</td>\n",
       "      <td>82.0</td>\n",
       "      <td>69.0</td>\n",
       "      <td>1009.5</td>\n",
       "      <td>1007.2</td>\n",
       "      <td>8.0</td>\n",
       "      <td>7.0</td>\n",
       "      <td>15.4</td>\n",
       "      <td>20.2</td>\n",
       "      <td>1.0</td>\n",
       "      <td>1.0</td>\n",
       "      <td>0.0</td>\n",
       "      <td>3.0</td>\n",
       "    </tr>\n",
       "    <tr>\n",
       "      <th>56418</th>\n",
       "      <td>14.0</td>\n",
       "      <td>26.9</td>\n",
       "      <td>3.6</td>\n",
       "      <td>4.4</td>\n",
       "      <td>9.7</td>\n",
       "      <td>39.0</td>\n",
       "      <td>4.0</td>\n",
       "      <td>17.0</td>\n",
       "      <td>80.0</td>\n",
       "      <td>36.0</td>\n",
       "      <td>1012.4</td>\n",
       "      <td>1008.4</td>\n",
       "      <td>5.0</td>\n",
       "      <td>3.0</td>\n",
       "      <td>17.5</td>\n",
       "      <td>25.7</td>\n",
       "      <td>1.0</td>\n",
       "      <td>1.0</td>\n",
       "      <td>0.0</td>\n",
       "      <td>3.0</td>\n",
       "    </tr>\n",
       "    <tr>\n",
       "      <th>56419</th>\n",
       "      <td>8.0</td>\n",
       "      <td>24.3</td>\n",
       "      <td>0.0</td>\n",
       "      <td>3.4</td>\n",
       "      <td>6.3</td>\n",
       "      <td>30.0</td>\n",
       "      <td>6.0</td>\n",
       "      <td>20.0</td>\n",
       "      <td>68.0</td>\n",
       "      <td>29.0</td>\n",
       "      <td>1019.7</td>\n",
       "      <td>1015.0</td>\n",
       "      <td>7.0</td>\n",
       "      <td>7.0</td>\n",
       "      <td>14.4</td>\n",
       "      <td>23.6</td>\n",
       "      <td>0.0</td>\n",
       "      <td>1.0</td>\n",
       "      <td>0.0</td>\n",
       "      <td>3.0</td>\n",
       "    </tr>\n",
       "  </tbody>\n",
       "</table>\n",
       "<p>56420 rows × 20 columns</p>\n",
       "</div>"
      ],
      "text/plain": [
       "       MinTemp  MaxTemp  Lluvia  Evaporacion   Sol  VelRafaga  Vel9am  Vel3pm  \\\n",
       "0          7.6     19.3     0.0          3.4   9.4       35.0    13.0    13.0   \n",
       "1          6.8     19.5     0.0          3.4   9.4       46.0    19.0    28.0   \n",
       "2          5.5     13.9     0.0          2.8   3.8       44.0    26.0    13.0   \n",
       "3          8.6     14.3     0.0          2.8   3.8       35.0    13.0    17.0   \n",
       "4          7.9     13.0     0.0          2.8   3.8       39.0    15.0    17.0   \n",
       "...        ...      ...     ...          ...   ...        ...     ...     ...   \n",
       "56415      7.6     16.1     2.8          5.6  10.6       50.0    20.0    28.0   \n",
       "56416     13.3     15.5    39.8          7.2   9.1       54.0    30.0    24.0   \n",
       "56417     13.7     23.4     3.6          5.8   3.3       85.0     6.0     6.0   \n",
       "56418     14.0     26.9     3.6          4.4   9.7       39.0     4.0    17.0   \n",
       "56419      8.0     24.3     0.0          3.4   6.3       30.0     6.0    20.0   \n",
       "\n",
       "       Hum9am  Hum3pm  Pres9am  Pre3pm  Nub9am  Nub3pm  Temp9am  Temp3pm  \\\n",
       "0        73.0    32.0   1018.6  1015.4     1.0     1.0      9.4     18.8   \n",
       "1        67.0    42.0   1018.4  1015.2     1.0     1.0     11.9     17.9   \n",
       "2        72.0    58.0   1017.8  1015.5     7.0     7.0      8.1     12.2   \n",
       "3        67.0    56.0   1017.4  1015.0     7.0     7.0      9.3     13.4   \n",
       "4        68.0    69.0   1017.6  1015.3     7.0     7.0      9.0     11.7   \n",
       "...       ...     ...      ...     ...     ...     ...      ...      ...   \n",
       "56415    68.0    49.0   1018.3  1018.5     7.0     7.0     11.1     15.4   \n",
       "56416    62.0    56.0   1005.5  1007.0     2.0     7.0     13.5     14.1   \n",
       "56417    82.0    69.0   1009.5  1007.2     8.0     7.0     15.4     20.2   \n",
       "56418    80.0    36.0   1012.4  1008.4     5.0     3.0     17.5     25.7   \n",
       "56419    68.0    29.0   1019.7  1015.0     7.0     7.0     14.4     23.6   \n",
       "\n",
       "       LluviaHoy  LluviaMan  Koppen  Estacion  \n",
       "0            0.0        0.0     1.0       0.0  \n",
       "1            0.0        0.0     1.0       0.0  \n",
       "2            0.0        0.0     0.0       0.0  \n",
       "3            0.0        1.0     0.0       0.0  \n",
       "4            0.0        0.0     0.0       0.0  \n",
       "...          ...        ...     ...       ...  \n",
       "56415        1.0        0.0     0.0       3.0  \n",
       "56416        1.0        1.0     0.0       3.0  \n",
       "56417        1.0        1.0     0.0       3.0  \n",
       "56418        1.0        1.0     0.0       3.0  \n",
       "56419        0.0        1.0     0.0       3.0  \n",
       "\n",
       "[56420 rows x 20 columns]"
      ]
     },
     "execution_count": 223,
     "metadata": {},
     "output_type": "execute_result"
    }
   ],
   "source": [
    "lluvias.astype('float64')"
   ]
  },
  {
   "cell_type": "code",
   "execution_count": 65,
   "metadata": {},
   "outputs": [
    {
     "ename": "ValueError",
     "evalue": "Pandas data cast to numpy dtype of object. Check input data with np.asarray(data).",
     "output_type": "error",
     "traceback": [
      "\u001b[0;31m---------------------------------------------------------------------------\u001b[0m",
      "\u001b[0;31mValueError\u001b[0m                                Traceback (most recent call last)",
      "Cell \u001b[0;32mIn[65], line 9\u001b[0m\n\u001b[1;32m      6\u001b[0m X_train_const \u001b[39m=\u001b[39m sm\u001b[39m.\u001b[39madd_constant(X_train)\n\u001b[1;32m      8\u001b[0m \u001b[39m# Crear y ajustar el modelo stepwise utilizando forward y backward\u001b[39;00m\n\u001b[0;32m----> 9\u001b[0m logreg_model_stepwise \u001b[39m=\u001b[39m sm\u001b[39m.\u001b[39;49mLogit(y_train, X_train_const)\u001b[39m.\u001b[39mfit(method\u001b[39m=\u001b[39m\u001b[39m'\u001b[39m\u001b[39mbfgs\u001b[39m\u001b[39m'\u001b[39m)\n\u001b[1;32m     11\u001b[0m \u001b[39m# Obtener el resumen del modelo\u001b[39;00m\n\u001b[1;32m     12\u001b[0m \u001b[39mprint\u001b[39m(logreg_model_stepwise\u001b[39m.\u001b[39msummary())\n",
      "File \u001b[0;32m/Library/Frameworks/Python.framework/Versions/3.11/lib/python3.11/site-packages/statsmodels/discrete/discrete_model.py:475\u001b[0m, in \u001b[0;36mBinaryModel.__init__\u001b[0;34m(self, endog, exog, offset, check_rank, **kwargs)\u001b[0m\n\u001b[1;32m    472\u001b[0m \u001b[39mdef\u001b[39;00m \u001b[39m__init__\u001b[39m(\u001b[39mself\u001b[39m, endog, exog, offset\u001b[39m=\u001b[39m\u001b[39mNone\u001b[39;00m, check_rank\u001b[39m=\u001b[39m\u001b[39mTrue\u001b[39;00m, \u001b[39m*\u001b[39m\u001b[39m*\u001b[39mkwargs):\n\u001b[1;32m    473\u001b[0m     \u001b[39m# unconditional check, requires no extra kwargs added by subclasses\u001b[39;00m\n\u001b[1;32m    474\u001b[0m     \u001b[39mself\u001b[39m\u001b[39m.\u001b[39m_check_kwargs(kwargs)\n\u001b[0;32m--> 475\u001b[0m     \u001b[39msuper\u001b[39;49m()\u001b[39m.\u001b[39;49m\u001b[39m__init__\u001b[39;49m(endog, exog, offset\u001b[39m=\u001b[39;49moffset, check_rank\u001b[39m=\u001b[39;49mcheck_rank,\n\u001b[1;32m    476\u001b[0m                      \u001b[39m*\u001b[39;49m\u001b[39m*\u001b[39;49mkwargs)\n\u001b[1;32m    477\u001b[0m     \u001b[39mif\u001b[39;00m \u001b[39mnot\u001b[39;00m \u001b[39missubclass\u001b[39m(\u001b[39mself\u001b[39m\u001b[39m.\u001b[39m\u001b[39m__class__\u001b[39m, MultinomialModel):\n\u001b[1;32m    478\u001b[0m         \u001b[39mif\u001b[39;00m \u001b[39mnot\u001b[39;00m np\u001b[39m.\u001b[39mall((\u001b[39mself\u001b[39m\u001b[39m.\u001b[39mendog \u001b[39m>\u001b[39m\u001b[39m=\u001b[39m \u001b[39m0\u001b[39m) \u001b[39m&\u001b[39m (\u001b[39mself\u001b[39m\u001b[39m.\u001b[39mendog \u001b[39m<\u001b[39m\u001b[39m=\u001b[39m \u001b[39m1\u001b[39m)):\n",
      "File \u001b[0;32m/Library/Frameworks/Python.framework/Versions/3.11/lib/python3.11/site-packages/statsmodels/discrete/discrete_model.py:185\u001b[0m, in \u001b[0;36mDiscreteModel.__init__\u001b[0;34m(self, endog, exog, check_rank, **kwargs)\u001b[0m\n\u001b[1;32m    183\u001b[0m \u001b[39mdef\u001b[39;00m \u001b[39m__init__\u001b[39m(\u001b[39mself\u001b[39m, endog, exog, check_rank\u001b[39m=\u001b[39m\u001b[39mTrue\u001b[39;00m, \u001b[39m*\u001b[39m\u001b[39m*\u001b[39mkwargs):\n\u001b[1;32m    184\u001b[0m     \u001b[39mself\u001b[39m\u001b[39m.\u001b[39m_check_rank \u001b[39m=\u001b[39m check_rank\n\u001b[0;32m--> 185\u001b[0m     \u001b[39msuper\u001b[39;49m()\u001b[39m.\u001b[39;49m\u001b[39m__init__\u001b[39;49m(endog, exog, \u001b[39m*\u001b[39;49m\u001b[39m*\u001b[39;49mkwargs)\n\u001b[1;32m    186\u001b[0m     \u001b[39mself\u001b[39m\u001b[39m.\u001b[39mraise_on_perfect_prediction \u001b[39m=\u001b[39m \u001b[39mFalse\u001b[39;00m  \u001b[39m# keep for backwards compat\u001b[39;00m\n\u001b[1;32m    187\u001b[0m     \u001b[39mself\u001b[39m\u001b[39m.\u001b[39mk_extra \u001b[39m=\u001b[39m \u001b[39m0\u001b[39m\n",
      "File \u001b[0;32m/Library/Frameworks/Python.framework/Versions/3.11/lib/python3.11/site-packages/statsmodels/base/model.py:270\u001b[0m, in \u001b[0;36mLikelihoodModel.__init__\u001b[0;34m(self, endog, exog, **kwargs)\u001b[0m\n\u001b[1;32m    269\u001b[0m \u001b[39mdef\u001b[39;00m \u001b[39m__init__\u001b[39m(\u001b[39mself\u001b[39m, endog, exog\u001b[39m=\u001b[39m\u001b[39mNone\u001b[39;00m, \u001b[39m*\u001b[39m\u001b[39m*\u001b[39mkwargs):\n\u001b[0;32m--> 270\u001b[0m     \u001b[39msuper\u001b[39;49m()\u001b[39m.\u001b[39;49m\u001b[39m__init__\u001b[39;49m(endog, exog, \u001b[39m*\u001b[39;49m\u001b[39m*\u001b[39;49mkwargs)\n\u001b[1;32m    271\u001b[0m     \u001b[39mself\u001b[39m\u001b[39m.\u001b[39minitialize()\n",
      "File \u001b[0;32m/Library/Frameworks/Python.framework/Versions/3.11/lib/python3.11/site-packages/statsmodels/base/model.py:95\u001b[0m, in \u001b[0;36mModel.__init__\u001b[0;34m(self, endog, exog, **kwargs)\u001b[0m\n\u001b[1;32m     93\u001b[0m missing \u001b[39m=\u001b[39m kwargs\u001b[39m.\u001b[39mpop(\u001b[39m'\u001b[39m\u001b[39mmissing\u001b[39m\u001b[39m'\u001b[39m, \u001b[39m'\u001b[39m\u001b[39mnone\u001b[39m\u001b[39m'\u001b[39m)\n\u001b[1;32m     94\u001b[0m hasconst \u001b[39m=\u001b[39m kwargs\u001b[39m.\u001b[39mpop(\u001b[39m'\u001b[39m\u001b[39mhasconst\u001b[39m\u001b[39m'\u001b[39m, \u001b[39mNone\u001b[39;00m)\n\u001b[0;32m---> 95\u001b[0m \u001b[39mself\u001b[39m\u001b[39m.\u001b[39mdata \u001b[39m=\u001b[39m \u001b[39mself\u001b[39;49m\u001b[39m.\u001b[39;49m_handle_data(endog, exog, missing, hasconst,\n\u001b[1;32m     96\u001b[0m                               \u001b[39m*\u001b[39;49m\u001b[39m*\u001b[39;49mkwargs)\n\u001b[1;32m     97\u001b[0m \u001b[39mself\u001b[39m\u001b[39m.\u001b[39mk_constant \u001b[39m=\u001b[39m \u001b[39mself\u001b[39m\u001b[39m.\u001b[39mdata\u001b[39m.\u001b[39mk_constant\n\u001b[1;32m     98\u001b[0m \u001b[39mself\u001b[39m\u001b[39m.\u001b[39mexog \u001b[39m=\u001b[39m \u001b[39mself\u001b[39m\u001b[39m.\u001b[39mdata\u001b[39m.\u001b[39mexog\n",
      "File \u001b[0;32m/Library/Frameworks/Python.framework/Versions/3.11/lib/python3.11/site-packages/statsmodels/base/model.py:135\u001b[0m, in \u001b[0;36mModel._handle_data\u001b[0;34m(self, endog, exog, missing, hasconst, **kwargs)\u001b[0m\n\u001b[1;32m    134\u001b[0m \u001b[39mdef\u001b[39;00m \u001b[39m_handle_data\u001b[39m(\u001b[39mself\u001b[39m, endog, exog, missing, hasconst, \u001b[39m*\u001b[39m\u001b[39m*\u001b[39mkwargs):\n\u001b[0;32m--> 135\u001b[0m     data \u001b[39m=\u001b[39m handle_data(endog, exog, missing, hasconst, \u001b[39m*\u001b[39;49m\u001b[39m*\u001b[39;49mkwargs)\n\u001b[1;32m    136\u001b[0m     \u001b[39m# kwargs arrays could have changed, easier to just attach here\u001b[39;00m\n\u001b[1;32m    137\u001b[0m     \u001b[39mfor\u001b[39;00m key \u001b[39min\u001b[39;00m kwargs:\n",
      "File \u001b[0;32m/Library/Frameworks/Python.framework/Versions/3.11/lib/python3.11/site-packages/statsmodels/base/data.py:675\u001b[0m, in \u001b[0;36mhandle_data\u001b[0;34m(endog, exog, missing, hasconst, **kwargs)\u001b[0m\n\u001b[1;32m    672\u001b[0m     exog \u001b[39m=\u001b[39m np\u001b[39m.\u001b[39masarray(exog)\n\u001b[1;32m    674\u001b[0m klass \u001b[39m=\u001b[39m handle_data_class_factory(endog, exog)\n\u001b[0;32m--> 675\u001b[0m \u001b[39mreturn\u001b[39;00m klass(endog, exog\u001b[39m=\u001b[39;49mexog, missing\u001b[39m=\u001b[39;49mmissing, hasconst\u001b[39m=\u001b[39;49mhasconst,\n\u001b[1;32m    676\u001b[0m              \u001b[39m*\u001b[39;49m\u001b[39m*\u001b[39;49mkwargs)\n",
      "File \u001b[0;32m/Library/Frameworks/Python.framework/Versions/3.11/lib/python3.11/site-packages/statsmodels/base/data.py:84\u001b[0m, in \u001b[0;36mModelData.__init__\u001b[0;34m(self, endog, exog, missing, hasconst, **kwargs)\u001b[0m\n\u001b[1;32m     82\u001b[0m     \u001b[39mself\u001b[39m\u001b[39m.\u001b[39morig_endog \u001b[39m=\u001b[39m endog\n\u001b[1;32m     83\u001b[0m     \u001b[39mself\u001b[39m\u001b[39m.\u001b[39morig_exog \u001b[39m=\u001b[39m exog\n\u001b[0;32m---> 84\u001b[0m     \u001b[39mself\u001b[39m\u001b[39m.\u001b[39mendog, \u001b[39mself\u001b[39m\u001b[39m.\u001b[39mexog \u001b[39m=\u001b[39m \u001b[39mself\u001b[39;49m\u001b[39m.\u001b[39;49m_convert_endog_exog(endog, exog)\n\u001b[1;32m     86\u001b[0m \u001b[39mself\u001b[39m\u001b[39m.\u001b[39mconst_idx \u001b[39m=\u001b[39m \u001b[39mNone\u001b[39;00m\n\u001b[1;32m     87\u001b[0m \u001b[39mself\u001b[39m\u001b[39m.\u001b[39mk_constant \u001b[39m=\u001b[39m \u001b[39m0\u001b[39m\n",
      "File \u001b[0;32m/Library/Frameworks/Python.framework/Versions/3.11/lib/python3.11/site-packages/statsmodels/base/data.py:509\u001b[0m, in \u001b[0;36mPandasData._convert_endog_exog\u001b[0;34m(self, endog, exog)\u001b[0m\n\u001b[1;32m    507\u001b[0m exog \u001b[39m=\u001b[39m exog \u001b[39mif\u001b[39;00m exog \u001b[39mis\u001b[39;00m \u001b[39mNone\u001b[39;00m \u001b[39melse\u001b[39;00m np\u001b[39m.\u001b[39masarray(exog)\n\u001b[1;32m    508\u001b[0m \u001b[39mif\u001b[39;00m endog\u001b[39m.\u001b[39mdtype \u001b[39m==\u001b[39m \u001b[39mobject\u001b[39m \u001b[39mor\u001b[39;00m exog \u001b[39mis\u001b[39;00m \u001b[39mnot\u001b[39;00m \u001b[39mNone\u001b[39;00m \u001b[39mand\u001b[39;00m exog\u001b[39m.\u001b[39mdtype \u001b[39m==\u001b[39m \u001b[39mobject\u001b[39m:\n\u001b[0;32m--> 509\u001b[0m     \u001b[39mraise\u001b[39;00m \u001b[39mValueError\u001b[39;00m(\u001b[39m\"\u001b[39m\u001b[39mPandas data cast to numpy dtype of object. \u001b[39m\u001b[39m\"\u001b[39m\n\u001b[1;32m    510\u001b[0m                      \u001b[39m\"\u001b[39m\u001b[39mCheck input data with np.asarray(data).\u001b[39m\u001b[39m\"\u001b[39m)\n\u001b[1;32m    511\u001b[0m \u001b[39mreturn\u001b[39;00m \u001b[39msuper\u001b[39m(PandasData, \u001b[39mself\u001b[39m)\u001b[39m.\u001b[39m_convert_endog_exog(endog, exog)\n",
      "\u001b[0;31mValueError\u001b[0m: Pandas data cast to numpy dtype of object. Check input data with np.asarray(data)."
     ]
    }
   ],
   "source": [
    "# Definir las variables independientes y la variable objetivo\n",
    "X_train = train_data.drop(['LluviaMan'], axis=1)  # Elimina las variables objetivo\n",
    "y_train = train_data['LluviaMan']\n",
    "\n",
    "# Agregar una constante a los predictores\n",
    "X_train_const = sm.add_constant(X_train)\n",
    "\n",
    "# Crear y ajustar el modelo stepwise utilizando forward y backward\n",
    "logreg_model_stepwise = sm.Logit(y_train, X_train_const).fit(method='bfgs')\n",
    "\n",
    "# Obtener el resumen del modelo\n",
    "print(logreg_model_stepwise.summary())"
   ]
  },
  {
   "cell_type": "code",
   "execution_count": null,
   "metadata": {},
   "outputs": [
    {
     "data": {
      "text/plain": [
       "array([[ 7.6, 19.3,  0. , ...,  0. ,  1. ,  0. ],\n",
       "       [ 6.8, 19.5,  0. , ...,  0. ,  1. ,  0. ],\n",
       "       [ 5.5, 13.9,  0. , ...,  0. ,  0. ,  0. ],\n",
       "       ...,\n",
       "       [13.7, 23.4,  3.6, ...,  1. ,  0. ,  3. ],\n",
       "       [14. , 26.9,  3.6, ...,  1. ,  0. ,  3. ],\n",
       "       [ 8. , 24.3,  0. , ...,  1. ,  0. ,  3. ]])"
      ]
     },
     "execution_count": 225,
     "metadata": {},
     "output_type": "execute_result"
    }
   ],
   "source": [
    "np.asarray(lluvias)"
   ]
  },
  {
   "cell_type": "code",
   "execution_count": 66,
   "metadata": {},
   "outputs": [],
   "source": [
    "for col in lluvias.columns:\n",
    "    lluvias[col] = pd.to_numeric(lluvias[col], errors='coerce')\n"
   ]
  },
  {
   "cell_type": "code",
   "execution_count": 67,
   "metadata": {},
   "outputs": [
    {
     "ename": "ValueError",
     "evalue": "Pandas data cast to numpy dtype of object. Check input data with np.asarray(data).",
     "output_type": "error",
     "traceback": [
      "\u001b[0;31m---------------------------------------------------------------------------\u001b[0m",
      "\u001b[0;31mValueError\u001b[0m                                Traceback (most recent call last)",
      "Cell \u001b[0;32mIn[67], line 9\u001b[0m\n\u001b[1;32m      6\u001b[0m X_train_const \u001b[39m=\u001b[39m sm\u001b[39m.\u001b[39madd_constant(X_train)\n\u001b[1;32m      8\u001b[0m \u001b[39m# Crear y ajustar el modelo stepwise utilizando forward y backward\u001b[39;00m\n\u001b[0;32m----> 9\u001b[0m logreg_model_stepwise \u001b[39m=\u001b[39m sm\u001b[39m.\u001b[39;49mLogit(y_train, X_train_const)\u001b[39m.\u001b[39mfit(method\u001b[39m=\u001b[39m\u001b[39m'\u001b[39m\u001b[39mbfgs\u001b[39m\u001b[39m'\u001b[39m)\n\u001b[1;32m     11\u001b[0m \u001b[39m# Obtener el resumen del modelo\u001b[39;00m\n\u001b[1;32m     12\u001b[0m \u001b[39mprint\u001b[39m(logreg_model_stepwise\u001b[39m.\u001b[39msummary())\n",
      "File \u001b[0;32m/Library/Frameworks/Python.framework/Versions/3.11/lib/python3.11/site-packages/statsmodels/discrete/discrete_model.py:475\u001b[0m, in \u001b[0;36mBinaryModel.__init__\u001b[0;34m(self, endog, exog, offset, check_rank, **kwargs)\u001b[0m\n\u001b[1;32m    472\u001b[0m \u001b[39mdef\u001b[39;00m \u001b[39m__init__\u001b[39m(\u001b[39mself\u001b[39m, endog, exog, offset\u001b[39m=\u001b[39m\u001b[39mNone\u001b[39;00m, check_rank\u001b[39m=\u001b[39m\u001b[39mTrue\u001b[39;00m, \u001b[39m*\u001b[39m\u001b[39m*\u001b[39mkwargs):\n\u001b[1;32m    473\u001b[0m     \u001b[39m# unconditional check, requires no extra kwargs added by subclasses\u001b[39;00m\n\u001b[1;32m    474\u001b[0m     \u001b[39mself\u001b[39m\u001b[39m.\u001b[39m_check_kwargs(kwargs)\n\u001b[0;32m--> 475\u001b[0m     \u001b[39msuper\u001b[39;49m()\u001b[39m.\u001b[39;49m\u001b[39m__init__\u001b[39;49m(endog, exog, offset\u001b[39m=\u001b[39;49moffset, check_rank\u001b[39m=\u001b[39;49mcheck_rank,\n\u001b[1;32m    476\u001b[0m                      \u001b[39m*\u001b[39;49m\u001b[39m*\u001b[39;49mkwargs)\n\u001b[1;32m    477\u001b[0m     \u001b[39mif\u001b[39;00m \u001b[39mnot\u001b[39;00m \u001b[39missubclass\u001b[39m(\u001b[39mself\u001b[39m\u001b[39m.\u001b[39m\u001b[39m__class__\u001b[39m, MultinomialModel):\n\u001b[1;32m    478\u001b[0m         \u001b[39mif\u001b[39;00m \u001b[39mnot\u001b[39;00m np\u001b[39m.\u001b[39mall((\u001b[39mself\u001b[39m\u001b[39m.\u001b[39mendog \u001b[39m>\u001b[39m\u001b[39m=\u001b[39m \u001b[39m0\u001b[39m) \u001b[39m&\u001b[39m (\u001b[39mself\u001b[39m\u001b[39m.\u001b[39mendog \u001b[39m<\u001b[39m\u001b[39m=\u001b[39m \u001b[39m1\u001b[39m)):\n",
      "File \u001b[0;32m/Library/Frameworks/Python.framework/Versions/3.11/lib/python3.11/site-packages/statsmodels/discrete/discrete_model.py:185\u001b[0m, in \u001b[0;36mDiscreteModel.__init__\u001b[0;34m(self, endog, exog, check_rank, **kwargs)\u001b[0m\n\u001b[1;32m    183\u001b[0m \u001b[39mdef\u001b[39;00m \u001b[39m__init__\u001b[39m(\u001b[39mself\u001b[39m, endog, exog, check_rank\u001b[39m=\u001b[39m\u001b[39mTrue\u001b[39;00m, \u001b[39m*\u001b[39m\u001b[39m*\u001b[39mkwargs):\n\u001b[1;32m    184\u001b[0m     \u001b[39mself\u001b[39m\u001b[39m.\u001b[39m_check_rank \u001b[39m=\u001b[39m check_rank\n\u001b[0;32m--> 185\u001b[0m     \u001b[39msuper\u001b[39;49m()\u001b[39m.\u001b[39;49m\u001b[39m__init__\u001b[39;49m(endog, exog, \u001b[39m*\u001b[39;49m\u001b[39m*\u001b[39;49mkwargs)\n\u001b[1;32m    186\u001b[0m     \u001b[39mself\u001b[39m\u001b[39m.\u001b[39mraise_on_perfect_prediction \u001b[39m=\u001b[39m \u001b[39mFalse\u001b[39;00m  \u001b[39m# keep for backwards compat\u001b[39;00m\n\u001b[1;32m    187\u001b[0m     \u001b[39mself\u001b[39m\u001b[39m.\u001b[39mk_extra \u001b[39m=\u001b[39m \u001b[39m0\u001b[39m\n",
      "File \u001b[0;32m/Library/Frameworks/Python.framework/Versions/3.11/lib/python3.11/site-packages/statsmodels/base/model.py:270\u001b[0m, in \u001b[0;36mLikelihoodModel.__init__\u001b[0;34m(self, endog, exog, **kwargs)\u001b[0m\n\u001b[1;32m    269\u001b[0m \u001b[39mdef\u001b[39;00m \u001b[39m__init__\u001b[39m(\u001b[39mself\u001b[39m, endog, exog\u001b[39m=\u001b[39m\u001b[39mNone\u001b[39;00m, \u001b[39m*\u001b[39m\u001b[39m*\u001b[39mkwargs):\n\u001b[0;32m--> 270\u001b[0m     \u001b[39msuper\u001b[39;49m()\u001b[39m.\u001b[39;49m\u001b[39m__init__\u001b[39;49m(endog, exog, \u001b[39m*\u001b[39;49m\u001b[39m*\u001b[39;49mkwargs)\n\u001b[1;32m    271\u001b[0m     \u001b[39mself\u001b[39m\u001b[39m.\u001b[39minitialize()\n",
      "File \u001b[0;32m/Library/Frameworks/Python.framework/Versions/3.11/lib/python3.11/site-packages/statsmodels/base/model.py:95\u001b[0m, in \u001b[0;36mModel.__init__\u001b[0;34m(self, endog, exog, **kwargs)\u001b[0m\n\u001b[1;32m     93\u001b[0m missing \u001b[39m=\u001b[39m kwargs\u001b[39m.\u001b[39mpop(\u001b[39m'\u001b[39m\u001b[39mmissing\u001b[39m\u001b[39m'\u001b[39m, \u001b[39m'\u001b[39m\u001b[39mnone\u001b[39m\u001b[39m'\u001b[39m)\n\u001b[1;32m     94\u001b[0m hasconst \u001b[39m=\u001b[39m kwargs\u001b[39m.\u001b[39mpop(\u001b[39m'\u001b[39m\u001b[39mhasconst\u001b[39m\u001b[39m'\u001b[39m, \u001b[39mNone\u001b[39;00m)\n\u001b[0;32m---> 95\u001b[0m \u001b[39mself\u001b[39m\u001b[39m.\u001b[39mdata \u001b[39m=\u001b[39m \u001b[39mself\u001b[39;49m\u001b[39m.\u001b[39;49m_handle_data(endog, exog, missing, hasconst,\n\u001b[1;32m     96\u001b[0m                               \u001b[39m*\u001b[39;49m\u001b[39m*\u001b[39;49mkwargs)\n\u001b[1;32m     97\u001b[0m \u001b[39mself\u001b[39m\u001b[39m.\u001b[39mk_constant \u001b[39m=\u001b[39m \u001b[39mself\u001b[39m\u001b[39m.\u001b[39mdata\u001b[39m.\u001b[39mk_constant\n\u001b[1;32m     98\u001b[0m \u001b[39mself\u001b[39m\u001b[39m.\u001b[39mexog \u001b[39m=\u001b[39m \u001b[39mself\u001b[39m\u001b[39m.\u001b[39mdata\u001b[39m.\u001b[39mexog\n",
      "File \u001b[0;32m/Library/Frameworks/Python.framework/Versions/3.11/lib/python3.11/site-packages/statsmodels/base/model.py:135\u001b[0m, in \u001b[0;36mModel._handle_data\u001b[0;34m(self, endog, exog, missing, hasconst, **kwargs)\u001b[0m\n\u001b[1;32m    134\u001b[0m \u001b[39mdef\u001b[39;00m \u001b[39m_handle_data\u001b[39m(\u001b[39mself\u001b[39m, endog, exog, missing, hasconst, \u001b[39m*\u001b[39m\u001b[39m*\u001b[39mkwargs):\n\u001b[0;32m--> 135\u001b[0m     data \u001b[39m=\u001b[39m handle_data(endog, exog, missing, hasconst, \u001b[39m*\u001b[39;49m\u001b[39m*\u001b[39;49mkwargs)\n\u001b[1;32m    136\u001b[0m     \u001b[39m# kwargs arrays could have changed, easier to just attach here\u001b[39;00m\n\u001b[1;32m    137\u001b[0m     \u001b[39mfor\u001b[39;00m key \u001b[39min\u001b[39;00m kwargs:\n",
      "File \u001b[0;32m/Library/Frameworks/Python.framework/Versions/3.11/lib/python3.11/site-packages/statsmodels/base/data.py:675\u001b[0m, in \u001b[0;36mhandle_data\u001b[0;34m(endog, exog, missing, hasconst, **kwargs)\u001b[0m\n\u001b[1;32m    672\u001b[0m     exog \u001b[39m=\u001b[39m np\u001b[39m.\u001b[39masarray(exog)\n\u001b[1;32m    674\u001b[0m klass \u001b[39m=\u001b[39m handle_data_class_factory(endog, exog)\n\u001b[0;32m--> 675\u001b[0m \u001b[39mreturn\u001b[39;00m klass(endog, exog\u001b[39m=\u001b[39;49mexog, missing\u001b[39m=\u001b[39;49mmissing, hasconst\u001b[39m=\u001b[39;49mhasconst,\n\u001b[1;32m    676\u001b[0m              \u001b[39m*\u001b[39;49m\u001b[39m*\u001b[39;49mkwargs)\n",
      "File \u001b[0;32m/Library/Frameworks/Python.framework/Versions/3.11/lib/python3.11/site-packages/statsmodels/base/data.py:84\u001b[0m, in \u001b[0;36mModelData.__init__\u001b[0;34m(self, endog, exog, missing, hasconst, **kwargs)\u001b[0m\n\u001b[1;32m     82\u001b[0m     \u001b[39mself\u001b[39m\u001b[39m.\u001b[39morig_endog \u001b[39m=\u001b[39m endog\n\u001b[1;32m     83\u001b[0m     \u001b[39mself\u001b[39m\u001b[39m.\u001b[39morig_exog \u001b[39m=\u001b[39m exog\n\u001b[0;32m---> 84\u001b[0m     \u001b[39mself\u001b[39m\u001b[39m.\u001b[39mendog, \u001b[39mself\u001b[39m\u001b[39m.\u001b[39mexog \u001b[39m=\u001b[39m \u001b[39mself\u001b[39;49m\u001b[39m.\u001b[39;49m_convert_endog_exog(endog, exog)\n\u001b[1;32m     86\u001b[0m \u001b[39mself\u001b[39m\u001b[39m.\u001b[39mconst_idx \u001b[39m=\u001b[39m \u001b[39mNone\u001b[39;00m\n\u001b[1;32m     87\u001b[0m \u001b[39mself\u001b[39m\u001b[39m.\u001b[39mk_constant \u001b[39m=\u001b[39m \u001b[39m0\u001b[39m\n",
      "File \u001b[0;32m/Library/Frameworks/Python.framework/Versions/3.11/lib/python3.11/site-packages/statsmodels/base/data.py:509\u001b[0m, in \u001b[0;36mPandasData._convert_endog_exog\u001b[0;34m(self, endog, exog)\u001b[0m\n\u001b[1;32m    507\u001b[0m exog \u001b[39m=\u001b[39m exog \u001b[39mif\u001b[39;00m exog \u001b[39mis\u001b[39;00m \u001b[39mNone\u001b[39;00m \u001b[39melse\u001b[39;00m np\u001b[39m.\u001b[39masarray(exog)\n\u001b[1;32m    508\u001b[0m \u001b[39mif\u001b[39;00m endog\u001b[39m.\u001b[39mdtype \u001b[39m==\u001b[39m \u001b[39mobject\u001b[39m \u001b[39mor\u001b[39;00m exog \u001b[39mis\u001b[39;00m \u001b[39mnot\u001b[39;00m \u001b[39mNone\u001b[39;00m \u001b[39mand\u001b[39;00m exog\u001b[39m.\u001b[39mdtype \u001b[39m==\u001b[39m \u001b[39mobject\u001b[39m:\n\u001b[0;32m--> 509\u001b[0m     \u001b[39mraise\u001b[39;00m \u001b[39mValueError\u001b[39;00m(\u001b[39m\"\u001b[39m\u001b[39mPandas data cast to numpy dtype of object. \u001b[39m\u001b[39m\"\u001b[39m\n\u001b[1;32m    510\u001b[0m                      \u001b[39m\"\u001b[39m\u001b[39mCheck input data with np.asarray(data).\u001b[39m\u001b[39m\"\u001b[39m)\n\u001b[1;32m    511\u001b[0m \u001b[39mreturn\u001b[39;00m \u001b[39msuper\u001b[39m(PandasData, \u001b[39mself\u001b[39m)\u001b[39m.\u001b[39m_convert_endog_exog(endog, exog)\n",
      "\u001b[0;31mValueError\u001b[0m: Pandas data cast to numpy dtype of object. Check input data with np.asarray(data)."
     ]
    }
   ],
   "source": [
    "# Definir las variables independientes y la variable objetivo\n",
    "X_train = train_data.drop(['LluviaMan'], axis=1)  # Elimina las variables objetivo\n",
    "y_train = train_data['LluviaMan']\n",
    "\n",
    "# Agregar una constante a los predictores\n",
    "X_train_const = sm.add_constant(X_train)\n",
    "\n",
    "# Crear y ajustar el modelo stepwise utilizando forward y backward\n",
    "logreg_model_stepwise = sm.Logit(y_train, X_train_const).fit(method='bfgs')\n",
    "\n",
    "# Obtener el resumen del modelo\n",
    "print(logreg_model_stepwise.summary())"
   ]
  },
  {
   "cell_type": "code",
   "execution_count": 68,
   "metadata": {},
   "outputs": [
    {
     "name": "stdout",
     "output_type": "stream",
     "text": [
      "Accuracy of logistic regression classifier on test set: 0.00\n",
      "Accuracy of logistic regression classifier on train set: 0.89\n"
     ]
    },
    {
     "name": "stderr",
     "output_type": "stream",
     "text": [
      "/Library/Frameworks/Python.framework/Versions/3.11/lib/python3.11/site-packages/sklearn/linear_model/_logistic.py:460: ConvergenceWarning: lbfgs failed to converge (status=1):\n",
      "STOP: TOTAL NO. of ITERATIONS REACHED LIMIT.\n",
      "\n",
      "Increase the number of iterations (max_iter) or scale the data as shown in:\n",
      "    https://scikit-learn.org/stable/modules/preprocessing.html\n",
      "Please also refer to the documentation for alternative solver options:\n",
      "    https://scikit-learn.org/stable/modules/linear_model.html#logistic-regression\n",
      "  n_iter_i = _check_optimize_result(\n"
     ]
    }
   ],
   "source": [
    "'''\n",
    "Utilizando un método automatizado, ajuste un modelo de regresión logística, utilizando la metodología de dirección both (forward y backward a la vez).\n",
    "'''\n",
    "X_train, X_test, y_train, y_test = train_test_split(X, y, test_size=0.2, random_state=42)\n",
    "logreg = LogisticRegression(max_iter=1000)\n",
    "logreg.fit(X_train, y_train)\n",
    "y_pred = logreg.predict(X_test)\n",
    "print('Accuracy of logistic regression classifier on test set: {:.2f}'.format(logreg.score(X_test, y_test)))\n",
    "print('Accuracy of logistic regression classifier on train set: {:.2f}'.format(logreg.score(X_train, y_train)))"
   ]
  },
  {
   "cell_type": "code",
   "execution_count": 71,
   "metadata": {},
   "outputs": [
    {
     "ename": "ValueError",
     "evalue": "Pandas data cast to numpy dtype of object. Check input data with np.asarray(data).",
     "output_type": "error",
     "traceback": [
      "\u001b[0;31m---------------------------------------------------------------------------\u001b[0m",
      "\u001b[0;31mValueError\u001b[0m                                Traceback (most recent call last)",
      "Cell \u001b[0;32mIn[71], line 2\u001b[0m\n\u001b[1;32m      1\u001b[0m \u001b[39m# Crear y ajustar el modelo stepwise utilizando forward y backward\u001b[39;00m\n\u001b[0;32m----> 2\u001b[0m logreg_model_stepwise \u001b[39m=\u001b[39m sm\u001b[39m.\u001b[39;49mLogit(y_train, X_train_const)\u001b[39m.\u001b[39mfit(method\u001b[39m=\u001b[39m\u001b[39m'\u001b[39m\u001b[39mbfgs\u001b[39m\u001b[39m'\u001b[39m)\n\u001b[1;32m      4\u001b[0m \u001b[39m# Obtener el resumen del modelo\u001b[39;00m\n\u001b[1;32m      5\u001b[0m \u001b[39mprint\u001b[39m(logreg_model_stepwise\u001b[39m.\u001b[39msummary())\n",
      "File \u001b[0;32m/Library/Frameworks/Python.framework/Versions/3.11/lib/python3.11/site-packages/statsmodels/discrete/discrete_model.py:475\u001b[0m, in \u001b[0;36mBinaryModel.__init__\u001b[0;34m(self, endog, exog, offset, check_rank, **kwargs)\u001b[0m\n\u001b[1;32m    472\u001b[0m \u001b[39mdef\u001b[39;00m \u001b[39m__init__\u001b[39m(\u001b[39mself\u001b[39m, endog, exog, offset\u001b[39m=\u001b[39m\u001b[39mNone\u001b[39;00m, check_rank\u001b[39m=\u001b[39m\u001b[39mTrue\u001b[39;00m, \u001b[39m*\u001b[39m\u001b[39m*\u001b[39mkwargs):\n\u001b[1;32m    473\u001b[0m     \u001b[39m# unconditional check, requires no extra kwargs added by subclasses\u001b[39;00m\n\u001b[1;32m    474\u001b[0m     \u001b[39mself\u001b[39m\u001b[39m.\u001b[39m_check_kwargs(kwargs)\n\u001b[0;32m--> 475\u001b[0m     \u001b[39msuper\u001b[39;49m()\u001b[39m.\u001b[39;49m\u001b[39m__init__\u001b[39;49m(endog, exog, offset\u001b[39m=\u001b[39;49moffset, check_rank\u001b[39m=\u001b[39;49mcheck_rank,\n\u001b[1;32m    476\u001b[0m                      \u001b[39m*\u001b[39;49m\u001b[39m*\u001b[39;49mkwargs)\n\u001b[1;32m    477\u001b[0m     \u001b[39mif\u001b[39;00m \u001b[39mnot\u001b[39;00m \u001b[39missubclass\u001b[39m(\u001b[39mself\u001b[39m\u001b[39m.\u001b[39m\u001b[39m__class__\u001b[39m, MultinomialModel):\n\u001b[1;32m    478\u001b[0m         \u001b[39mif\u001b[39;00m \u001b[39mnot\u001b[39;00m np\u001b[39m.\u001b[39mall((\u001b[39mself\u001b[39m\u001b[39m.\u001b[39mendog \u001b[39m>\u001b[39m\u001b[39m=\u001b[39m \u001b[39m0\u001b[39m) \u001b[39m&\u001b[39m (\u001b[39mself\u001b[39m\u001b[39m.\u001b[39mendog \u001b[39m<\u001b[39m\u001b[39m=\u001b[39m \u001b[39m1\u001b[39m)):\n",
      "File \u001b[0;32m/Library/Frameworks/Python.framework/Versions/3.11/lib/python3.11/site-packages/statsmodels/discrete/discrete_model.py:185\u001b[0m, in \u001b[0;36mDiscreteModel.__init__\u001b[0;34m(self, endog, exog, check_rank, **kwargs)\u001b[0m\n\u001b[1;32m    183\u001b[0m \u001b[39mdef\u001b[39;00m \u001b[39m__init__\u001b[39m(\u001b[39mself\u001b[39m, endog, exog, check_rank\u001b[39m=\u001b[39m\u001b[39mTrue\u001b[39;00m, \u001b[39m*\u001b[39m\u001b[39m*\u001b[39mkwargs):\n\u001b[1;32m    184\u001b[0m     \u001b[39mself\u001b[39m\u001b[39m.\u001b[39m_check_rank \u001b[39m=\u001b[39m check_rank\n\u001b[0;32m--> 185\u001b[0m     \u001b[39msuper\u001b[39;49m()\u001b[39m.\u001b[39;49m\u001b[39m__init__\u001b[39;49m(endog, exog, \u001b[39m*\u001b[39;49m\u001b[39m*\u001b[39;49mkwargs)\n\u001b[1;32m    186\u001b[0m     \u001b[39mself\u001b[39m\u001b[39m.\u001b[39mraise_on_perfect_prediction \u001b[39m=\u001b[39m \u001b[39mFalse\u001b[39;00m  \u001b[39m# keep for backwards compat\u001b[39;00m\n\u001b[1;32m    187\u001b[0m     \u001b[39mself\u001b[39m\u001b[39m.\u001b[39mk_extra \u001b[39m=\u001b[39m \u001b[39m0\u001b[39m\n",
      "File \u001b[0;32m/Library/Frameworks/Python.framework/Versions/3.11/lib/python3.11/site-packages/statsmodels/base/model.py:270\u001b[0m, in \u001b[0;36mLikelihoodModel.__init__\u001b[0;34m(self, endog, exog, **kwargs)\u001b[0m\n\u001b[1;32m    269\u001b[0m \u001b[39mdef\u001b[39;00m \u001b[39m__init__\u001b[39m(\u001b[39mself\u001b[39m, endog, exog\u001b[39m=\u001b[39m\u001b[39mNone\u001b[39;00m, \u001b[39m*\u001b[39m\u001b[39m*\u001b[39mkwargs):\n\u001b[0;32m--> 270\u001b[0m     \u001b[39msuper\u001b[39;49m()\u001b[39m.\u001b[39;49m\u001b[39m__init__\u001b[39;49m(endog, exog, \u001b[39m*\u001b[39;49m\u001b[39m*\u001b[39;49mkwargs)\n\u001b[1;32m    271\u001b[0m     \u001b[39mself\u001b[39m\u001b[39m.\u001b[39minitialize()\n",
      "File \u001b[0;32m/Library/Frameworks/Python.framework/Versions/3.11/lib/python3.11/site-packages/statsmodels/base/model.py:95\u001b[0m, in \u001b[0;36mModel.__init__\u001b[0;34m(self, endog, exog, **kwargs)\u001b[0m\n\u001b[1;32m     93\u001b[0m missing \u001b[39m=\u001b[39m kwargs\u001b[39m.\u001b[39mpop(\u001b[39m'\u001b[39m\u001b[39mmissing\u001b[39m\u001b[39m'\u001b[39m, \u001b[39m'\u001b[39m\u001b[39mnone\u001b[39m\u001b[39m'\u001b[39m)\n\u001b[1;32m     94\u001b[0m hasconst \u001b[39m=\u001b[39m kwargs\u001b[39m.\u001b[39mpop(\u001b[39m'\u001b[39m\u001b[39mhasconst\u001b[39m\u001b[39m'\u001b[39m, \u001b[39mNone\u001b[39;00m)\n\u001b[0;32m---> 95\u001b[0m \u001b[39mself\u001b[39m\u001b[39m.\u001b[39mdata \u001b[39m=\u001b[39m \u001b[39mself\u001b[39;49m\u001b[39m.\u001b[39;49m_handle_data(endog, exog, missing, hasconst,\n\u001b[1;32m     96\u001b[0m                               \u001b[39m*\u001b[39;49m\u001b[39m*\u001b[39;49mkwargs)\n\u001b[1;32m     97\u001b[0m \u001b[39mself\u001b[39m\u001b[39m.\u001b[39mk_constant \u001b[39m=\u001b[39m \u001b[39mself\u001b[39m\u001b[39m.\u001b[39mdata\u001b[39m.\u001b[39mk_constant\n\u001b[1;32m     98\u001b[0m \u001b[39mself\u001b[39m\u001b[39m.\u001b[39mexog \u001b[39m=\u001b[39m \u001b[39mself\u001b[39m\u001b[39m.\u001b[39mdata\u001b[39m.\u001b[39mexog\n",
      "File \u001b[0;32m/Library/Frameworks/Python.framework/Versions/3.11/lib/python3.11/site-packages/statsmodels/base/model.py:135\u001b[0m, in \u001b[0;36mModel._handle_data\u001b[0;34m(self, endog, exog, missing, hasconst, **kwargs)\u001b[0m\n\u001b[1;32m    134\u001b[0m \u001b[39mdef\u001b[39;00m \u001b[39m_handle_data\u001b[39m(\u001b[39mself\u001b[39m, endog, exog, missing, hasconst, \u001b[39m*\u001b[39m\u001b[39m*\u001b[39mkwargs):\n\u001b[0;32m--> 135\u001b[0m     data \u001b[39m=\u001b[39m handle_data(endog, exog, missing, hasconst, \u001b[39m*\u001b[39;49m\u001b[39m*\u001b[39;49mkwargs)\n\u001b[1;32m    136\u001b[0m     \u001b[39m# kwargs arrays could have changed, easier to just attach here\u001b[39;00m\n\u001b[1;32m    137\u001b[0m     \u001b[39mfor\u001b[39;00m key \u001b[39min\u001b[39;00m kwargs:\n",
      "File \u001b[0;32m/Library/Frameworks/Python.framework/Versions/3.11/lib/python3.11/site-packages/statsmodels/base/data.py:675\u001b[0m, in \u001b[0;36mhandle_data\u001b[0;34m(endog, exog, missing, hasconst, **kwargs)\u001b[0m\n\u001b[1;32m    672\u001b[0m     exog \u001b[39m=\u001b[39m np\u001b[39m.\u001b[39masarray(exog)\n\u001b[1;32m    674\u001b[0m klass \u001b[39m=\u001b[39m handle_data_class_factory(endog, exog)\n\u001b[0;32m--> 675\u001b[0m \u001b[39mreturn\u001b[39;00m klass(endog, exog\u001b[39m=\u001b[39;49mexog, missing\u001b[39m=\u001b[39;49mmissing, hasconst\u001b[39m=\u001b[39;49mhasconst,\n\u001b[1;32m    676\u001b[0m              \u001b[39m*\u001b[39;49m\u001b[39m*\u001b[39;49mkwargs)\n",
      "File \u001b[0;32m/Library/Frameworks/Python.framework/Versions/3.11/lib/python3.11/site-packages/statsmodels/base/data.py:84\u001b[0m, in \u001b[0;36mModelData.__init__\u001b[0;34m(self, endog, exog, missing, hasconst, **kwargs)\u001b[0m\n\u001b[1;32m     82\u001b[0m     \u001b[39mself\u001b[39m\u001b[39m.\u001b[39morig_endog \u001b[39m=\u001b[39m endog\n\u001b[1;32m     83\u001b[0m     \u001b[39mself\u001b[39m\u001b[39m.\u001b[39morig_exog \u001b[39m=\u001b[39m exog\n\u001b[0;32m---> 84\u001b[0m     \u001b[39mself\u001b[39m\u001b[39m.\u001b[39mendog, \u001b[39mself\u001b[39m\u001b[39m.\u001b[39mexog \u001b[39m=\u001b[39m \u001b[39mself\u001b[39;49m\u001b[39m.\u001b[39;49m_convert_endog_exog(endog, exog)\n\u001b[1;32m     86\u001b[0m \u001b[39mself\u001b[39m\u001b[39m.\u001b[39mconst_idx \u001b[39m=\u001b[39m \u001b[39mNone\u001b[39;00m\n\u001b[1;32m     87\u001b[0m \u001b[39mself\u001b[39m\u001b[39m.\u001b[39mk_constant \u001b[39m=\u001b[39m \u001b[39m0\u001b[39m\n",
      "File \u001b[0;32m/Library/Frameworks/Python.framework/Versions/3.11/lib/python3.11/site-packages/statsmodels/base/data.py:509\u001b[0m, in \u001b[0;36mPandasData._convert_endog_exog\u001b[0;34m(self, endog, exog)\u001b[0m\n\u001b[1;32m    507\u001b[0m exog \u001b[39m=\u001b[39m exog \u001b[39mif\u001b[39;00m exog \u001b[39mis\u001b[39;00m \u001b[39mNone\u001b[39;00m \u001b[39melse\u001b[39;00m np\u001b[39m.\u001b[39masarray(exog)\n\u001b[1;32m    508\u001b[0m \u001b[39mif\u001b[39;00m endog\u001b[39m.\u001b[39mdtype \u001b[39m==\u001b[39m \u001b[39mobject\u001b[39m \u001b[39mor\u001b[39;00m exog \u001b[39mis\u001b[39;00m \u001b[39mnot\u001b[39;00m \u001b[39mNone\u001b[39;00m \u001b[39mand\u001b[39;00m exog\u001b[39m.\u001b[39mdtype \u001b[39m==\u001b[39m \u001b[39mobject\u001b[39m:\n\u001b[0;32m--> 509\u001b[0m     \u001b[39mraise\u001b[39;00m \u001b[39mValueError\u001b[39;00m(\u001b[39m\"\u001b[39m\u001b[39mPandas data cast to numpy dtype of object. \u001b[39m\u001b[39m\"\u001b[39m\n\u001b[1;32m    510\u001b[0m                      \u001b[39m\"\u001b[39m\u001b[39mCheck input data with np.asarray(data).\u001b[39m\u001b[39m\"\u001b[39m)\n\u001b[1;32m    511\u001b[0m \u001b[39mreturn\u001b[39;00m \u001b[39msuper\u001b[39m(PandasData, \u001b[39mself\u001b[39m)\u001b[39m.\u001b[39m_convert_endog_exog(endog, exog)\n",
      "\u001b[0;31mValueError\u001b[0m: Pandas data cast to numpy dtype of object. Check input data with np.asarray(data)."
     ]
    }
   ],
   "source": [
    "\n",
    "# Crear y ajustar el modelo stepwise utilizando forward y backward\n",
    "logreg_model_stepwise = sm.Logit(y_train, X_train_const).fit(method='bfgs')\n",
    "\n",
    "# Obtener el resumen del modelo\n",
    "print(logreg_model_stepwise.summary())"
   ]
  }
 ],
 "metadata": {
  "kernelspec": {
   "display_name": "Python 3",
   "language": "python",
   "name": "python3"
  },
  "language_info": {
   "codemirror_mode": {
    "name": "ipython",
    "version": 3
   },
   "file_extension": ".py",
   "mimetype": "text/x-python",
   "name": "python",
   "nbconvert_exporter": "python",
   "pygments_lexer": "ipython3",
   "version": "3.11.4"
  },
  "orig_nbformat": 4
 },
 "nbformat": 4,
 "nbformat_minor": 2
}
