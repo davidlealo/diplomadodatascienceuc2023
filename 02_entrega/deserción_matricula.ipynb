{
 "cells": [
  {
   "cell_type": "code",
   "execution_count": 1,
   "metadata": {},
   "outputs": [],
   "source": [
    "import pandas as pd"
   ]
  },
  {
   "attachments": {},
   "cell_type": "markdown",
   "metadata": {},
   "source": [
    "# Filtro desertores sistema regular\n",
    "Deserción del sistema regular: considera a los estudiantes que se salieron del sistema escolar de niños y jóvenes, aun cuando hayan continuado sus estudios en el sistema de adultos. De básica y media."
   ]
  },
  {
   "cell_type": "code",
   "execution_count": null,
   "metadata": {},
   "outputs": [],
   "source": [
    "m2018 = pd.read_csv('data/matriculas/2018/m2018.csv', sep=';')\n",
    "m2019 = pd.read_csv('data/matriculas/2019/m2019.csv', sep=';')"
   ]
  },
  {
   "cell_type": "code",
   "execution_count": 10,
   "metadata": {},
   "outputs": [
    {
     "name": "stderr",
     "output_type": "stream",
     "text": [
      "/var/folders/v5/8__wxdkj3j713bygpr1tsw_80000gn/T/ipykernel_40690/2459097288.py:1: DtypeWarning: Columns (26) have mixed types. Specify dtype option on import or set low_memory=False.\n",
      "  m2018 = pd.read_csv('data/matriculas/2018/m2018.csv', sep=';')\n",
      "/var/folders/v5/8__wxdkj3j713bygpr1tsw_80000gn/T/ipykernel_40690/2459097288.py:2: DtypeWarning: Columns (27) have mixed types. Specify dtype option on import or set low_memory=False.\n",
      "  m2019 = pd.read_csv('data/matriculas/2019/m2019.csv', sep=';')\n"
     ]
    }
   ],
   "source": [
    "m2018 = pd.read_csv('data/matriculas/2018/m2018.csv', sep=';')\n",
    "m2019 = pd.read_csv('data/matriculas/2019/m2019.csv', sep=';')\n",
    "\n",
    "def identificar_desertores_sistema_regular(df_anterior, df_posterior):\n",
    "    # Filtrar los estudiantes que no son prebásica o de educación para adultos\n",
    "    desertores = df_anterior[(~df_anterior['COD_ENSE2'].isin([1, 3, 4, 6, 8]))]\n",
    "    print(\"Desertores sin prebasica y adultos\",desertores.sum())\n",
    "\n",
    "    # Filtrar los estudiantes que no asisten a 4to medio el año a analizar\n",
    "    desertores = desertores[((desertores['COD_GRADO'] == 4) & (df_anterior['COD_ENSE2'].isin([5, 7]))) & ~(desertores['COD_GRADO'] > 9)]\n",
    "    print(\"Desertores sin 4to medio\", desertores.sum())\n",
    "\n",
    "    # Filtrar a los estudiantes df_posterior que no están en 'COD_ENSE2' 1, 3, 4, 6 y 8\n",
    "    df_posterior = df_posterior[df_posterior['COD_ENSE2'].isin([1, 3, 4, 6, 8])]\n",
    "    print(df_posterior.shape)\n",
    "\n",
    "    # Verificar si los estudiantes están presentes en el archivo actual\n",
    "    desertores = desertores[~desertores['MRUN'].isin(df_posterior['MRUN'].unique())]\n",
    "\n",
    "    # Devolver el resultado como DataFrame de Pandas\n",
    "    return desertores\n",
    "\n",
    "desertores_2018 = identificar_desertores_sistema_regular(m2018, m2019)\n",
    "print(desertores_2018.shape)"
   ]
  }
 ],
 "metadata": {
  "kernelspec": {
   "display_name": ".venv",
   "language": "python",
   "name": "python3"
  },
  "language_info": {
   "codemirror_mode": {
    "name": "ipython",
    "version": 3
   },
   "file_extension": ".py",
   "mimetype": "text/x-python",
   "name": "python",
   "nbconvert_exporter": "python",
   "pygments_lexer": "ipython3",
   "version": "3.9.6"
  },
  "orig_nbformat": 4
 },
 "nbformat": 4,
 "nbformat_minor": 2
}
