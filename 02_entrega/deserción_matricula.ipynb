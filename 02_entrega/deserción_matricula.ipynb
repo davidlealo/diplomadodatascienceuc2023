{
 "cells": [
  {
   "cell_type": "code",
   "execution_count": 2,
   "metadata": {},
   "outputs": [],
   "source": [
    "import pandas as pd"
   ]
  },
  {
   "cell_type": "code",
   "execution_count": 55,
   "metadata": {},
   "outputs": [],
   "source": [
    "import matplotlib.pyplot as plt"
   ]
  },
  {
   "attachments": {},
   "cell_type": "markdown",
   "metadata": {},
   "source": [
    "# Filtro desertores sistema regular\n",
    "Deserción del sistema regular: considera a los estudiantes que se salieron del sistema escolar de niños y jóvenes, aun cuando hayan continuado sus estudios en el sistema de adultos. De básica y media."
   ]
  },
  {
   "cell_type": "code",
   "execution_count": 3,
   "metadata": {},
   "outputs": [
    {
     "name": "stderr",
     "output_type": "stream",
     "text": [
      "/var/folders/v5/8__wxdkj3j713bygpr1tsw_80000gn/T/ipykernel_41580/3969867569.py:1: DtypeWarning: Columns (26) have mixed types. Specify dtype option on import or set low_memory=False.\n",
      "  m2018 = pd.read_csv('data/matriculas/2018/m2018.csv', sep=';')\n",
      "/var/folders/v5/8__wxdkj3j713bygpr1tsw_80000gn/T/ipykernel_41580/3969867569.py:2: DtypeWarning: Columns (27) have mixed types. Specify dtype option on import or set low_memory=False.\n",
      "  m2019 = pd.read_csv('data/matriculas/2019/m2019.csv', sep=';')\n"
     ]
    }
   ],
   "source": [
    "m2018 = pd.read_csv('data/matriculas/2018/m2018.csv', sep=';')\n",
    "m2019 = pd.read_csv('data/matriculas/2019/m2019.csv', sep=';')"
   ]
  },
  {
   "cell_type": "code",
   "execution_count": 53,
   "metadata": {},
   "outputs": [
    {
     "name": "stderr",
     "output_type": "stream",
     "text": [
      "/var/folders/v5/8__wxdkj3j713bygpr1tsw_80000gn/T/ipykernel_41580/3495174355.py:8: UserWarning: Boolean Series key will be reindexed to match DataFrame index.\n",
      "  desertores = desertores[~((desertores['COD_GRADO'] == 4) & (df_anterior['COD_ENSE2'].isin([5, 7])))]\n"
     ]
    },
    {
     "name": "stdout",
     "output_type": "stream",
     "text": [
      "Sexo [2018] - [2019]\n"
     ]
    },
    {
     "data": {
      "text/html": [
       "<div>\n",
       "<style scoped>\n",
       "    .dataframe tbody tr th:only-of-type {\n",
       "        vertical-align: middle;\n",
       "    }\n",
       "\n",
       "    .dataframe tbody tr th {\n",
       "        vertical-align: top;\n",
       "    }\n",
       "\n",
       "    .dataframe thead th {\n",
       "        text-align: right;\n",
       "    }\n",
       "</style>\n",
       "<table border=\"1\" class=\"dataframe\">\n",
       "  <thead>\n",
       "    <tr style=\"text-align: right;\">\n",
       "      <th></th>\n",
       "      <th>Sexo</th>\n",
       "      <th>Cantidad A. Regulares</th>\n",
       "      <th>Porcentaje A. Regulares</th>\n",
       "      <th>Cantidad A. Desertores</th>\n",
       "      <th>Porcentaje A. Desertores</th>\n",
       "    </tr>\n",
       "  </thead>\n",
       "  <tbody>\n",
       "    <tr>\n",
       "      <th>0</th>\n",
       "      <td>Sin información</td>\n",
       "      <td>3</td>\n",
       "      <td>0.000106</td>\n",
       "      <td>0</td>\n",
       "      <td>0.000000</td>\n",
       "    </tr>\n",
       "    <tr>\n",
       "      <th>1</th>\n",
       "      <td>Hombre</td>\n",
       "      <td>1442524</td>\n",
       "      <td>50.881981</td>\n",
       "      <td>45903</td>\n",
       "      <td>57.705507</td>\n",
       "    </tr>\n",
       "    <tr>\n",
       "      <th>2</th>\n",
       "      <td>Mujer</td>\n",
       "      <td>1392512</td>\n",
       "      <td>49.117913</td>\n",
       "      <td>33644</td>\n",
       "      <td>42.294493</td>\n",
       "    </tr>\n",
       "  </tbody>\n",
       "</table>\n",
       "</div>"
      ],
      "text/plain": [
       "              Sexo  Cantidad A. Regulares  Porcentaje A. Regulares  \\\n",
       "0  Sin información                      3                 0.000106   \n",
       "1           Hombre                1442524                50.881981   \n",
       "2            Mujer                1392512                49.117913   \n",
       "\n",
       "   Cantidad A. Desertores  Porcentaje A. Desertores  \n",
       "0                       0                  0.000000  \n",
       "1                   45903                 57.705507  \n",
       "2                   33644                 42.294493  "
      ]
     },
     "metadata": {},
     "output_type": "display_data"
    }
   ],
   "source": [
    "\n",
    "\n",
    "def identificar_desertores_sistema_regular(df_anterior, df_posterior):\n",
    "    # Filtrar los estudiantes que no son prebásica o de educación para adultos\n",
    "    desertores = df_anterior[(~df_anterior['COD_ENSE2'].isin([1, 3, 4, 6, 8]))]\n",
    "    # print(\"Estudiantes regulares sin prebasica y adultos año anterior\",desertores.shape)\n",
    "\n",
    "\n",
    "    # Filtrar los estudiantes que no asisten a 4to medio el año a analizar\n",
    "    desertores = desertores[~((desertores['COD_GRADO'] == 4) & (df_anterior['COD_ENSE2'].isin([5, 7])))]\n",
    "    # print(\"Desertores sin 4to medio año anterior\", desertores.shape)\n",
    "\n",
    "    # Filtrar a los estudiantes df_posterior que no están en 'COD_ENSE2' 1, 3, 4, 6 y 8\n",
    "    df_posterior = df_posterior[(~df_posterior['COD_ENSE2'].isin([1, 3, 4, 6, 8]))]\n",
    "    # print(\"Estudiantes sistema regular año posterior\",df_posterior.shape)\n",
    "\n",
    "    # Verificar si los estudiantes están presentes en el archivo actual\n",
    "    desertores = desertores[~desertores['MRUN'].isin(df_posterior['MRUN'].unique())]\n",
    "    # print(\"Desertores año a analizar\", desertores.shape)\n",
    "    \n",
    "    # Estudiantes que se mantienen en el sistema regular\n",
    "    estudiantes_regulares = df_posterior[df_posterior['MRUN'].isin(df_anterior['MRUN'].unique())]\n",
    "    # print(\"Estudiantes regulares año a analizar\", estudiantes_regulares.shape)\n",
    "\n",
    "\n",
    "    # Devolver el resultado como DataFrame de Pandas\n",
    "    # desertores\n",
    "    # Sexo DataFrame\n",
    "    df_genero = pd.DataFrame()\n",
    "    print('Sexo', df_anterior['AGNO'].unique(),\"-\", df_posterior['AGNO'].unique())\n",
    "    df_genero['Sexo'] = ['Sin información', 'Hombre', 'Mujer']\n",
    "    df_genero['Cantidad A. Regulares'] = [((estudiantes_regulares['GEN_ALU'] == 0).sum()), \n",
    "                          ((estudiantes_regulares['GEN_ALU'] == 1).sum()), \n",
    "                          ((estudiantes_regulares['GEN_ALU'] == 2).sum())]\n",
    "    df_genero['Porcentaje A. Regulares'] = [((estudiantes_regulares['GEN_ALU'] == 0).sum()) / len(estudiantes_regulares) * 100,\n",
    "                            ((estudiantes_regulares['GEN_ALU'] == 1).sum()) / len(estudiantes_regulares) * 100,\n",
    "                            ((estudiantes_regulares['GEN_ALU'] == 2).sum()) / len(estudiantes_regulares) * 100]\n",
    "    df_genero['Cantidad A. Desertores'] = [((desertores['GEN_ALU'] == 0).sum()), \n",
    "                          ((desertores['GEN_ALU'] == 1).sum()), \n",
    "                          ((desertores['GEN_ALU'] == 2).sum())]\n",
    "    df_genero['Porcentaje A. Desertores'] = [((desertores['GEN_ALU'] == 0).sum()) / len(desertores) * 100,\n",
    "                            ((desertores['GEN_ALU'] == 1).sum()) / len(desertores) * 100,\n",
    "                            ((desertores['GEN_ALU'] == 2).sum()) / len(desertores) * 100]\n",
    "    \n",
    "    display(df_genero)\n",
    "\n",
    "\n",
    "identificar_desertores_sistema_regular(m2018, m2019)"
   ]
  },
  {
   "cell_type": "code",
   "execution_count": 50,
   "metadata": {},
   "outputs": [
    {
     "data": {
      "text/plain": [
       "102.80574600000001"
      ]
     },
     "execution_count": 50,
     "metadata": {},
     "output_type": "execute_result"
    }
   ],
   "source": [
    "50.881981+49.117913+1.619131+1.186721"
   ]
  }
 ],
 "metadata": {
  "kernelspec": {
   "display_name": ".venv",
   "language": "python",
   "name": "python3"
  },
  "language_info": {
   "codemirror_mode": {
    "name": "ipython",
    "version": 3
   },
   "file_extension": ".py",
   "mimetype": "text/x-python",
   "name": "python",
   "nbconvert_exporter": "python",
   "pygments_lexer": "ipython3",
   "version": "3.9.6"
  },
  "orig_nbformat": 4
 },
 "nbformat": 4,
 "nbformat_minor": 2
}
